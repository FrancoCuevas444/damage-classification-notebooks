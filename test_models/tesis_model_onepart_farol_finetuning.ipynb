{
 "cells": [
  {
   "cell_type": "markdown",
   "id": "14008902-6e3e-4112-bafa-9b3a9d5f2529",
   "metadata": {
    "tags": []
   },
   "source": [
    "## Introducción\n",
    "\n",
    "Entrenamiento de modelo preentrenado para resolver el problema de predecir el ángulo del auto en base a la imagen.\n",
    "\n",
    "Fuertemente basado en:\n",
    "- https://towardsdatascience.com/a-practical-example-in-transfer-learning-with-pytorch-846bb835f2db\n",
    "- https://pytorch.org/tutorials/beginner/transfer_learning_tutorial.html "
   ]
  },
  {
   "cell_type": "markdown",
   "id": "86f16c12-cf8c-4db2-9d6d-c0b99b03efcd",
   "metadata": {},
   "source": [
    "## Imports"
   ]
  },
  {
   "cell_type": "code",
   "execution_count": 1,
   "id": "77316db9-9ea9-4fb0-9b5c-fbfff89a2e0d",
   "metadata": {
    "tags": []
   },
   "outputs": [
    {
     "data": {
      "text/plain": [
       "<module 'metrics_helper' from '/Users/fcuevas/Documents/fing/tesis/jupyters/metrics_helper.py'>"
      ]
     },
     "execution_count": 1,
     "metadata": {},
     "output_type": "execute_result"
    }
   ],
   "source": [
    "import torch\n",
    "import torch.optim as optim\n",
    "import torch.nn.functional as F\n",
    "import torchvision\n",
    "import torchvision.datasets as datasets\n",
    "import torchvision.models as models\n",
    "import torchvision.transforms as transforms\n",
    "from torchmetrics import MetricCollection, Accuracy, Precision, Recall, F1, ConfusionMatrix\n",
    "import pandas as pd\n",
    "import sklearn\n",
    "from torch.utils.tensorboard import SummaryWriter\n",
    "\n",
    "from datetime import datetime\n",
    "import os\n",
    "\n",
    "import importlib\n",
    "import training_helper\n",
    "from dataset_modules.one_part_dataset import OnePartDataset\n",
    "import metrics_helper\n",
    "\n",
    "importlib.reload(training_helper)\n",
    "importlib.reload(metrics_helper)"
   ]
  },
  {
   "cell_type": "markdown",
   "id": "7689a1f9-cd38-4223-b0dd-84f6a81b2f16",
   "metadata": {},
   "source": [
    "## Variables"
   ]
  },
  {
   "cell_type": "code",
   "execution_count": 2,
   "id": "39af4ad1-f511-49a7-afff-d3cb96f91846",
   "metadata": {},
   "outputs": [],
   "source": [
    "MODEL_NAME = \"one_part_model\"\n",
    "EXPERIMENT_NAME = \"alexnet_faroldelder_fine_tuning_newdata\"\n",
    "FEATURE_EXTRACTION = False\n",
    "\n",
    "device_string = \"cuda\" if torch.cuda.is_available() else \"cpu\"\n",
    "device = torch.device(device_string)\n",
    "\n",
    "if device_string == \"cuda\":\n",
    "    print(\"Usando GPU!\")"
   ]
  },
  {
   "cell_type": "code",
   "execution_count": 3,
   "id": "f74e279b-ef85-4996-a468-3d9d88a94eef",
   "metadata": {},
   "outputs": [],
   "source": [
    "os.makedirs(os.path.dirname(\"./trained_models/{}/{}/asd.txt\".format(MODEL_NAME, EXPERIMENT_NAME)), exist_ok=True)"
   ]
  },
  {
   "cell_type": "markdown",
   "id": "4bda96ff-2ee1-4333-9185-929c4ac7aaa5",
   "metadata": {
    "tags": []
   },
   "source": [
    "## Dataset\n",
    "\n",
    "Se crea un dataset de tipo `ImageFolder` que se toma de la carpeta `dataset`, donde cada subcarpeta es una de las categorías a entrenar. \n",
    "\n",
    "Automáticamente mapea categorías a números `dataset.class_to_idx`.\n",
    "\n",
    "Finalmente se hace el split en train y test en 80/20."
   ]
  },
  {
   "cell_type": "code",
   "execution_count": 4,
   "id": "5b1ed65c-a40d-4333-b362-55095ac2704d",
   "metadata": {
    "tags": []
   },
   "outputs": [
    {
     "name": "stdout",
     "output_type": "stream",
     "text": [
      "----- CLASS DISTRIBUTION -----\n",
      "Class: farol_delantero_derecho_sano, #674, 50.75%\n",
      "Class: no_farol_delantero_derecho, #438, 32.98%\n",
      "Class: farol_delantero_derecho_roto, #216, 16.27%\n"
     ]
    }
   ],
   "source": [
    "dataset = OnePartDataset(\n",
    "    \"Farol Delantero Derecho\",\n",
    "    transform=transforms.Compose([\n",
    "        transforms.ColorJitter(0.1, 0.1, 0.1, 0.1),\n",
    "        transforms.Resize((224, 224)),\n",
    "        transforms.ToTensor(),\n",
    "        transforms.Normalize([0.485, 0.456, 0.406], [0.229, 0.224, 0.225])\n",
    "    ])\n",
    ")\n",
    "\n",
    "train_size = int(0.8 * len(dataset))\n",
    "test_size = len(dataset) - train_size\n",
    "train_dataset, test_dataset = torch.utils.data.random_split(dataset, [train_size, test_size], generator=torch.Generator().manual_seed(42))\n",
    "\n",
    "classes = dataset.classes\n",
    "\n",
    "dataset_sizes = {\n",
    "    'train': len(train_dataset),\n",
    "    'test': len(test_dataset)\n",
    "}"
   ]
  },
  {
   "cell_type": "code",
   "execution_count": 15,
   "id": "60f7eb48-1bb5-49e3-82da-3ffd9c9a57ef",
   "metadata": {
    "collapsed": true,
    "jupyter": {
     "outputs_hidden": true
    },
    "tags": []
   },
   "outputs": [
    {
     "data": {
      "text/plain": [
       "(tensor([[[-1.6555, -1.5528, -1.7240,  ..., -1.2788, -1.2617, -1.3302],\n",
       "          [-1.6384, -1.5357, -1.7412,  ..., -1.3130, -1.2617, -1.3302],\n",
       "          [-1.6213, -1.5014, -1.7069,  ..., -1.3130, -1.2788, -1.2788],\n",
       "          ...,\n",
       "          [-1.4158, -1.4843, -1.3644,  ...,  0.5878,  0.5707,  0.4679],\n",
       "          [-1.4843, -1.4158, -1.4843,  ...,  0.4679,  0.5364,  0.5364],\n",
       "          [-1.4158, -1.4500, -1.5014,  ...,  0.4166,  0.3823,  0.3823]],\n",
       " \n",
       "         [[-1.6856, -1.5630, -1.7381,  ..., -1.3179, -1.3529, -1.4580],\n",
       "          [-1.6681, -1.5630, -1.7381,  ..., -1.3354, -1.3704, -1.4405],\n",
       "          [-1.6506, -1.5105, -1.7031,  ..., -1.3529, -1.3704, -1.4055],\n",
       "          ...,\n",
       "          [-1.2129, -1.2829, -1.1779,  ...,  0.4503,  0.4153,  0.3277],\n",
       "          [-1.2654, -1.2129, -1.3354,  ...,  0.3102,  0.3978,  0.4328],\n",
       "          [-1.1954, -1.2479, -1.3880,  ...,  0.2927,  0.2577,  0.2577]],\n",
       " \n",
       "         [[-1.7173, -1.5953, -1.6650,  ..., -1.3339, -1.3513, -1.4384],\n",
       "          [-1.6999, -1.5953, -1.6650,  ..., -1.3687, -1.3513, -1.4384],\n",
       "          [-1.6824, -1.5430, -1.6127,  ..., -1.3687, -1.3513, -1.3861],\n",
       "          ...,\n",
       "          [-1.6650, -1.6650, -1.6127,  ...,  0.4439,  0.4091,  0.3219],\n",
       "          [-1.6302, -1.5430, -1.6999,  ...,  0.3045,  0.3742,  0.4091],\n",
       "          [-1.5256, -1.5953, -1.6476,  ...,  0.3045,  0.2696,  0.2696]]]),\n",
       " 1,\n",
       " 'M204933/M204933001.jpg')"
      ]
     },
     "execution_count": 15,
     "metadata": {},
     "output_type": "execute_result"
    }
   ],
   "source": [
    "dataset[0]"
   ]
  },
  {
   "cell_type": "markdown",
   "id": "1cf99192-6af0-42d5-8bfe-21eded216cad",
   "metadata": {
    "tags": []
   },
   "source": [
    "## Loaders\n",
    "Luego, se crean loaders para cada uno de los conjuntos. Los loaders permiten procesar los datos de a batches."
   ]
  },
  {
   "cell_type": "code",
   "execution_count": 5,
   "id": "d53518f5-cf88-4d5b-865b-4a173e0b7d96",
   "metadata": {},
   "outputs": [],
   "source": [
    "train_loader = torch.utils.data.DataLoader(\n",
    "    train_dataset,\n",
    "    batch_size=16,\n",
    "    shuffle=True,\n",
    "    num_workers=4\n",
    ")\n",
    "\n",
    "test_loader = torch.utils.data.DataLoader(\n",
    "    test_dataset,\n",
    "    batch_size=16,\n",
    "    shuffle=True,\n",
    "    num_workers=4\n",
    ")\n",
    "\n",
    "dataloaders = {\n",
    "    'train': train_loader,\n",
    "    'test': test_loader\n",
    "}"
   ]
  },
  {
   "cell_type": "markdown",
   "id": "eb7bcfec-2b9a-4b27-97d1-991c2eaab42e",
   "metadata": {
    "tags": []
   },
   "source": [
    "## Entrenamiento\n",
    "\n",
    "En este step se carga el modelo pre-entrenado. Para este ejemplo se utiliza el modelo alexnet por su simplicidad."
   ]
  },
  {
   "cell_type": "markdown",
   "id": "3be52f59-d26d-46ee-81c0-2a5c037de937",
   "metadata": {
    "tags": []
   },
   "source": [
    "#### ¿Finetuning o Feature extraction?\n",
    "\n",
    "- **Finetuning:** Consiste en incializar la red con los pesos pre-entrenados, y re-entrenar toda la red (ajustar los parámetros de todas las capas) con el dataset custom.\n",
    "- **Feature extraction:** La diferencia con lo anterior es que se congelan las capas convolucionales, de modo que el entrenamiento no las cambie con nuestros datos.\n",
    "\n",
    "En ambos casos pisamos la capa de **clasificador** por una capa nueva con 8 categorías, porque el modelo pre-entrenado tiene 1000 labels."
   ]
  },
  {
   "cell_type": "code",
   "execution_count": 6,
   "id": "f979bc03-3c5e-4c3b-939e-662d6309283d",
   "metadata": {},
   "outputs": [
    {
     "name": "stdout",
     "output_type": "stream",
     "text": [
      "AlexNet(\n",
      "  (features): Sequential(\n",
      "    (0): Conv2d(3, 64, kernel_size=(11, 11), stride=(4, 4), padding=(2, 2))\n",
      "    (1): ReLU(inplace=True)\n",
      "    (2): MaxPool2d(kernel_size=3, stride=2, padding=0, dilation=1, ceil_mode=False)\n",
      "    (3): Conv2d(64, 192, kernel_size=(5, 5), stride=(1, 1), padding=(2, 2))\n",
      "    (4): ReLU(inplace=True)\n",
      "    (5): MaxPool2d(kernel_size=3, stride=2, padding=0, dilation=1, ceil_mode=False)\n",
      "    (6): Conv2d(192, 384, kernel_size=(3, 3), stride=(1, 1), padding=(1, 1))\n",
      "    (7): ReLU(inplace=True)\n",
      "    (8): Conv2d(384, 256, kernel_size=(3, 3), stride=(1, 1), padding=(1, 1))\n",
      "    (9): ReLU(inplace=True)\n",
      "    (10): Conv2d(256, 256, kernel_size=(3, 3), stride=(1, 1), padding=(1, 1))\n",
      "    (11): ReLU(inplace=True)\n",
      "    (12): MaxPool2d(kernel_size=3, stride=2, padding=0, dilation=1, ceil_mode=False)\n",
      "  )\n",
      "  (avgpool): AdaptiveAvgPool2d(output_size=(6, 6))\n",
      "  (classifier): Sequential(\n",
      "    (0): Dropout(p=0.5, inplace=False)\n",
      "    (1): Linear(in_features=9216, out_features=4096, bias=True)\n",
      "    (2): ReLU(inplace=True)\n",
      "    (3): Dropout(p=0.5, inplace=False)\n",
      "    (4): Linear(in_features=4096, out_features=4096, bias=True)\n",
      "    (5): ReLU(inplace=True)\n",
      "    (6): Linear(in_features=4096, out_features=3, bias=True)\n",
      "  )\n",
      ")\n"
     ]
    }
   ],
   "source": [
    "model = models.alexnet(pretrained=True)\n",
    "\n",
    "NUM_CLASSES = len(classes)\n",
    "\n",
    "if FEATURE_EXTRACTION:\n",
    "    for param in model.parameters():\n",
    "        param.requires_grad = False\n",
    "\n",
    "model.classifier[6] = torch.nn.Linear(model.classifier[6].in_features, NUM_CLASSES)\n",
    "model = model.to(device)\n",
    "\n",
    "# Tensorboard metrics writer\n",
    "writer = SummaryWriter(log_dir='./trained_models/{}/tensorboard/{}'.format(MODEL_NAME, EXPERIMENT_NAME + '-' + datetime.now().strftime(\"%Y%m%d-%H%M%S\")))\n",
    "\n",
    "# Función de error\n",
    "criterion = F.cross_entropy\n",
    "\n",
    "# Optimizador\n",
    "parameters_to_update = model.parameters()\n",
    "\n",
    "if FEATURE_EXTRACTION:\n",
    "    parameters_to_update = model.classifier[6].parameters()\n",
    "\n",
    "optimizer = optim.SGD(parameters_to_update, lr=0.001, momentum=0.9)\n",
    "print(model)"
   ]
  },
  {
   "cell_type": "code",
   "execution_count": 7,
   "id": "29bad071-f55b-4dd0-a0ac-23419dbd48d6",
   "metadata": {
    "tags": []
   },
   "outputs": [
    {
     "name": "stdout",
     "output_type": "stream",
     "text": [
      "Epoch 0/6\n",
      "----------\n",
      "train Loss: 0.9666 Main metric (macro_f1): 0.4688 Time: 97.77s\n",
      "------------------------- GENERAL METRICS -------------------------\n",
      "\n",
      "Loss 0.9666256680663696\n",
      "Micro Accuracy 0.5828624963760376\n",
      "Macro Accuracy 0.46881699562072754\n",
      "Macro Precision 0.47729921340942383\n",
      "Macro Recall 0.46881699562072754\n",
      "Macro F1 0.46881699562072754\n",
      "\n",
      "test Loss: 0.7377 Main metric (macro_f1): 0.5534 Time: 41.28s\n",
      "------------------------- GENERAL METRICS -------------------------\n",
      "\n",
      "Loss 0.7377296650320068\n",
      "Micro Accuracy 0.7030075192451477\n",
      "Macro Accuracy 0.5534090399742126\n",
      "Macro Precision 0.47890791296958923\n",
      "Macro Recall 0.5534090399742126\n",
      "Macro F1 0.5534090399742126\n",
      "\n",
      "\n",
      "Epoch 1/6\n",
      "----------\n",
      "train Loss: 0.5968 Main metric (macro_f1): 0.6320 Time: 94.58s\n",
      "------------------------- GENERAL METRICS -------------------------\n",
      "\n",
      "Loss 0.5967696490373091\n",
      "Micro Accuracy 0.7570621371269226\n",
      "Macro Accuracy 0.6320322751998901\n",
      "Macro Precision 0.699255108833313\n",
      "Macro Recall 0.6320322751998901\n",
      "Macro F1 0.6320322751998901\n",
      "\n",
      "test Loss: 0.6356 Main metric (macro_f1): 0.5912 Time: 42.53s\n",
      "------------------------- GENERAL METRICS -------------------------\n",
      "\n",
      "Loss 0.635574594028014\n",
      "Micro Accuracy 0.7481203079223633\n",
      "Macro Accuracy 0.5912420749664307\n",
      "Macro Precision 0.5131847262382507\n",
      "Macro Recall 0.5912420749664307\n",
      "Macro F1 0.5912420749664307\n",
      "\n",
      "\n",
      "Epoch 2/6\n",
      "----------\n",
      "train Loss: 0.4746 Main metric (macro_f1): 0.7152 Time: 97.65s\n",
      "------------------------- GENERAL METRICS -------------------------\n",
      "\n",
      "Loss 0.4745504287003124\n",
      "Micro Accuracy 0.8145009279251099\n",
      "Macro Accuracy 0.7151721715927124\n",
      "Macro Precision 0.7730715274810791\n",
      "Macro Recall 0.7151721715927124\n",
      "Macro F1 0.7151721715927124\n",
      "\n",
      "test Loss: 0.6710 Main metric (macro_f1): 0.5950 Time: 42.50s\n",
      "------------------------- GENERAL METRICS -------------------------\n",
      "\n",
      "Loss 0.6709782185411095\n",
      "Micro Accuracy 0.7518796920776367\n",
      "Macro Accuracy 0.5950464606285095\n",
      "Macro Precision 0.6283738613128662\n",
      "Macro Recall 0.5950464606285095\n",
      "Macro F1 0.5950464606285095\n",
      "\n",
      "\n",
      "Epoch 3/6\n",
      "----------\n",
      "train Loss: 0.3867 Main metric (macro_f1): 0.7594 Time: 97.02s\n",
      "------------------------- GENERAL METRICS -------------------------\n",
      "\n",
      "Loss 0.3867443024607028\n",
      "Micro Accuracy 0.8380414247512817\n",
      "Macro Accuracy 0.7594261169433594\n",
      "Macro Precision 0.7988749146461487\n",
      "Macro Recall 0.7594261169433594\n",
      "Macro F1 0.7594261169433594\n",
      "\n",
      "test Loss: 0.5986 Main metric (macro_f1): 0.6241 Time: 42.72s\n",
      "------------------------- GENERAL METRICS -------------------------\n",
      "\n",
      "Loss 0.5985729185710276\n",
      "Micro Accuracy 0.7744361162185669\n",
      "Macro Accuracy 0.624120831489563\n",
      "Macro Precision 0.7087646722793579\n",
      "Macro Recall 0.624120831489563\n",
      "Macro F1 0.624120831489563\n",
      "\n",
      "\n",
      "Epoch 4/6\n",
      "----------\n",
      "train Loss: 0.3131 Main metric (macro_f1): 0.8113 Time: 98.28s\n",
      "------------------------- GENERAL METRICS -------------------------\n",
      "\n",
      "Loss 0.3131149496511326\n",
      "Micro Accuracy 0.8700565099716187\n",
      "Macro Accuracy 0.811294436454773\n",
      "Macro Precision 0.8446311950683594\n",
      "Macro Recall 0.811294436454773\n",
      "Macro F1 0.811294436454773\n",
      "\n",
      "test Loss: 0.7005 Main metric (macro_f1): 0.6039 Time: 41.39s\n",
      "------------------------- GENERAL METRICS -------------------------\n",
      "\n",
      "Loss 0.7005374162716973\n",
      "Micro Accuracy 0.7142857313156128\n",
      "Macro Accuracy 0.6039412021636963\n",
      "Macro Precision 0.6332701444625854\n",
      "Macro Recall 0.6039412021636963\n",
      "Macro F1 0.6039412021636963\n",
      "\n",
      "\n",
      "Epoch 5/6\n",
      "----------\n",
      "train Loss: 0.2484 Main metric (macro_f1): 0.8606 Time: 94.86s\n",
      "------------------------- GENERAL METRICS -------------------------\n",
      "\n",
      "Loss 0.24835038732337414\n",
      "Micro Accuracy 0.903954803943634\n",
      "Macro Accuracy 0.8605988025665283\n",
      "Macro Precision 0.8902745246887207\n",
      "Macro Recall 0.8605988025665283\n",
      "Macro F1 0.8605988025665283\n",
      "\n",
      "test Loss: 0.6778 Main metric (macro_f1): 0.6464 Time: 43.18s\n",
      "------------------------- GENERAL METRICS -------------------------\n",
      "\n",
      "Loss 0.6778147659803692\n",
      "Micro Accuracy 0.7142857313156128\n",
      "Macro Accuracy 0.6464296579360962\n",
      "Macro Precision 0.6442519426345825\n",
      "Macro Recall 0.6464296579360962\n",
      "Macro F1 0.6464296579360962\n",
      "\n",
      "\n",
      "Epoch 6/6\n",
      "----------\n",
      "train Loss: 0.2047 Main metric (macro_f1): 0.8901 Time: 95.77s\n",
      "------------------------- GENERAL METRICS -------------------------\n",
      "\n",
      "Loss 0.20473145203850812\n",
      "Micro Accuracy 0.9209039807319641\n",
      "Macro Accuracy 0.8901320099830627\n",
      "Macro Precision 0.9054743051528931\n",
      "Macro Recall 0.8901320099830627\n",
      "Macro F1 0.8901320099830627\n",
      "\n",
      "test Loss: 0.7040 Main metric (macro_f1): 0.6198 Time: 43.28s\n",
      "------------------------- GENERAL METRICS -------------------------\n",
      "\n",
      "Loss 0.7039674399490643\n",
      "Micro Accuracy 0.7593985199928284\n",
      "Macro Accuracy 0.6197739839553833\n",
      "Macro Precision 0.6426461338996887\n",
      "Macro Recall 0.6197739839553833\n",
      "Macro F1 0.6197739839553833\n",
      "\n",
      "\n",
      "Training complete in 16m 14s\n",
      "Best test main metric: 0.646430\n"
     ]
    }
   ],
   "source": [
    "model = training_helper.train_model(\n",
    "    model, \n",
    "    criterion, \n",
    "    optimizer, \n",
    "    dataloaders, \n",
    "    dataset_sizes, \n",
    "    device, \n",
    "    writer, \n",
    "    NUM_CLASSES,\n",
    "    'trained_models/{}/{}'.format(MODEL_NAME, EXPERIMENT_NAME),\n",
    "    main_metric='macro_f1', \n",
    "    num_epochs=7\n",
    ")"
   ]
  },
  {
   "cell_type": "code",
   "execution_count": 8,
   "id": "1ed16a25-64c7-4c77-bc4c-f7d720b10ed0",
   "metadata": {
    "tags": []
   },
   "outputs": [],
   "source": [
    "BEST_MODEL_PATH = './trained_models/{}/{}/best_model.pth'.format(MODEL_NAME, EXPERIMENT_NAME)\n",
    "os.makedirs(os.path.dirname(BEST_MODEL_PATH), exist_ok=True)\n",
    "torch.save(model.state_dict(), BEST_MODEL_PATH)"
   ]
  },
  {
   "cell_type": "markdown",
   "id": "50e0cc79-c8f8-45ee-9c14-5c5596ac46f5",
   "metadata": {},
   "source": [
    "## Evaluación final"
   ]
  },
  {
   "cell_type": "code",
   "execution_count": 9,
   "id": "e1a74753-1983-4a76-bb21-edcaee378a32",
   "metadata": {},
   "outputs": [],
   "source": [
    "from dataset_modules.common import pil_loader\n",
    "model.load_state_dict(torch.load(BEST_MODEL_PATH))\n",
    "model.eval()\n",
    "\n",
    "metrics = metrics_helper.init_metrics(device, NUM_CLASSES)\n",
    "tensorboard_transforms = transforms.Compose([\n",
    "    transforms.ToTensor()\n",
    "])\n",
    "\n",
    "total_loss = 0.0\n",
    "\n",
    "for i, (images, labels, imgs_path) in enumerate(test_loader):\n",
    "    images = images.to(device)\n",
    "    labels = labels.to(device)\n",
    "    \n",
    "    with torch.no_grad():\n",
    "        outputs = model(images)\n",
    "        metrics(outputs, labels)\n",
    "        \n",
    "        predictions = torch.argmax(outputs, dim=1)\n",
    "        loss = criterion(outputs, labels)\n",
    "        \n",
    "        total_loss += loss.item() * images.size(0)\n",
    "        \n",
    "        for sampleno in range(images.shape[0]):\n",
    "            if(labels[sampleno] != predictions[sampleno]):\n",
    "                name = 'Misclasified_Predicted-{}_Classified-{}/{}'.format(classes[predictions[sampleno]], classes[labels[sampleno]], imgs_path[sampleno])\n",
    "                \n",
    "                writer.add_image(name, tensorboard_transforms(pil_loader('./dataset_modules/imgs/' + imgs_path[sampleno])))\n",
    "                writer.flush()\n",
    "        \n",
    "total_loss /= dataset_sizes[\"test\"]\n",
    "\n",
    "metrics_result = metrics.compute()"
   ]
  },
  {
   "cell_type": "code",
   "execution_count": 10,
   "id": "7639ae59-d411-40e9-8c71-09e332db6ee4",
   "metadata": {},
   "outputs": [
    {
     "name": "stdout",
     "output_type": "stream",
     "text": [
      "------------------------- GENERAL METRICS -------------------------\n",
      "\n",
      "Loss 0.6818719737063673\n",
      "Micro Accuracy 0.6992481350898743\n",
      "Macro Accuracy 0.6245462894439697\n",
      "Macro Precision 0.625271201133728\n",
      "Macro Recall 0.6245462894439697\n",
      "Macro F1 0.6245462894439697\n",
      "\n",
      "------------------------- PER CLASS METRICS -------------------------\n"
     ]
    },
    {
     "data": {
      "text/html": [
       "<div>\n",
       "<style scoped>\n",
       "    .dataframe tbody tr th:only-of-type {\n",
       "        vertical-align: middle;\n",
       "    }\n",
       "\n",
       "    .dataframe tbody tr th {\n",
       "        vertical-align: top;\n",
       "    }\n",
       "\n",
       "    .dataframe thead th {\n",
       "        text-align: right;\n",
       "    }\n",
       "</style>\n",
       "<table border=\"1\" class=\"dataframe\">\n",
       "  <thead>\n",
       "    <tr style=\"text-align: right;\">\n",
       "      <th></th>\n",
       "      <th>class</th>\n",
       "      <th>accuracy</th>\n",
       "      <th>precision</th>\n",
       "      <th>recall</th>\n",
       "      <th>f1</th>\n",
       "    </tr>\n",
       "  </thead>\n",
       "  <tbody>\n",
       "    <tr>\n",
       "      <th>0</th>\n",
       "      <td>farol_delantero_derecho_roto</td>\n",
       "      <td>0.309524</td>\n",
       "      <td>0.282609</td>\n",
       "      <td>0.309524</td>\n",
       "      <td>0.309524</td>\n",
       "    </tr>\n",
       "    <tr>\n",
       "      <th>1</th>\n",
       "      <td>farol_delantero_derecho_sano</td>\n",
       "      <td>0.682927</td>\n",
       "      <td>0.694215</td>\n",
       "      <td>0.682927</td>\n",
       "      <td>0.682927</td>\n",
       "    </tr>\n",
       "    <tr>\n",
       "      <th>2</th>\n",
       "      <td>no_farol_delantero_derecho</td>\n",
       "      <td>0.881188</td>\n",
       "      <td>0.898990</td>\n",
       "      <td>0.881188</td>\n",
       "      <td>0.881188</td>\n",
       "    </tr>\n",
       "  </tbody>\n",
       "</table>\n",
       "</div>"
      ],
      "text/plain": [
       "                          class  accuracy  precision    recall        f1\n",
       "0  farol_delantero_derecho_roto  0.309524   0.282609  0.309524  0.309524\n",
       "1  farol_delantero_derecho_sano  0.682927   0.694215  0.682927  0.682927\n",
       "2    no_farol_delantero_derecho  0.881188   0.898990  0.881188  0.881188"
      ]
     },
     "metadata": {},
     "output_type": "display_data"
    }
   ],
   "source": [
    "macro_metrics = metrics_helper.generate_macro_metrics(metrics_result, total_loss)\n",
    "per_class_metrics = metrics_helper.generate_per_class_metrics(metrics_result, classes)\n",
    "\n",
    "macro_metrics.to_csv('./trained_models/{}/{}/best_model_macro_metrics.csv'.format(MODEL_NAME, EXPERIMENT_NAME), index=False)\n",
    "per_class_metrics.to_csv('./trained_models/{}/{}/best_model_per_class_metrics.csv'.format(MODEL_NAME, EXPERIMENT_NAME), index=False)"
   ]
  },
  {
   "cell_type": "code",
   "execution_count": 11,
   "id": "40cf4817-9bc4-4660-bfbf-8ccd9dd63c74",
   "metadata": {},
   "outputs": [
    {
     "data": {
      "image/png": "[encoded data removed]",
      "text/plain": [
       "<Figure size 720x504 with 2 Axes>"
      ]
     },
     "metadata": {
      "needs_background": "light"
     },
     "output_type": "display_data"
    }
   ],
   "source": [
    "import seaborn as sn\n",
    "import pandas as pd\n",
    "import matplotlib.pyplot as plt\n",
    "\n",
    "df_cm = pd.DataFrame(metrics_result['confusion_matrix'], index = classes,\n",
    "                  columns = classes)\n",
    "\n",
    "df_cm = df_cm.applymap(lambda x: x.item())\n",
    "\n",
    "plt.figure(figsize = (10,7))\n",
    "sn.heatmap(df_cm, annot=True, cmap=\"Blues\")\n",
    "df_cm.to_csv('./trained_models/{}/{}/confusion_matrix.csv'.format(MODEL_NAME, EXPERIMENT_NAME))"
   ]
  },
  {
   "cell_type": "code",
   "execution_count": null,
   "id": "0ad851bc-0634-4a73-a56b-38a4b6e8fe33",
   "metadata": {},
   "outputs": [],
   "source": []
  }
 ],
 "metadata": {
  "kernelspec": {
   "display_name": "Python 3 (ipykernel)",
   "language": "python",
   "name": "python3"
  },
  "language_info": {
   "codemirror_mode": {
    "name": "ipython",
    "version": 3
   },
   "file_extension": ".py",
   "mimetype": "text/x-python",
   "name": "python",
   "nbconvert_exporter": "python",
   "pygments_lexer": "ipython3",
   "version": "3.9.7"
  }
 },
 "nbformat": 4,
 "nbformat_minor": 5
}
