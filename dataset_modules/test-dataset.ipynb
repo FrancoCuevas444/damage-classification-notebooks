{
 "cells": [
  {
   "cell_type": "code",
   "execution_count": 3,
   "id": "451efedf-a8bc-4eb4-828b-7275b1389dae",
   "metadata": {},
   "outputs": [
    {
     "data": {
      "text/plain": [
       "<module 'dataset_modules.preloaded_one_part_dataset' from '/Users/fcuevas/Documents/fing/tesis/jupyters/dataset_modules/../dataset_modules/preloaded_one_part_dataset.py'>"
      ]
     },
     "execution_count": 3,
     "metadata": {},
     "output_type": "execute_result"
    }
   ],
   "source": [
    "import sys\n",
    "sys.path.append('../')\n",
    "\n",
    "import dataset_modules.preloaded_one_part_dataset as popd\n",
    "import torch\n",
    "import dataset_modules.image_preloader as image_preloader\n",
    "import main\n",
    "import importlib\n",
    "import torchvision.transforms as transforms\n",
    "\n",
    "importlib.reload(popd)"
   ]
  },
  {
   "cell_type": "code",
   "execution_count": 9,
   "id": "f6da0e09-6f60-4959-8e1b-dcbf5693a574",
   "metadata": {},
   "outputs": [
    {
     "name": "stdout",
     "output_type": "stream",
     "text": [
      "Started to preload images...\n",
      "Image preloading complete in 3m 45s\n",
      "The preloaded images use 0.140716552734375MB of memory\n"
     ]
    }
   ],
   "source": [
    "# preload images\n",
    "preloaded_images = image_preloader.preload_images(\n",
    "        images_folder='./imgs_final/', \n",
    "        state_file='./state.json', \n",
    "        resize_to=224\n",
    ")"
   ]
  },
  {
   "cell_type": "code",
   "execution_count": 13,
   "id": "523bde9d-6b8c-4178-94ef-e4cf98d12c17",
   "metadata": {},
   "outputs": [
    {
     "name": "stdout",
     "output_type": "stream",
     "text": [
      "----- CLASS DISTRIBUTION -----\n",
      "Class: paragolpe_delantero_roto, #1177, 57.30%\n",
      "Class: paragolpe_delantero_sano, #877, 42.70%\n"
     ]
    }
   ],
   "source": [
    "train_dataset = popd.PreloadedOnePartDataset(\n",
    "        \"Paragolpe Delantero\",\n",
    "        preloaded_images,\n",
    "        state_file=\"./state.json\",\n",
    "        complaint_parts_file=\"../preprocessing/piezas_normalizadas.csv\",\n",
    "        remove_not_visible=True\n",
    "    )"
   ]
  },
  {
   "cell_type": "code",
   "execution_count": 16,
   "id": "87524106-a9d7-40ad-bc27-7fc7b62af18d",
   "metadata": {},
   "outputs": [
    {
     "name": "stdout",
     "output_type": "stream",
     "text": [
      "----- CLASS DISTRIBUTION -----\n",
      "Class: no_paragolpe_delantero, #2684, 56.65%\n",
      "Class: paragolpe_delantero_roto, #1177, 24.84%\n",
      "Class: paragolpe_delantero_sano, #877, 18.51%\n"
     ]
    }
   ],
   "source": []
  },
  {
   "cell_type": "code",
   "execution_count": 33,
   "id": "1ee9374a-a067-4ed0-be45-647b131dbdb8",
   "metadata": {},
   "outputs": [
    {
     "name": "stdout",
     "output_type": "stream",
     "text": [
      "----- CLASS DISTRIBUTION -----\n",
      "Class: paragolpe_delantero_sano, #416, 51.49%\n",
      "Class: paragolpe_delantero_roto, #392, 48.51%\n"
     ]
    }
   ],
   "source": [
    "train_dataset = popd.PreloadedOnePartDataset(\n",
    "        \"Paragolpe Delantero\",\n",
    "        preloaded_images,\n",
    "        offline_augmentation=196,\n",
    "        data_augmentation = transforms.Compose([\n",
    "            transforms.RandomHorizontalFlip(p=1)\n",
    "        ]),\n",
    "        class_to_augment=0,\n",
    "        transform=transforms.Compose([\n",
    "            transforms.ToTensor(),\n",
    "            transforms.Normalize([0.485, 0.456, 0.406], [0.229, 0.224, 0.225])\n",
    "        ]),\n",
    "        remove_not_visible=True,\n",
    "        ignore_repair=True,\n",
    "        visibility_file='./dataset_modules/analisis_manual_paragolpe.csv',\n",
    "        state_file=\"./dataset_modules/state-train.json\",\n",
    "    )"
   ]
  },
  {
   "cell_type": "code",
   "execution_count": 18,
   "id": "a2822adb-c4a7-40df-b38e-da5af78d4d6f",
   "metadata": {},
   "outputs": [
    {
     "name": "stdout",
     "output_type": "stream",
     "text": [
      "----- CLASS DISTRIBUTION -----\n",
      "Class: no_paragolpe_delantero, #2684, 56.65%\n",
      "Class: paragolpe_delantero_roto, #1177, 24.84%\n",
      "Class: paragolpe_delantero_sano, #877, 18.51%\n"
     ]
    }
   ],
   "source": [
    "full_dataset = popd.PreloadedOnePartDataset(\n",
    "        \"Paragolpe Delantero\",\n",
    "        preloaded_images,\n",
    "        state_file=\"./state.json\",\n",
    "        complaint_parts_file=\"../preprocessing/piezas_normalizadas.csv\",\n",
    "    )"
   ]
  },
  {
   "cell_type": "code",
   "execution_count": 19,
   "id": "da62c4c1-a5e6-4f3f-9034-1550903c8c2c",
   "metadata": {},
   "outputs": [],
   "source": [
    "train_size = int(0.8 * len(full_dataset))\n",
    "test_size = len(full_dataset) - train_size\n",
    "train_dataset, test_dataset = torch.utils.data.random_split(\n",
    "        full_dataset, [train_size, test_size], generator=torch.Generator().manual_seed(42))"
   ]
  },
  {
   "cell_type": "code",
   "execution_count": 23,
   "id": "ec8afb78-07f1-4f72-9c14-b7c3e7f5b162",
   "metadata": {},
   "outputs": [
    {
     "data": {
      "text/plain": [
       "'M343441/M343441003.jpg'"
      ]
     },
     "execution_count": 23,
     "metadata": {},
     "output_type": "execute_result"
    }
   ],
   "source": [
    "train_dataset[0][2]"
   ]
  },
  {
   "cell_type": "code",
   "execution_count": 22,
   "id": "d4a33fed-f59d-4bb8-a553-b4c53dbeff8d",
   "metadata": {},
   "outputs": [
    {
     "data": {
      "text/plain": [
       "'M337450/M337450004.jpg'"
      ]
     },
     "execution_count": 22,
     "metadata": {},
     "output_type": "execute_result"
    }
   ],
   "source": [
    "test_dataset[0][2]"
   ]
  },
  {
   "cell_type": "code",
   "execution_count": 26,
   "id": "fb06abc7-708c-41ff-846d-b917cead68bb",
   "metadata": {},
   "outputs": [],
   "source": [
    "import json\n",
    "\n",
    "train_state = {}\n",
    "test_state = {}\n",
    "\n",
    "with open(\"state.json\", \"r\") as f:\n",
    "    current_state = json.load(f)\n",
    "    for (_, _, img) in train_dataset:\n",
    "        train_state[img] = current_state[img]\n",
    "    \n",
    "    for (_, _, img) in test_dataset:\n",
    "        test_state[img] = current_state[img]"
   ]
  },
  {
   "cell_type": "code",
   "execution_count": 27,
   "id": "62559476-2d03-436b-bd4a-0b1a1f9c4ec5",
   "metadata": {},
   "outputs": [
    {
     "data": {
      "text/plain": [
       "3790"
      ]
     },
     "execution_count": 27,
     "metadata": {},
     "output_type": "execute_result"
    }
   ],
   "source": [
    "len(train_state)"
   ]
  },
  {
   "cell_type": "code",
   "execution_count": 28,
   "id": "31282e1e-2728-4671-b659-add24a55f805",
   "metadata": {},
   "outputs": [
    {
     "data": {
      "text/plain": [
       "948"
      ]
     },
     "execution_count": 28,
     "metadata": {},
     "output_type": "execute_result"
    }
   ],
   "source": [
    "len(test_state)"
   ]
  },
  {
   "cell_type": "code",
   "execution_count": 29,
   "id": "e225729b-ea87-461b-8d0f-b900fe6719db",
   "metadata": {},
   "outputs": [],
   "source": [
    "with open('state-train.json', 'w') as f:\n",
    "    json.dump(train_state, f)\n",
    "\n",
    "with open('state-test.json', 'w') as f:\n",
    "    json.dump(test_state, f)"
   ]
  },
  {
   "cell_type": "code",
   "execution_count": 32,
   "id": "5b9a7bc3-0c9c-4fb5-99d5-0cc304329689",
   "metadata": {},
   "outputs": [
    {
     "name": "stdout",
     "output_type": "stream",
     "text": [
      "----- CLASS DISTRIBUTION -----\n",
      "Class: paragolpe_delantero_sano, #924, 56.27%\n",
      "Class: paragolpe_delantero_roto, #718, 43.73%\n"
     ]
    }
   ],
   "source": [
    "train_dataset = popd.PreloadedOnePartDataset(\n",
    "        \"Paragolpe Delantero\",\n",
    "        preloaded_images,\n",
    "        state_file=\"./state-train.json\",\n",
    "        complaint_parts_file=\"../preprocessing/piezas_normalizadas.csv\",\n",
    "        remove_not_visible=True,\n",
    "        use_selected_parts=True\n",
    "    )"
   ]
  },
  {
   "cell_type": "code",
   "execution_count": 33,
   "id": "44613498-eb22-410f-81ff-9bf6885a4450",
   "metadata": {},
   "outputs": [
    {
     "name": "stdout",
     "output_type": "stream",
     "text": [
      "----- CLASS DISTRIBUTION -----\n",
      "Class: paragolpe_delantero_sano, #233, 56.55%\n",
      "Class: paragolpe_delantero_roto, #179, 43.45%\n"
     ]
    }
   ],
   "source": [
    "test_dataset = popd.PreloadedOnePartDataset(\n",
    "        \"Paragolpe Delantero\",\n",
    "        preloaded_images,\n",
    "        state_file=\"./state-test.json\",\n",
    "        complaint_parts_file=\"../preprocessing/piezas_normalizadas.csv\",\n",
    "        remove_not_visible=True,\n",
    "        use_selected_parts=True\n",
    "    )"
   ]
  },
  {
   "cell_type": "code",
   "execution_count": null,
   "id": "2f5c4531-df95-4271-8c30-097b56079424",
   "metadata": {},
   "outputs": [],
   "source": []
  }
 ],
 "metadata": {
  "kernelspec": {
   "display_name": "Python 3 (ipykernel)",
   "language": "python",
   "name": "python3"
  },
  "language_info": {
   "codemirror_mode": {
    "name": "ipython",
    "version": 3
   },
   "file_extension": ".py",
   "mimetype": "text/x-python",
   "name": "python",
   "nbconvert_exporter": "python",
   "pygments_lexer": "ipython3",
   "version": "3.9.7"
  }
 },
 "nbformat": 4,
 "nbformat_minor": 5
}
