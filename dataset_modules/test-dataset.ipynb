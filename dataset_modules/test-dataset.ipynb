{
 "cells": [
  {
   "cell_type": "code",
   "execution_count": 3,
   "id": "451efedf-a8bc-4eb4-828b-7275b1389dae",
   "metadata": {},
   "outputs": [
    {
     "data": {
      "text/plain": [
       "<module 'dataset_modules.preloaded_one_part_dataset' from '/Users/fcuevas/Documents/fing/tesis/jupyters/dataset_modules/../dataset_modules/preloaded_one_part_dataset.py'>"
      ]
     },
     "execution_count": 3,
     "metadata": {},
     "output_type": "execute_result"
    }
   ],
   "source": [
    "import sys\n",
    "sys.path.append('../')\n",
    "\n",
    "import dataset_modules.preloaded_one_part_dataset as popd\n",
    "import torch\n",
    "import dataset_modules.image_preloader as image_preloader\n",
    "import main\n",
    "import importlib\n",
    "import torchvision.transforms as transforms\n",
    "\n",
    "importlib.reload(popd)"
   ]
  },
  {
   "cell_type": "code",
   "execution_count": 5,
   "id": "f6da0e09-6f60-4959-8e1b-dcbf5693a574",
   "metadata": {},
   "outputs": [
    {
     "name": "stdout",
     "output_type": "stream",
     "text": [
      "Started to preload images...\n",
      "Image preloading complete in 2m 46s\n",
      "The preloaded images use 0.140716552734375MB of memory\n"
     ]
    }
   ],
   "source": [
    "# preload images\n",
    "preloaded_images = image_preloader.preload_images(\n",
    "        images_folder='./imgs_final/', \n",
    "        state_file='./state.json', \n",
    "        resize_to=224\n",
    ")"
   ]
  },
  {
   "cell_type": "code",
   "execution_count": 7,
   "id": "523bde9d-6b8c-4178-94ef-e4cf98d12c17",
   "metadata": {},
   "outputs": [
    {
     "name": "stdout",
     "output_type": "stream",
     "text": [
      "----- CLASS DISTRIBUTION -----\n",
      "Class: no_paragolpe_delantero, #1784, 55.39%\n",
      "Class: paragolpe_delantero_roto, #1158, 35.95%\n",
      "Class: paragolpe_delantero_sano, #279, 8.66%\n"
     ]
    }
   ],
   "source": [
    "train_dataset = popd.PreloadedOnePartDataset(\n",
    "        \"Paragolpe Delantero\",\n",
    "        preloaded_images,\n",
    "        state_file=\"./state.json\",\n",
    "        complaint_parts_file=\"../preprocessing/piezas_normalizadas.csv\"\n",
    "    )"
   ]
  },
  {
   "cell_type": "code",
   "execution_count": 8,
   "id": "87524106-a9d7-40ad-bc27-7fc7b62af18d",
   "metadata": {},
   "outputs": [
    {
     "name": "stdout",
     "output_type": "stream",
     "text": [
      "----- CLASS DISTRIBUTION -----\n",
      "Class: no_paragolpe_delantero, #1784, 55.39%\n",
      "Class: paragolpe_delantero_roto, #897, 27.85%\n",
      "Class: paragolpe_delantero_sano, #540, 16.76%\n"
     ]
    }
   ],
   "source": [
    "train_dataset = popd.PreloadedOnePartDataset(\n",
    "        \"Paragolpe Delantero\",\n",
    "        preloaded_images,\n",
    "        state_file=\"./state.json\",\n",
    "        complaint_parts_file=\"../preprocessing/piezas_normalizadas.csv\",\n",
    "        use_selected_parts=True\n",
    "    )"
   ]
  },
  {
   "cell_type": "code",
   "execution_count": 33,
   "id": "1ee9374a-a067-4ed0-be45-647b131dbdb8",
   "metadata": {},
   "outputs": [
    {
     "name": "stdout",
     "output_type": "stream",
     "text": [
      "----- CLASS DISTRIBUTION -----\n",
      "Class: paragolpe_delantero_sano, #416, 51.49%\n",
      "Class: paragolpe_delantero_roto, #392, 48.51%\n"
     ]
    }
   ],
   "source": [
    "train_dataset = popd.PreloadedOnePartDataset(\n",
    "        \"Paragolpe Delantero\",\n",
    "        preloaded_images,\n",
    "        offline_augmentation=196,\n",
    "        data_augmentation = transforms.Compose([\n",
    "            transforms.RandomHorizontalFlip(p=1)\n",
    "        ]),\n",
    "        class_to_augment=0,\n",
    "        transform=transforms.Compose([\n",
    "            transforms.ToTensor(),\n",
    "            transforms.Normalize([0.485, 0.456, 0.406], [0.229, 0.224, 0.225])\n",
    "        ]),\n",
    "        remove_not_visible=True,\n",
    "        ignore_repair=True,\n",
    "        visibility_file='./dataset_modules/analisis_manual_paragolpe.csv',\n",
    "        state_file=\"./dataset_modules/state-train.json\",\n",
    "    )"
   ]
  },
  {
   "cell_type": "code",
   "execution_count": null,
   "id": "a2822adb-c4a7-40df-b38e-da5af78d4d6f",
   "metadata": {},
   "outputs": [],
   "source": []
  }
 ],
 "metadata": {
  "kernelspec": {
   "display_name": "Python 3 (ipykernel)",
   "language": "python",
   "name": "python3"
  },
  "language_info": {
   "codemirror_mode": {
    "name": "ipython",
    "version": 3
   },
   "file_extension": ".py",
   "mimetype": "text/x-python",
   "name": "python",
   "nbconvert_exporter": "python",
   "pygments_lexer": "ipython3",
   "version": "3.9.7"
  }
 },
 "nbformat": 4,
 "nbformat_minor": 5
}
