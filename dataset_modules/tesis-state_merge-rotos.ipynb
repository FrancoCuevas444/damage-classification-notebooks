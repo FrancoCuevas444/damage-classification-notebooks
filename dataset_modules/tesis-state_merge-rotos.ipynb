{
 "cells": [
  {
   "cell_type": "code",
   "execution_count": 5,
   "id": "07fd7f73-5b03-47de-9f70-c0ea5e926e2c",
   "metadata": {},
   "outputs": [],
   "source": [
    "import pandas as pd\n",
    "import json"
   ]
  },
  {
   "cell_type": "code",
   "execution_count": 6,
   "id": "1cd62903-6776-41dc-b448-27751c4fc822",
   "metadata": {},
   "outputs": [],
   "source": [
    "filename = \"state-rotos-paragolpe.json\""
   ]
  },
  {
   "cell_type": "code",
   "execution_count": 7,
   "id": "f0ff23bd-7caf-4812-9d8c-fed2d94ff1a5",
   "metadata": {},
   "outputs": [],
   "source": [
    "with open(filename, \"r\") as f:\n",
    "        current_state = json.load(f)"
   ]
  },
  {
   "cell_type": "code",
   "execution_count": 8,
   "id": "552be1fa-e065-486d-8676-8c61e2a3f7d6",
   "metadata": {
    "tags": []
   },
   "outputs": [],
   "source": [
    "result = {}\n",
    "for key in current_state:\n",
    "    if (\"visible_damage\" in current_state[key] and current_state[key][\"visible_damage\"] != \"\") or (\"should_discard\" in current_state[key]):\n",
    "        result[key] = current_state[key]"
   ]
  },
  {
   "cell_type": "code",
   "execution_count": 9,
   "id": "03b763df-f5e1-46f6-a9bd-c33e58520d36",
   "metadata": {},
   "outputs": [
    {
     "data": {
      "text/plain": [
       "423"
      ]
     },
     "execution_count": 9,
     "metadata": {},
     "output_type": "execute_result"
    }
   ],
   "source": [
    "len(result)"
   ]
  },
  {
   "cell_type": "code",
   "execution_count": 14,
   "id": "6080f09b-3acc-4917-91ca-cc8539e4d810",
   "metadata": {},
   "outputs": [],
   "source": [
    "rows = {\"img\": [], \"visible_damage\": [], \"should_discard\": []}\n",
    "\n",
    "for key in result:\n",
    "    value = result[key]\n",
    "    rows[\"img\"].append(key)\n",
    "    \n",
    "    if \"visible_damage\" in value:\n",
    "        rows[\"visible_damage\"].append(value[\"visible_damage\"])\n",
    "    else:\n",
    "        rows[\"visible_damage\"].append(\"visible\")    \n",
    "    \n",
    "    if \"should_discard\" in value:\n",
    "        rows[\"should_discard\"].append(value[\"should_discard\"])\n",
    "    else:\n",
    "        rows[\"should_discard\"].append(\"no\")"
   ]
  },
  {
   "cell_type": "code",
   "execution_count": 16,
   "id": "6236860f-471a-4ec9-87de-7b5612ef7125",
   "metadata": {},
   "outputs": [],
   "source": [
    "df = pd.DataFrame(rows)"
   ]
  },
  {
   "cell_type": "code",
   "execution_count": 24,
   "id": "5d7b6064-33c6-4b3a-b2d1-d52ffc7de77d",
   "metadata": {},
   "outputs": [
    {
     "data": {
      "text/plain": [
       "visible        174\n",
       "not_visible    146\n",
       "minimal        100\n",
       "                 3\n",
       "Name: visible_damage, dtype: int64"
      ]
     },
     "execution_count": 24,
     "metadata": {},
     "output_type": "execute_result"
    }
   ],
   "source": [
    "df[\"visible_damage\"].value_counts()"
   ]
  },
  {
   "cell_type": "code",
   "execution_count": 25,
   "id": "e7518900-25ef-4ff3-bf15-26c8ca2f480b",
   "metadata": {},
   "outputs": [],
   "source": [
    "df.to_csv(\"analisis_manual_paragolpe.csv\", index=False)"
   ]
  },
  {
   "cell_type": "code",
   "execution_count": null,
   "id": "69f627ba-7aaa-45d4-b837-aa51186c7a81",
   "metadata": {},
   "outputs": [],
   "source": []
  }
 ],
 "metadata": {
  "kernelspec": {
   "display_name": "Python 3",
   "language": "python",
   "name": "python3"
  },
  "language_info": {
   "codemirror_mode": {
    "name": "ipython",
    "version": 3
   },
   "file_extension": ".py",
   "mimetype": "text/x-python",
   "name": "python",
   "nbconvert_exporter": "python",
   "pygments_lexer": "ipython3",
   "version": "3.9.5"
  }
 },
 "nbformat": 4,
 "nbformat_minor": 5
}
