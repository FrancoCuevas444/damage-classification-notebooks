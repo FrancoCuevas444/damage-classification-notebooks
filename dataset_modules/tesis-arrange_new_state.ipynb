{
 "cells": [
  {
   "cell_type": "code",
   "execution_count": 1,
   "id": "07fd7f73-5b03-47de-9f70-c0ea5e926e2c",
   "metadata": {},
   "outputs": [],
   "source": [
    "import sys\n",
    "sys.path.append('../')\n",
    "\n",
    "import json\n",
    "import os\n",
    "import pandas as pd\n",
    "import common\n",
    "from shutil import copyfile"
   ]
  },
  {
   "cell_type": "markdown",
   "id": "228fe063-5959-4402-b9be-ab5150fbdba9",
   "metadata": {},
   "source": [
    "## Filter useful images\n",
    "\n",
    "En esta primer etapa se filtran imágenes tagueadas como útiles y que tengan ángulo asignado"
   ]
  },
  {
   "cell_type": "code",
   "execution_count": 46,
   "id": "b830dfdc-c36c-44fa-9626-2ba22c261db4",
   "metadata": {},
   "outputs": [
    {
     "name": "stdout",
     "output_type": "stream",
     "text": [
      "total: 3681\n",
      "utiles: 1639\n"
     ]
    }
   ],
   "source": [
    "INPUT_STATE_FILENAME = \"state.json\"\n",
    "OUTPUT_STATE_FILENAME = \"cleaned_state.json\"\n",
    "\n",
    "with open(INPUT_STATE_FILENAME) as f:\n",
    "    input_state = json.load(f)\n",
    "\n",
    "def is_useful(row):\n",
    "    return row[\"useful\"] == \"yes\" and not(row[\"photo_angle\"] in [None, \"other\", \"\"])\n",
    "    \n",
    "useful_state = {}\n",
    "for (k,v) in input_state.items():\n",
    "    if (is_useful(v)):\n",
    "        useful_state[k] = v\n",
    "        \n",
    "print(\"total: {}\".format(len(input_state)))\n",
    "print(\"utiles: {}\".format(len(useful_state)))"
   ]
  },
  {
   "cell_type": "markdown",
   "id": "59fd55c6-2050-4542-aedf-cbb82c6a1731",
   "metadata": {},
   "source": [
    "## Filter broken part images\n",
    "\n",
    "En esta segunda etapa se filtran aquellas imágenes que tengan alguna parte rota, en base al ángulo etiquetado"
   ]
  },
  {
   "cell_type": "code",
   "execution_count": 51,
   "id": "5be2e821-c5d1-4f22-b7d8-92d9edc0f620",
   "metadata": {},
   "outputs": [
    {
     "name": "stdout",
     "output_type": "stream",
     "text": [
      "total: 3681\n",
      "utiles: 1639\n",
      "utiles y con parte rota: 1189\n"
     ]
    }
   ],
   "source": [
    "broken_parts = common.load_complaint_parts(\"../preprocessing/piezas_normalizadas.csv\", False, None, ignore_syc=True)\n",
    "\n",
    "def has_broken_part(complaint, angle):\n",
    "    complaint_parts = broken_parts[broken_parts[\"DENUNCIA\"] == complaint][\"pieza_normalizada\"].tolist()\n",
    "    angle_parts = common.angulo_pieza[angle]\n",
    "    \n",
    "    return len(set(complaint_parts) & set(angle_parts)) > 0\n",
    "\n",
    "useful_and_broken_state = {}\n",
    "for (k,v) in useful_state.items():\n",
    "    complaint = k.split(\"/\")[0]\n",
    "    if has_broken_part(complaint, v[\"photo_angle\"]):\n",
    "        useful_and_broken_state[k] = v\n",
    "\n",
    "print(\"total: {}\".format(len(input_state)))\n",
    "print(\"utiles: {}\".format(len(useful_state)))\n",
    "print(\"utiles y con parte rota: {}\".format(len(useful_and_broken_state)))"
   ]
  },
  {
   "cell_type": "markdown",
   "id": "98a05e2a-0963-4950-8e63-0abec1acec6d",
   "metadata": {},
   "source": [
    "## Save new state\n",
    "\n",
    "En esta etapa se guarda el nuevo state con el nombre de \"cleaned_state.json\", que debe ser copiado al image analyzer (y cambiar el nombre a state.json)"
   ]
  },
  {
   "cell_type": "code",
   "execution_count": 52,
   "id": "a33972b9-0893-4116-be16-7f9b57b96368",
   "metadata": {},
   "outputs": [],
   "source": [
    "with open(OUTPUT_STATE_FILENAME, 'w') as f:\n",
    "    json.dump(useful_and_broken_state, f)"
   ]
  },
  {
   "cell_type": "markdown",
   "id": "59131891-e56d-4ec7-9584-be1264f1168e",
   "metadata": {},
   "source": [
    "## Adjust images\n",
    "\n",
    "Finalmente, se ajustan las imágenes que quedaron filtradas. Se debe setear correctamente la variable IMGS_FOLDER, y dentro de ese directorio se eliminaran las imágenes que no apliquen\n",
    "RECOMENDADO: hacer un backup antes."
   ]
  },
  {
   "cell_type": "code",
   "execution_count": 53,
   "id": "8af60cb7-f121-41e3-961c-4cc972234a42",
   "metadata": {},
   "outputs": [
    {
     "name": "stdout",
     "output_type": "stream",
     "text": [
      "To keep: 1189\n",
      "To delete: 2492\n"
     ]
    }
   ],
   "source": [
    "import os\n",
    "import re\n",
    "from fnmatch import fnmatch\n",
    "\n",
    "IMGS_FOLDER = \"/Users/fcuevas/Documents/fing/tesis/image-analyzer/imgs/\"\n",
    "\n",
    "pattern = \"*\\.jpg\"\n",
    "\n",
    "count_to_keep = 0\n",
    "to_delete = []\n",
    "\n",
    "for path, subdirs, files in os.walk(IMGS_FOLDER):\n",
    "    for subdir in subdirs:\n",
    "        for inner_path, _, inner_files in os.walk(os.path.join(IMGS_FOLDER, subdir)):\n",
    "            for name in inner_files:\n",
    "                if name.endswith(\".jpg\") or name.endswith(\".jpeg\") or name.endswith(\".png\"):\n",
    "                    key = subdir + \"/\" + name\n",
    "                    if key in useful_and_broken_state:\n",
    "                        count_to_keep += 1\n",
    "                    else:\n",
    "                        to_delete.append(os.path.join(inner_path, name))\n",
    "                    \n",
    "print(\"To keep: {}\".format(count_to_keep))\n",
    "print(\"To delete: {}\".format(len(to_delete)))"
   ]
  },
  {
   "cell_type": "code",
   "execution_count": 54,
   "id": "5cc44d37-3afe-4d8f-a7a7-4ac58ed396dd",
   "metadata": {},
   "outputs": [],
   "source": [
    "for elem in to_delete:\n",
    "    os.remove(elem)"
   ]
  },
  {
   "cell_type": "code",
   "execution_count": 40,
   "id": "0244233f-1121-4ff1-b133-a8437ef662ac",
   "metadata": {
    "collapsed": true,
    "jupyter": {
     "outputs_hidden": true
    },
    "tags": []
   },
   "outputs": [
    {
     "data": {
      "text/plain": [
       "{'frente': ['Capot',\n",
       "  'Farol Delantero Izquierdo',\n",
       "  'Paragolpe Delantero',\n",
       "  'Farol Delantero Derecho'],\n",
       " 'atras': ['Panel Trasero',\n",
       "  'Farol Trasero Derecho',\n",
       "  'Farol Trasero Izquierdo',\n",
       "  'Paragolpe Trasero',\n",
       "  'Tapa de Baul'],\n",
       " 'lado_cond': ['Guardabarro Delantero Izquierdo',\n",
       "  'Lateral de Caja Izquierdo',\n",
       "  'Puerta Trasera Izquierda',\n",
       "  'Puerta Delantera Izquierda',\n",
       "  'Zocalo Izquierdo',\n",
       "  'Farol Trasero Izquierdo',\n",
       "  'Guardabarro Trasero Izquierdo',\n",
       "  'Farol Delantero Izquierdo'],\n",
       " 'lado_acomp': ['Zocalo Derecho',\n",
       "  'Puerta Delantera Derecha',\n",
       "  'Farol Delantero Derecho',\n",
       "  'Farol Trasero Derecho',\n",
       "  'Lateral de Caja Derecho',\n",
       "  'Guardabarro Trasero Derecho',\n",
       "  'Guardabarro Delantero Derecho',\n",
       "  'Puerta Trasera Derecha'],\n",
       " 'frente_cond': ['Guardabarro Delantero Izquierdo',\n",
       "  'Paragolpe Delantero',\n",
       "  'Lateral de Caja Izquierdo',\n",
       "  'Capot',\n",
       "  'Puerta Delantera Izquierda',\n",
       "  'Puerta Trasera Izquierda',\n",
       "  'Zocalo Izquierdo',\n",
       "  'Guardabarro Trasero Izquierdo',\n",
       "  'Farol Delantero Izquierdo'],\n",
       " 'frente_acomp': ['Zocalo Derecho',\n",
       "  'Puerta Delantera Derecha',\n",
       "  'Paragolpe Delantero',\n",
       "  'Farol Delantero Derecho',\n",
       "  'Capot',\n",
       "  'Lateral de Caja Derecho',\n",
       "  'Guardabarro Trasero Derecho',\n",
       "  'Guardabarro Delantero Derecho',\n",
       "  'Puerta Trasera Derecha'],\n",
       " 'atras_cond': ['Guardabarro Delantero Izquierdo',\n",
       "  'Lateral de Caja Izquierdo',\n",
       "  'Panel Trasero',\n",
       "  'Puerta Trasera Izquierda',\n",
       "  'Puerta Delantera Izquierda',\n",
       "  'Zocalo Izquierdo',\n",
       "  'Farol Trasero Izquierdo',\n",
       "  'Paragolpe Trasero',\n",
       "  'Tapa de Baul',\n",
       "  'Guardabarro Trasero Izquierdo'],\n",
       " 'atras_acomp': ['Zocalo Derecho',\n",
       "  'Puerta Delantera Derecha',\n",
       "  'Panel Trasero',\n",
       "  'Farol Trasero Derecho',\n",
       "  'Lateral de Caja Derecho',\n",
       "  'Paragolpe Trasero',\n",
       "  'Guardabarro Trasero Derecho',\n",
       "  'Tapa de Baul',\n",
       "  'Guardabarro Delantero Derecho',\n",
       "  'Puerta Trasera Derecha']}"
      ]
     },
     "execution_count": 40,
     "metadata": {},
     "output_type": "execute_result"
    }
   ],
   "source": [
    "common.angulo_pieza"
   ]
  },
  {
   "cell_type": "code",
   "execution_count": 44,
   "id": "0e42bedb-11d0-4988-aa17-ffe8d0fee4b0",
   "metadata": {},
   "outputs": [
    {
     "name": "stdout",
     "output_type": "stream",
     "text": [
      "{'frente': ['capot', 'farol_delantero_izquierdo', 'paragolpe_delantero', 'farol_delantero_derecho'], 'atras': ['panel_trasero', 'farol_trasero_derecho', 'farol_trasero_izquierdo', 'paragolpe_trasero', 'tapa_de_baul'], 'lado_cond': ['guardabarro_delantero_izquierdo', 'lateral_de_caja_izquierdo', 'puerta_trasera_izquierda', 'puerta_delantera_izquierda', 'zocalo_izquierdo', 'farol_trasero_izquierdo', 'guardabarro_trasero_izquierdo', 'farol_delantero_izquierdo'], 'lado_acomp': ['zocalo_derecho', 'puerta_delantera_derecha', 'farol_delantero_derecho', 'farol_trasero_derecho', 'lateral_de_caja_derecho', 'guardabarro_trasero_derecho', 'guardabarro_delantero_derecho', 'puerta_trasera_derecha'], 'frente_cond': ['guardabarro_delantero_izquierdo', 'paragolpe_delantero', 'lateral_de_caja_izquierdo', 'capot', 'puerta_delantera_izquierda', 'puerta_trasera_izquierda', 'zocalo_izquierdo', 'guardabarro_trasero_izquierdo', 'farol_delantero_izquierdo'], 'frente_acomp': ['zocalo_derecho', 'puerta_delantera_derecha', 'paragolpe_delantero', 'farol_delantero_derecho', 'capot', 'lateral_de_caja_derecho', 'guardabarro_trasero_derecho', 'guardabarro_delantero_derecho', 'puerta_trasera_derecha'], 'atras_cond': ['guardabarro_delantero_izquierdo', 'lateral_de_caja_izquierdo', 'panel_trasero', 'puerta_trasera_izquierda', 'puerta_delantera_izquierda', 'zocalo_izquierdo', 'farol_trasero_izquierdo', 'paragolpe_trasero', 'tapa_de_baul', 'guardabarro_trasero_izquierdo'], 'atras_acomp': ['zocalo_derecho', 'puerta_delantera_derecha', 'panel_trasero', 'farol_trasero_derecho', 'lateral_de_caja_derecho', 'paragolpe_trasero', 'guardabarro_trasero_derecho', 'tapa_de_baul', 'guardabarro_delantero_derecho', 'puerta_trasera_derecha']}\n"
     ]
    }
   ],
   "source": [
    "result = {}\n",
    "for (k, v) in common.angulo_pieza.items():\n",
    "    newValue = []\n",
    "    for elem in v:\n",
    "        newValue.append(elem.lower().replace(\" \", \"_\"))\n",
    "    result[k] = newValue\n",
    "\n",
    "print(result)\n",
    "\n",
    "with open('angles.json', 'w') as f:\n",
    "    json.dump(result, f)"
   ]
  },
  {
   "cell_type": "code",
   "execution_count": null,
   "id": "a5c42655-7af4-4725-bfba-7e1a2eb77d3b",
   "metadata": {},
   "outputs": [],
   "source": []
  }
 ],
 "metadata": {
  "kernelspec": {
   "display_name": "Python 3 (ipykernel)",
   "language": "python",
   "name": "python3"
  },
  "language_info": {
   "codemirror_mode": {
    "name": "ipython",
    "version": 3
   },
   "file_extension": ".py",
   "mimetype": "text/x-python",
   "name": "python",
   "nbconvert_exporter": "python",
   "pygments_lexer": "ipython3",
   "version": "3.9.7"
  }
 },
 "nbformat": 4,
 "nbformat_minor": 5
}
