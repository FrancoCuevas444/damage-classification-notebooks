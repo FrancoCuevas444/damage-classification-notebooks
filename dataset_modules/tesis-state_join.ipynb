{
 "cells": [
  {
   "cell_type": "code",
   "execution_count": 1,
   "id": "07fd7f73-5b03-47de-9f70-c0ea5e926e2c",
   "metadata": {},
   "outputs": [],
   "source": [
    "import pandas as pd\n",
    "import json"
   ]
  },
  {
   "cell_type": "code",
   "execution_count": 2,
   "id": "1cd62903-6776-41dc-b448-27751c4fc822",
   "metadata": {},
   "outputs": [],
   "source": [
    "file_list = [\"state-dataset1.json\", \"state-franco.json\", \"state-lucas.json\"]"
   ]
  },
  {
   "cell_type": "code",
   "execution_count": 4,
   "id": "f0ff23bd-7caf-4812-9d8c-fed2d94ff1a5",
   "metadata": {},
   "outputs": [],
   "source": [
    "joined_state = {}\n",
    "\n",
    "for filename in file_list:\n",
    "    with open(filename, \"r\") as f:\n",
    "        current_state = json.load(f)\n",
    "        for key in current_state:\n",
    "            if key in joined_state:\n",
    "                print(\"oh-oh, ya vi a {}\".format(key))\n",
    "            \n",
    "            joined_state[key] = current_state[key]\n",
    "        "
   ]
  },
  {
   "cell_type": "code",
   "execution_count": 6,
   "id": "552be1fa-e065-486d-8676-8c61e2a3f7d6",
   "metadata": {
    "tags": []
   },
   "outputs": [],
   "source": [
    "with open('state.json', 'w') as f:\n",
    "    json.dump(joined_state, f)"
   ]
  },
  {
   "cell_type": "code",
   "execution_count": null,
   "id": "11b51351-2065-427a-a729-a524ab2007c5",
   "metadata": {},
   "outputs": [],
   "source": []
  }
 ],
 "metadata": {
  "kernelspec": {
   "display_name": "Python 3 (ipykernel)",
   "language": "python",
   "name": "python3"
  },
  "language_info": {
   "codemirror_mode": {
    "name": "ipython",
    "version": 3
   },
   "file_extension": ".py",
   "mimetype": "text/x-python",
   "name": "python",
   "nbconvert_exporter": "python",
   "pygments_lexer": "ipython3",
   "version": "3.9.7"
  }
 },
 "nbformat": 4,
 "nbformat_minor": 5
}
