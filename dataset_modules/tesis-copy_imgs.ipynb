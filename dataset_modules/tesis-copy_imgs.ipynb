{
 "cells": [
  {
   "cell_type": "code",
   "execution_count": 13,
   "id": "07fd7f73-5b03-47de-9f70-c0ea5e926e2c",
   "metadata": {},
   "outputs": [],
   "source": [
    "import os\n",
    "import pandas as pd\n",
    "import common\n",
    "from shutil import copyfile"
   ]
  },
  {
   "cell_type": "code",
   "execution_count": 18,
   "id": "b830dfdc-c36c-44fa-9626-2ba22c261db4",
   "metadata": {},
   "outputs": [],
   "source": [
    "metadata = common.load_metadata_dataframe('state-dataset1.json')"
   ]
  },
  {
   "cell_type": "code",
   "execution_count": 19,
   "id": "75100d5e-0b7b-44b2-8840-c01ab74cb5d0",
   "metadata": {},
   "outputs": [],
   "source": [
    "metadata = metadata[metadata[\"useful\"] == \"no\"]"
   ]
  },
  {
   "cell_type": "code",
   "execution_count": 20,
   "id": "95259c12-c5f4-4f33-b821-e188f262f019",
   "metadata": {},
   "outputs": [
    {
     "data": {
      "text/plain": [
       "(413, 3)"
      ]
     },
     "execution_count": 20,
     "metadata": {},
     "output_type": "execute_result"
    }
   ],
   "source": [
    "metadata.shape"
   ]
  },
  {
   "cell_type": "code",
   "execution_count": 23,
   "id": "1cd62903-6776-41dc-b448-27751c4fc822",
   "metadata": {},
   "outputs": [
    {
     "data": {
      "text/plain": [
       "21      None\n",
       "28      None\n",
       "29      None\n",
       "30      None\n",
       "31      None\n",
       "        ... \n",
       "1153    None\n",
       "1154    None\n",
       "1155    None\n",
       "1156    None\n",
       "1158    None\n",
       "Length: 413, dtype: object"
      ]
     },
     "execution_count": 23,
     "metadata": {},
     "output_type": "execute_result"
    }
   ],
   "source": [
    "FROM_PREFIX = '/Users/fcuevas/Documents/imgs/{}'\n",
    "TO_PREFIX = \"./imgs_no/{}\"\n",
    "\n",
    "def copy_img(row):\n",
    "    from_dir = FROM_PREFIX.format(row[\"image\"])\n",
    "    to_dir = TO_PREFIX.format(row[\"image\"])\n",
    "    \n",
    "    os.makedirs(os.path.dirname(to_dir), exist_ok=True)\n",
    "    copyfile(from_dir, to_dir)\n",
    "    \n",
    "def copy_metadata(row):\n",
    "    from_dir = FROM_PREFIX.format(row[\"image\"].split(\"/\")[0]) + \"/metadata.json\"\n",
    "    to_dir = TO_PREFIX.format(row[\"image\"].split(\"/\")[0]) + \"/metadata.json\"\n",
    "    \n",
    "    os.makedirs(os.path.dirname(to_dir), exist_ok=True)\n",
    "    copyfile(from_dir, to_dir)\n",
    "\n",
    "metadata.apply(copy_img, axis=1)\n",
    "metadata.apply(copy_metadata, axis=1)"
   ]
  },
  {
   "cell_type": "code",
   "execution_count": 22,
   "id": "f0ff23bd-7caf-4812-9d8c-fed2d94ff1a5",
   "metadata": {},
   "outputs": [
    {
     "data": {
      "text/plain": [
       "(0, 3)"
      ]
     },
     "execution_count": 22,
     "metadata": {},
     "output_type": "execute_result"
    }
   ],
   "source": [
    "metadata[metadata[\"useful\"] == \"yes\"].shape"
   ]
  },
  {
   "cell_type": "code",
   "execution_count": null,
   "id": "258b70e2-906f-4117-8d0e-b154d83b8797",
   "metadata": {},
   "outputs": [],
   "source": []
  }
 ],
 "metadata": {
  "kernelspec": {
   "display_name": "Python 3 (ipykernel)",
   "language": "python",
   "name": "python3"
  },
  "language_info": {
   "codemirror_mode": {
    "name": "ipython",
    "version": 3
   },
   "file_extension": ".py",
   "mimetype": "text/x-python",
   "name": "python",
   "nbconvert_exporter": "python",
   "pygments_lexer": "ipython3",
   "version": "3.9.7"
  }
 },
 "nbformat": 4,
 "nbformat_minor": 5
}
