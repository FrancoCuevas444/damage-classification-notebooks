{
 "cells": [
  {
   "cell_type": "code",
   "execution_count": 1,
   "id": "07fd7f73-5b03-47de-9f70-c0ea5e926e2c",
   "metadata": {},
   "outputs": [],
   "source": [
    "import os\n",
    "import pandas as pd\n",
    "import common\n",
    "from shutil import copyfile"
   ]
  },
  {
   "cell_type": "code",
   "execution_count": 2,
   "id": "b830dfdc-c36c-44fa-9626-2ba22c261db4",
   "metadata": {},
   "outputs": [],
   "source": [
    "metadata = common.load_metadata_dataframe('state.json')"
   ]
  },
  {
   "cell_type": "code",
   "execution_count": 6,
   "id": "1cd62903-6776-41dc-b448-27751c4fc822",
   "metadata": {},
   "outputs": [
    {
     "data": {
      "text/plain": [
       "0       None\n",
       "1       None\n",
       "2       None\n",
       "3       None\n",
       "4       None\n",
       "        ... \n",
       "2786    None\n",
       "2787    None\n",
       "2788    None\n",
       "2789    None\n",
       "2790    None\n",
       "Length: 2791, dtype: object"
      ]
     },
     "execution_count": 6,
     "metadata": {},
     "output_type": "execute_result"
    }
   ],
   "source": [
    "FROM_PREFIX = '/Users/fcuevas/Documents/imgs/{}'\n",
    "TO_PREFIX = \"./imgs/{}\"\n",
    "\n",
    "def copy_img(row):\n",
    "    from_dir = FROM_PREFIX.format(row[\"image\"])\n",
    "    to_dir = TO_PREFIX.format(row[\"image\"])\n",
    "    \n",
    "    os.makedirs(os.path.dirname(to_dir), exist_ok=True)\n",
    "    copyfile(from_dir, to_dir)\n",
    "\n",
    "metadata.apply(copy_img, axis=1)"
   ]
  },
  {
   "cell_type": "code",
   "execution_count": 5,
   "id": "f0ff23bd-7caf-4812-9d8c-fed2d94ff1a5",
   "metadata": {},
   "outputs": [
    {
     "data": {
      "text/plain": [
       "(1330, 3)"
      ]
     },
     "execution_count": 5,
     "metadata": {},
     "output_type": "execute_result"
    }
   ],
   "source": [
    "metadata[metadata[\"useful\"] == \"yes\"].shape"
   ]
  },
  {
   "cell_type": "code",
   "execution_count": null,
   "id": "258b70e2-906f-4117-8d0e-b154d83b8797",
   "metadata": {},
   "outputs": [],
   "source": []
  }
 ],
 "metadata": {
  "kernelspec": {
   "display_name": "Python 3 (ipykernel)",
   "language": "python",
   "name": "python3"
  },
  "language_info": {
   "codemirror_mode": {
    "name": "ipython",
    "version": 3
   },
   "file_extension": ".py",
   "mimetype": "text/x-python",
   "name": "python",
   "nbconvert_exporter": "python",
   "pygments_lexer": "ipython3",
   "version": "3.9.7"
  }
 },
 "nbformat": 4,
 "nbformat_minor": 5
}
