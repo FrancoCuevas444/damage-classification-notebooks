{
 "cells": [
  {
   "cell_type": "code",
   "execution_count": 5,
   "id": "07fd7f73-5b03-47de-9f70-c0ea5e926e2c",
   "metadata": {},
   "outputs": [],
   "source": [
    "import sys\n",
    "sys.path.append('../')\n",
    "\n",
    "import os\n",
    "import pandas as pd\n",
    "import common\n",
    "from shutil import copyfile\n",
    "import one_part_dataset"
   ]
  },
  {
   "cell_type": "code",
   "execution_count": 6,
   "id": "b830dfdc-c36c-44fa-9626-2ba22c261db4",
   "metadata": {},
   "outputs": [],
   "source": [
    "metadata = common.load_metadata_dataframe('state.json')"
   ]
  },
  {
   "cell_type": "code",
   "execution_count": 8,
   "id": "c12b5fd9-c1b7-4a5a-bfec-f2396a453cc3",
   "metadata": {},
   "outputs": [
    {
     "data": {
      "text/plain": [
       "(4738, 4)"
      ]
     },
     "execution_count": 8,
     "metadata": {},
     "output_type": "execute_result"
    }
   ],
   "source": [
    "metadata[metadata[\"useful\"] == \"yes\"].shape"
   ]
  },
  {
   "cell_type": "code",
   "execution_count": 7,
   "id": "1cd62903-6776-41dc-b448-27751c4fc822",
   "metadata": {},
   "outputs": [
    {
     "data": {
      "text/plain": [
       "0       None\n",
       "1       None\n",
       "2       None\n",
       "3       None\n",
       "4       None\n",
       "        ... \n",
       "4738    None\n",
       "4739    None\n",
       "4740    None\n",
       "4741    None\n",
       "4742    None\n",
       "Length: 4738, dtype: object"
      ]
     },
     "execution_count": 7,
     "metadata": {},
     "output_type": "execute_result"
    }
   ],
   "source": [
    "FROM_PREFIX = '/Users/fcuevas/Documents/fing/tesis/datos/FOTOS SINIESTROS/EMPRESA CARS/FOTOS DENUNCIA/{}'\n",
    "TO_PREFIX = \"./imgs_final/{}\"\n",
    "\n",
    "def copy_img(row):\n",
    "    from_dir = FROM_PREFIX.format(row[\"image\"])\n",
    "    to_dir = TO_PREFIX.format(row[\"image\"])\n",
    "    \n",
    "    os.makedirs(os.path.dirname(to_dir), exist_ok=True)\n",
    "    copyfile(from_dir, to_dir)\n",
    "\n",
    "metadata.apply(copy_img, axis=1)"
   ]
  },
  {
   "cell_type": "code",
   "execution_count": 4,
   "id": "f0ff23bd-7caf-4812-9d8c-fed2d94ff1a5",
   "metadata": {},
   "outputs": [
    {
     "data": {
      "text/plain": [
       "(3221, 4)"
      ]
     },
     "execution_count": 4,
     "metadata": {},
     "output_type": "execute_result"
    }
   ],
   "source": [
    "metadata[metadata[\"useful\"] == \"yes\"].shape"
   ]
  },
  {
   "cell_type": "markdown",
   "id": "8581c3dc-0508-4fbc-b856-2c7976fd85f3",
   "metadata": {
    "tags": []
   },
   "source": [
    "### Copy subset"
   ]
  },
  {
   "cell_type": "code",
   "execution_count": 19,
   "id": "ff438e48-a127-4aa5-ae7f-fca675b9e61f",
   "metadata": {},
   "outputs": [
    {
     "data": {
      "text/html": [
       "<div>\n",
       "<style scoped>\n",
       "    .dataframe tbody tr th:only-of-type {\n",
       "        vertical-align: middle;\n",
       "    }\n",
       "\n",
       "    .dataframe tbody tr th {\n",
       "        vertical-align: top;\n",
       "    }\n",
       "\n",
       "    .dataframe thead th {\n",
       "        text-align: right;\n",
       "    }\n",
       "</style>\n",
       "<table border=\"1\" class=\"dataframe\">\n",
       "  <thead>\n",
       "    <tr style=\"text-align: right;\">\n",
       "      <th></th>\n",
       "      <th>image</th>\n",
       "      <th>useful</th>\n",
       "      <th>angle</th>\n",
       "    </tr>\n",
       "  </thead>\n",
       "  <tbody>\n",
       "    <tr>\n",
       "      <th>0</th>\n",
       "      <td>M204933/M204933001.jpg</td>\n",
       "      <td>yes</td>\n",
       "      <td>frente_acomp</td>\n",
       "    </tr>\n",
       "    <tr>\n",
       "      <th>1</th>\n",
       "      <td>M204933/M204933002.jpg</td>\n",
       "      <td>yes</td>\n",
       "      <td>frente_cond</td>\n",
       "    </tr>\n",
       "    <tr>\n",
       "      <th>2</th>\n",
       "      <td>M204933/M204933003.jpg</td>\n",
       "      <td>yes</td>\n",
       "      <td>atras_cond</td>\n",
       "    </tr>\n",
       "    <tr>\n",
       "      <th>3</th>\n",
       "      <td>M204933/M204933004.jpg</td>\n",
       "      <td>yes</td>\n",
       "      <td>atras_acomp</td>\n",
       "    </tr>\n",
       "    <tr>\n",
       "      <th>4</th>\n",
       "      <td>M204933/M204933005.jpg</td>\n",
       "      <td>yes</td>\n",
       "      <td>lado_acomp</td>\n",
       "    </tr>\n",
       "  </tbody>\n",
       "</table>\n",
       "</div>"
      ],
      "text/plain": [
       "                    image useful         angle\n",
       "0  M204933/M204933001.jpg    yes  frente_acomp\n",
       "1  M204933/M204933002.jpg    yes   frente_cond\n",
       "2  M204933/M204933003.jpg    yes    atras_cond\n",
       "3  M204933/M204933004.jpg    yes   atras_acomp\n",
       "4  M204933/M204933005.jpg    yes    lado_acomp"
      ]
     },
     "metadata": {},
     "output_type": "display_data"
    },
    {
     "data": {
      "text/html": [
       "<div>\n",
       "<style scoped>\n",
       "    .dataframe tbody tr th:only-of-type {\n",
       "        vertical-align: middle;\n",
       "    }\n",
       "\n",
       "    .dataframe tbody tr th {\n",
       "        vertical-align: top;\n",
       "    }\n",
       "\n",
       "    .dataframe thead th {\n",
       "        text-align: right;\n",
       "    }\n",
       "</style>\n",
       "<table border=\"1\" class=\"dataframe\">\n",
       "  <thead>\n",
       "    <tr style=\"text-align: right;\">\n",
       "      <th></th>\n",
       "      <th>Siniestro</th>\n",
       "      <th>DENUNCIA</th>\n",
       "      <th>Pieza</th>\n",
       "      <th>Tarea</th>\n",
       "      <th>Horas</th>\n",
       "      <th>pieza_normalizada</th>\n",
       "    </tr>\n",
       "  </thead>\n",
       "  <tbody>\n",
       "    <tr>\n",
       "      <th>0</th>\n",
       "      <td>577/2020</td>\n",
       "      <td>M245982</td>\n",
       "      <td>tapa baul hatch</td>\n",
       "      <td>Sustituir</td>\n",
       "      <td>2.50</td>\n",
       "      <td>Tapa de Baul</td>\n",
       "    </tr>\n",
       "    <tr>\n",
       "      <th>1</th>\n",
       "      <td>577/2020</td>\n",
       "      <td>M245982</td>\n",
       "      <td>luneta tras</td>\n",
       "      <td>SYC</td>\n",
       "      <td>1.00</td>\n",
       "      <td>Otro</td>\n",
       "    </tr>\n",
       "    <tr>\n",
       "      <th>2</th>\n",
       "      <td>577/2020</td>\n",
       "      <td>M245982</td>\n",
       "      <td>kit pegado</td>\n",
       "      <td>Sustituir</td>\n",
       "      <td>0.00</td>\n",
       "      <td>Otro</td>\n",
       "    </tr>\n",
       "    <tr>\n",
       "      <th>3</th>\n",
       "      <td>577/2020</td>\n",
       "      <td>M245982</td>\n",
       "      <td>paragolpe trasero</td>\n",
       "      <td>Sustituir</td>\n",
       "      <td>1.00</td>\n",
       "      <td>Paragolpe Trasero</td>\n",
       "    </tr>\n",
       "    <tr>\n",
       "      <th>4</th>\n",
       "      <td>577/2020</td>\n",
       "      <td>M245982</td>\n",
       "      <td>farol trasero izq</td>\n",
       "      <td>Sustituir</td>\n",
       "      <td>0.25</td>\n",
       "      <td>Farol Trasero Izquierdo</td>\n",
       "    </tr>\n",
       "  </tbody>\n",
       "</table>\n",
       "</div>"
      ],
      "text/plain": [
       "  Siniestro DENUNCIA              Pieza      Tarea Horas  \\\n",
       "0  577/2020  M245982    tapa baul hatch  Sustituir  2.50   \n",
       "1  577/2020  M245982        luneta tras        SYC  1.00   \n",
       "2  577/2020  M245982         kit pegado  Sustituir  0.00   \n",
       "3  577/2020  M245982  paragolpe trasero  Sustituir  1.00   \n",
       "4  577/2020  M245982  farol trasero izq  Sustituir  0.25   \n",
       "\n",
       "         pieza_normalizada  \n",
       "0             Tapa de Baul  \n",
       "1                     Otro  \n",
       "2                     Otro  \n",
       "3        Paragolpe Trasero  \n",
       "4  Farol Trasero Izquierdo  "
      ]
     },
     "metadata": {},
     "output_type": "display_data"
    }
   ],
   "source": [
    "PART_TO_ANALYZE = \"Paragolpe Delantero\"\n",
    "\n",
    "metadata = common.load_metadata_dataframe('state.json')\n",
    "metadata = metadata[metadata.apply(one_part_dataset.is_useful, axis=1)]\n",
    "\n",
    "complaint_parts = pd.read_csv('../preprocessing/piezas_normalizadas.csv')\n",
    "display(metadata.head())\n",
    "display(complaint_parts.head())"
   ]
  },
  {
   "cell_type": "code",
   "execution_count": 20,
   "id": "d08516b4-decc-4646-9b72-a72a610c35d8",
   "metadata": {},
   "outputs": [
    {
     "data": {
      "text/plain": [
       "(1665, 3)"
      ]
     },
     "execution_count": 20,
     "metadata": {},
     "output_type": "execute_result"
    }
   ],
   "source": [
    "metadata.shape"
   ]
  },
  {
   "cell_type": "code",
   "execution_count": 21,
   "id": "91f56b3e-faac-4805-ae12-272f11575ee7",
   "metadata": {},
   "outputs": [],
   "source": [
    "def parts_info_from_complaint(complaint):\n",
    "        df_complaint = complaint_parts[complaint_parts[\"DENUNCIA\"] == complaint]\n",
    "        return list(df_complaint[[\"pieza_normalizada\", \"Tarea\", \"Horas\"]].to_records(index=False))\n",
    "\n",
    "def get_part_category(row):\n",
    "        is_visible = PART_TO_ANALYZE in common.angulo_pieza[row[\"angle\"]]\n",
    "        parts_info = parts_info_from_complaint(row[\"image\"].split(\"/\")[0])\n",
    "        \n",
    "        broken_part_info = None\n",
    "        is_broken = False\n",
    "        for (part, tarea, horas) in parts_info:\n",
    "            if PART_TO_ANALYZE == part:\n",
    "                is_broken = True\n",
    "                broken_part_info = (tarea, horas)\n",
    "\n",
    "        if is_visible:\n",
    "            if is_broken:\n",
    "                return (\"roto\", broken_part_info[0], float(broken_part_info[1]))\n",
    "            else:\n",
    "                return (\"sano\", \"nada\", 0)\n",
    "        else:\n",
    "            return (\"no_visible\", \"nada\", 0)\n",
    "        \n",
    "def generate_image_info(row):\n",
    "    (estado, tarea, horas) = get_part_category(row)\n",
    "    return (row[\"image\"], estado, tarea, horas)"
   ]
  },
  {
   "cell_type": "code",
   "execution_count": 22,
   "id": "e4ec316d-9694-4941-a53f-b015577ee3c4",
   "metadata": {},
   "outputs": [],
   "source": [
    "samples = metadata.apply(generate_image_info, axis=1).tolist()\n",
    "samples_df = pd.DataFrame(samples)\n",
    "samples_df.columns = [\"image\", \"estado\", \"tarea\", \"horas\"]"
   ]
  },
  {
   "cell_type": "code",
   "execution_count": 23,
   "id": "fe2d5329-5aea-4829-a5dc-d92e3251fc41",
   "metadata": {
    "tags": []
   },
   "outputs": [
    {
     "data": {
      "text/html": [
       "<div>\n",
       "<style scoped>\n",
       "    .dataframe tbody tr th:only-of-type {\n",
       "        vertical-align: middle;\n",
       "    }\n",
       "\n",
       "    .dataframe tbody tr th {\n",
       "        vertical-align: top;\n",
       "    }\n",
       "\n",
       "    .dataframe thead th {\n",
       "        text-align: right;\n",
       "    }\n",
       "</style>\n",
       "<table border=\"1\" class=\"dataframe\">\n",
       "  <thead>\n",
       "    <tr style=\"text-align: right;\">\n",
       "      <th></th>\n",
       "      <th>image</th>\n",
       "      <th>estado</th>\n",
       "      <th>tarea</th>\n",
       "      <th>horas</th>\n",
       "    </tr>\n",
       "  </thead>\n",
       "  <tbody>\n",
       "    <tr>\n",
       "      <th>0</th>\n",
       "      <td>M204933/M204933001.jpg</td>\n",
       "      <td>sano</td>\n",
       "      <td>nada</td>\n",
       "      <td>0.0</td>\n",
       "    </tr>\n",
       "    <tr>\n",
       "      <th>1</th>\n",
       "      <td>M204933/M204933002.jpg</td>\n",
       "      <td>sano</td>\n",
       "      <td>nada</td>\n",
       "      <td>0.0</td>\n",
       "    </tr>\n",
       "    <tr>\n",
       "      <th>2</th>\n",
       "      <td>M204933/M204933003.jpg</td>\n",
       "      <td>no_visible</td>\n",
       "      <td>nada</td>\n",
       "      <td>0.0</td>\n",
       "    </tr>\n",
       "    <tr>\n",
       "      <th>3</th>\n",
       "      <td>M204933/M204933004.jpg</td>\n",
       "      <td>no_visible</td>\n",
       "      <td>nada</td>\n",
       "      <td>0.0</td>\n",
       "    </tr>\n",
       "    <tr>\n",
       "      <th>4</th>\n",
       "      <td>M204933/M204933005.jpg</td>\n",
       "      <td>no_visible</td>\n",
       "      <td>nada</td>\n",
       "      <td>0.0</td>\n",
       "    </tr>\n",
       "  </tbody>\n",
       "</table>\n",
       "</div>"
      ],
      "text/plain": [
       "                    image      estado tarea  horas\n",
       "0  M204933/M204933001.jpg        sano  nada    0.0\n",
       "1  M204933/M204933002.jpg        sano  nada    0.0\n",
       "2  M204933/M204933003.jpg  no_visible  nada    0.0\n",
       "3  M204933/M204933004.jpg  no_visible  nada    0.0\n",
       "4  M204933/M204933005.jpg  no_visible  nada    0.0"
      ]
     },
     "execution_count": 23,
     "metadata": {},
     "output_type": "execute_result"
    }
   ],
   "source": [
    "samples_df.head()"
   ]
  },
  {
   "cell_type": "code",
   "execution_count": 25,
   "id": "e037e782-a974-4bd7-98b1-7db4adcbd5b9",
   "metadata": {},
   "outputs": [],
   "source": [
    "samples_df = samples_df[samples_df[\"estado\"] == \"roto\"]"
   ]
  },
  {
   "cell_type": "code",
   "execution_count": 30,
   "id": "4db4041a-1b3f-4d37-a8bf-856c051ae616",
   "metadata": {},
   "outputs": [
    {
     "data": {
      "text/plain": [
       "(424, 4)"
      ]
     },
     "execution_count": 30,
     "metadata": {},
     "output_type": "execute_result"
    }
   ],
   "source": [
    "samples_df.shape"
   ]
  },
  {
   "cell_type": "code",
   "execution_count": 28,
   "id": "8c0556c5-0fe0-4914-8ff0-5f013f61b972",
   "metadata": {},
   "outputs": [
    {
     "data": {
      "text/plain": [
       "14      None\n",
       "15      None\n",
       "20      None\n",
       "21      None\n",
       "22      None\n",
       "        ... \n",
       "1656    None\n",
       "1657    None\n",
       "1658    None\n",
       "1661    None\n",
       "1663    None\n",
       "Length: 424, dtype: object"
      ]
     },
     "execution_count": 28,
     "metadata": {},
     "output_type": "execute_result"
    }
   ],
   "source": [
    "FROM_PREFIX = '/Users/fcuevas/Documents/imgs/{}'\n",
    "TO_PREFIX = \"./imgs_to_classify/{}\"\n",
    "\n",
    "def copy_img(row):\n",
    "    from_dir = FROM_PREFIX.format(row[\"image\"])\n",
    "    to_dir = TO_PREFIX.format(row[\"image\"])\n",
    "    \n",
    "    os.makedirs(os.path.dirname(to_dir), exist_ok=True)\n",
    "    copyfile(from_dir, to_dir)\n",
    "\n",
    "samples_df.apply(copy_img, axis=1)"
   ]
  },
  {
   "cell_type": "code",
   "execution_count": null,
   "id": "cfed06fd-140c-40b4-9500-33bad1519ff0",
   "metadata": {},
   "outputs": [],
   "source": []
  }
 ],
 "metadata": {
  "kernelspec": {
   "display_name": "Python 3 (ipykernel)",
   "language": "python",
   "name": "python3"
  },
  "language_info": {
   "codemirror_mode": {
    "name": "ipython",
    "version": 3
   },
   "file_extension": ".py",
   "mimetype": "text/x-python",
   "name": "python",
   "nbconvert_exporter": "python",
   "pygments_lexer": "ipython3",
   "version": "3.9.7"
  }
 },
 "nbformat": 4,
 "nbformat_minor": 5
}
