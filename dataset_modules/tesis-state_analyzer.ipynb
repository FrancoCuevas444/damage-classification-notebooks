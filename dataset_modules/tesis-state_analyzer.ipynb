{
 "cells": [
  {
   "cell_type": "code",
   "execution_count": 2,
   "id": "07fd7f73-5b03-47de-9f70-c0ea5e926e2c",
   "metadata": {},
   "outputs": [],
   "source": [
    "import os\n",
    "import pandas as pd\n",
    "import common\n",
    "from shutil import copyfile"
   ]
  },
  {
   "cell_type": "code",
   "execution_count": 3,
   "id": "b830dfdc-c36c-44fa-9626-2ba22c261db4",
   "metadata": {},
   "outputs": [],
   "source": [
    "metadata = common.load_metadata_dataframe('state.json')"
   ]
  },
  {
   "cell_type": "code",
   "execution_count": 4,
   "id": "1cd62903-6776-41dc-b448-27751c4fc822",
   "metadata": {
    "collapsed": true,
    "jupyter": {
     "outputs_hidden": true
    },
    "tags": []
   },
   "outputs": [
    {
     "data": {
      "text/plain": [
       "0       None\n",
       "1       None\n",
       "2       None\n",
       "3       None\n",
       "4       None\n",
       "        ... \n",
       "3566    None\n",
       "3567    None\n",
       "3568    None\n",
       "3569    None\n",
       "3570    None\n",
       "Length: 3571, dtype: object"
      ]
     },
     "execution_count": 4,
     "metadata": {},
     "output_type": "execute_result"
    }
   ],
   "source": [
    "FROM_PREFIX = '/Users/fcuevas/Documents/imgs/{}'\n",
    "TO_PREFIX = \"./imgs/{}\"\n",
    "\n",
    "def copy_img(row):\n",
    "    from_dir = FROM_PREFIX.format(row[\"image\"])\n",
    "    to_dir = TO_PREFIX.format(row[\"image\"])\n",
    "    \n",
    "    os.makedirs(os.path.dirname(to_dir), exist_ok=True)\n",
    "    copyfile(from_dir, to_dir)\n",
    "\n",
    "metadata.apply(copy_img, axis=1)"
   ]
  },
  {
   "cell_type": "code",
   "execution_count": 19,
   "id": "f0ff23bd-7caf-4812-9d8c-fed2d94ff1a5",
   "metadata": {},
   "outputs": [],
   "source": [
    "metadata = metadata[metadata[\"useful\"] == \"yes\"]"
   ]
  },
  {
   "cell_type": "code",
   "execution_count": 22,
   "id": "829dd263-750b-4ef3-8160-e1a77b10399b",
   "metadata": {},
   "outputs": [],
   "source": [
    "metadata = metadata.dropna()"
   ]
  },
  {
   "cell_type": "code",
   "execution_count": 23,
   "id": "280e2343-8b3f-4efc-b0c6-03971848e9d7",
   "metadata": {},
   "outputs": [
    {
     "data": {
      "text/plain": [
       "(1665, 3)"
      ]
     },
     "execution_count": 23,
     "metadata": {},
     "output_type": "execute_result"
    }
   ],
   "source": [
    "metadata[metadata[\"angle\"] != \"otro\"].shape"
   ]
  },
  {
   "cell_type": "code",
   "execution_count": 6,
   "id": "258b70e2-906f-4117-8d0e-b154d83b8797",
   "metadata": {},
   "outputs": [
    {
     "data": {
      "text/html": [
       "<div>\n",
       "<style scoped>\n",
       "    .dataframe tbody tr th:only-of-type {\n",
       "        vertical-align: middle;\n",
       "    }\n",
       "\n",
       "    .dataframe tbody tr th {\n",
       "        vertical-align: top;\n",
       "    }\n",
       "\n",
       "    .dataframe thead th {\n",
       "        text-align: right;\n",
       "    }\n",
       "</style>\n",
       "<table border=\"1\" class=\"dataframe\">\n",
       "  <thead>\n",
       "    <tr style=\"text-align: right;\">\n",
       "      <th></th>\n",
       "      <th>image</th>\n",
       "      <th>useful</th>\n",
       "      <th>angle</th>\n",
       "    </tr>\n",
       "  </thead>\n",
       "  <tbody>\n",
       "    <tr>\n",
       "      <th>0</th>\n",
       "      <td>M204933/M204933001.jpg</td>\n",
       "      <td>yes</td>\n",
       "      <td>frente_acomp</td>\n",
       "    </tr>\n",
       "    <tr>\n",
       "      <th>1</th>\n",
       "      <td>M204933/M204933002.jpg</td>\n",
       "      <td>yes</td>\n",
       "      <td>frente_cond</td>\n",
       "    </tr>\n",
       "    <tr>\n",
       "      <th>2</th>\n",
       "      <td>M204933/M204933003.jpg</td>\n",
       "      <td>yes</td>\n",
       "      <td>atras_cond</td>\n",
       "    </tr>\n",
       "    <tr>\n",
       "      <th>3</th>\n",
       "      <td>M204933/M204933004.jpg</td>\n",
       "      <td>yes</td>\n",
       "      <td>atras_acomp</td>\n",
       "    </tr>\n",
       "    <tr>\n",
       "      <th>4</th>\n",
       "      <td>M204933/M204933005.jpg</td>\n",
       "      <td>yes</td>\n",
       "      <td>lado_acomp</td>\n",
       "    </tr>\n",
       "    <tr>\n",
       "      <th>...</th>\n",
       "      <td>...</td>\n",
       "      <td>...</td>\n",
       "      <td>...</td>\n",
       "    </tr>\n",
       "    <tr>\n",
       "      <th>3566</th>\n",
       "      <td>M320031/M320031008.jpg</td>\n",
       "      <td>no</td>\n",
       "      <td></td>\n",
       "    </tr>\n",
       "    <tr>\n",
       "      <th>3567</th>\n",
       "      <td>M320031/M320031009.jpg</td>\n",
       "      <td>no</td>\n",
       "      <td></td>\n",
       "    </tr>\n",
       "    <tr>\n",
       "      <th>3568</th>\n",
       "      <td>M320031/M320031010.jpg</td>\n",
       "      <td>yes</td>\n",
       "      <td>lado_cond</td>\n",
       "    </tr>\n",
       "    <tr>\n",
       "      <th>3569</th>\n",
       "      <td>M320031/M320031011.jpg</td>\n",
       "      <td>maybe</td>\n",
       "      <td>lado_cond</td>\n",
       "    </tr>\n",
       "    <tr>\n",
       "      <th>3570</th>\n",
       "      <td>M320031/M320031012.jpg</td>\n",
       "      <td>no</td>\n",
       "      <td></td>\n",
       "    </tr>\n",
       "  </tbody>\n",
       "</table>\n",
       "<p>3571 rows × 3 columns</p>\n",
       "</div>"
      ],
      "text/plain": [
       "                       image useful         angle\n",
       "0     M204933/M204933001.jpg    yes  frente_acomp\n",
       "1     M204933/M204933002.jpg    yes   frente_cond\n",
       "2     M204933/M204933003.jpg    yes    atras_cond\n",
       "3     M204933/M204933004.jpg    yes   atras_acomp\n",
       "4     M204933/M204933005.jpg    yes    lado_acomp\n",
       "...                      ...    ...           ...\n",
       "3566  M320031/M320031008.jpg     no              \n",
       "3567  M320031/M320031009.jpg     no              \n",
       "3568  M320031/M320031010.jpg    yes     lado_cond\n",
       "3569  M320031/M320031011.jpg  maybe     lado_cond\n",
       "3570  M320031/M320031012.jpg     no              \n",
       "\n",
       "[3571 rows x 3 columns]"
      ]
     },
     "execution_count": 6,
     "metadata": {},
     "output_type": "execute_result"
    }
   ],
   "source": [
    "metadata"
   ]
  },
  {
   "cell_type": "code",
   "execution_count": 19,
   "id": "3f122c0c-4a21-4a2c-aa14-6917c9b46cc2",
   "metadata": {},
   "outputs": [
    {
     "data": {
      "text/plain": [
       "yes              1667\n",
       "other_vehicle     648\n",
       "no                640\n",
       "maybe             535\n",
       "                   77\n",
       "Name: useful, dtype: int64"
      ]
     },
     "execution_count": 19,
     "metadata": {},
     "output_type": "execute_result"
    }
   ],
   "source": [
    "metadata[\"useful\"].value_counts()"
   ]
  },
  {
   "cell_type": "code",
   "execution_count": 21,
   "id": "b416ee9c-7eb1-4123-beb9-6a5085258523",
   "metadata": {},
   "outputs": [
    {
     "data": {
      "text/plain": [
       "frente_cond     312\n",
       "atras_acomp     295\n",
       "frente_acomp    287\n",
       "atras_cond      287\n",
       "atras           177\n",
       "frente          150\n",
       "lado_cond        88\n",
       "lado_acomp       69\n",
       "Name: angle, dtype: int64"
      ]
     },
     "execution_count": 21,
     "metadata": {},
     "output_type": "execute_result"
    }
   ],
   "source": [
    "metadataUseful = metadata[metadata[\"useful\"] == \"yes\"]\n",
    "metadataUseful[\"angle\"].value_counts()"
   ]
  },
  {
   "cell_type": "markdown",
   "id": "b58228d7-a8dc-4e12-aac1-c1a8ffef5f66",
   "metadata": {},
   "source": [
    "## Dataset proportion"
   ]
  },
  {
   "cell_type": "code",
   "execution_count": 7,
   "id": "82c29bf4-8bbe-4cde-a781-a8c14fe25fcd",
   "metadata": {},
   "outputs": [
    {
     "data": {
      "text/plain": [
       "['Guardabarro Delantero Derecho',\n",
       " 'Guardabarro Delantero Izquierdo',\n",
       " 'Guardabarro Trasero Derecho',\n",
       " 'Guardabarro Trasero Izquierdo',\n",
       " 'Puerta Delantera Derecha',\n",
       " 'Puerta Delantera Izquierda',\n",
       " 'Puerta Trasera Derecha',\n",
       " 'Puerta Trasera Izquierda',\n",
       " 'Panel Trasero',\n",
       " 'Capot',\n",
       " 'Tapa de Baul',\n",
       " 'Zocalo Derecho',\n",
       " 'Zocalo Izquierdo',\n",
       " 'Farol Delantero Derecho',\n",
       " 'Farol Delantero Izquierdo',\n",
       " 'Farol Trasero Derecho',\n",
       " 'Farol Trasero Izquierdo',\n",
       " 'Techo',\n",
       " 'Lateral de Caja Derecho',\n",
       " 'Lateral de Caja Izquierdo',\n",
       " 'Paragolpe Delantero',\n",
       " 'Paragolpe Trasero']"
      ]
     },
     "execution_count": 7,
     "metadata": {},
     "output_type": "execute_result"
    }
   ],
   "source": [
    "common.piezas"
   ]
  },
  {
   "cell_type": "code",
   "execution_count": 8,
   "id": "5a40a7ec-deab-48c0-85a3-4d1b140a265a",
   "metadata": {},
   "outputs": [],
   "source": [
    "complaint_parts = pd.read_csv('../preprocessing/piezas_normalizadas.csv')"
   ]
  },
  {
   "cell_type": "code",
   "execution_count": 9,
   "id": "90af33cb-52ff-4ad6-b465-559718b94cc4",
   "metadata": {},
   "outputs": [
    {
     "data": {
      "text/html": [
       "<div>\n",
       "<style scoped>\n",
       "    .dataframe tbody tr th:only-of-type {\n",
       "        vertical-align: middle;\n",
       "    }\n",
       "\n",
       "    .dataframe tbody tr th {\n",
       "        vertical-align: top;\n",
       "    }\n",
       "\n",
       "    .dataframe thead th {\n",
       "        text-align: right;\n",
       "    }\n",
       "</style>\n",
       "<table border=\"1\" class=\"dataframe\">\n",
       "  <thead>\n",
       "    <tr style=\"text-align: right;\">\n",
       "      <th></th>\n",
       "      <th>Siniestro</th>\n",
       "      <th>DENUNCIA</th>\n",
       "      <th>Pieza</th>\n",
       "      <th>Tarea</th>\n",
       "      <th>Horas</th>\n",
       "      <th>pieza_normalizada</th>\n",
       "    </tr>\n",
       "  </thead>\n",
       "  <tbody>\n",
       "    <tr>\n",
       "      <th>0</th>\n",
       "      <td>577/2020</td>\n",
       "      <td>M245982</td>\n",
       "      <td>tapa baul hatch</td>\n",
       "      <td>Sustituir</td>\n",
       "      <td>2.50</td>\n",
       "      <td>Tapa de Baul</td>\n",
       "    </tr>\n",
       "    <tr>\n",
       "      <th>1</th>\n",
       "      <td>577/2020</td>\n",
       "      <td>M245982</td>\n",
       "      <td>luneta tras</td>\n",
       "      <td>SYC</td>\n",
       "      <td>1.00</td>\n",
       "      <td>Otro</td>\n",
       "    </tr>\n",
       "    <tr>\n",
       "      <th>2</th>\n",
       "      <td>577/2020</td>\n",
       "      <td>M245982</td>\n",
       "      <td>kit pegado</td>\n",
       "      <td>Sustituir</td>\n",
       "      <td>0.00</td>\n",
       "      <td>Otro</td>\n",
       "    </tr>\n",
       "    <tr>\n",
       "      <th>3</th>\n",
       "      <td>577/2020</td>\n",
       "      <td>M245982</td>\n",
       "      <td>paragolpe trasero</td>\n",
       "      <td>Sustituir</td>\n",
       "      <td>1.00</td>\n",
       "      <td>Paragolpe Trasero</td>\n",
       "    </tr>\n",
       "    <tr>\n",
       "      <th>4</th>\n",
       "      <td>577/2020</td>\n",
       "      <td>M245982</td>\n",
       "      <td>farol trasero izq</td>\n",
       "      <td>Sustituir</td>\n",
       "      <td>0.25</td>\n",
       "      <td>Farol Trasero Izquierdo</td>\n",
       "    </tr>\n",
       "    <tr>\n",
       "      <th>...</th>\n",
       "      <td>...</td>\n",
       "      <td>...</td>\n",
       "      <td>...</td>\n",
       "      <td>...</td>\n",
       "      <td>...</td>\n",
       "      <td>...</td>\n",
       "    </tr>\n",
       "    <tr>\n",
       "      <th>42703</th>\n",
       "      <td>31433/2020</td>\n",
       "      <td>M332767</td>\n",
       "      <td>tapa de baul</td>\n",
       "      <td>Reparar</td>\n",
       "      <td>2.00</td>\n",
       "      <td>Tapa de Baul</td>\n",
       "    </tr>\n",
       "    <tr>\n",
       "      <th>42704</th>\n",
       "      <td>31433/2020</td>\n",
       "      <td>M332767</td>\n",
       "      <td>insignia emblema renault tapa</td>\n",
       "      <td>Sustituir</td>\n",
       "      <td>0.00</td>\n",
       "      <td>Otro</td>\n",
       "    </tr>\n",
       "    <tr>\n",
       "      <th>42705</th>\n",
       "      <td>31433/2020</td>\n",
       "      <td>M332767</td>\n",
       "      <td>broches parg tras</td>\n",
       "      <td>Sustituir</td>\n",
       "      <td>0.00</td>\n",
       "      <td>Otro</td>\n",
       "    </tr>\n",
       "    <tr>\n",
       "      <th>42706</th>\n",
       "      <td>31433/2020</td>\n",
       "      <td>M332767</td>\n",
       "      <td>guardabarro trasero soldado izq</td>\n",
       "      <td>Reparar</td>\n",
       "      <td>2.50</td>\n",
       "      <td>Guardabarro Trasero Izquierdo</td>\n",
       "    </tr>\n",
       "    <tr>\n",
       "      <th>42707</th>\n",
       "      <td>31433/2020</td>\n",
       "      <td>M332767</td>\n",
       "      <td>fletes</td>\n",
       "      <td>Sustituir</td>\n",
       "      <td>0.00</td>\n",
       "      <td>Otro</td>\n",
       "    </tr>\n",
       "  </tbody>\n",
       "</table>\n",
       "<p>42708 rows × 6 columns</p>\n",
       "</div>"
      ],
      "text/plain": [
       "        Siniestro DENUNCIA                            Pieza      Tarea Horas  \\\n",
       "0        577/2020  M245982                  tapa baul hatch  Sustituir  2.50   \n",
       "1        577/2020  M245982                      luneta tras        SYC  1.00   \n",
       "2        577/2020  M245982                       kit pegado  Sustituir  0.00   \n",
       "3        577/2020  M245982                paragolpe trasero  Sustituir  1.00   \n",
       "4        577/2020  M245982                farol trasero izq  Sustituir  0.25   \n",
       "...           ...      ...                              ...        ...   ...   \n",
       "42703  31433/2020  M332767                     tapa de baul    Reparar  2.00   \n",
       "42704  31433/2020  M332767    insignia emblema renault tapa  Sustituir  0.00   \n",
       "42705  31433/2020  M332767                broches parg tras  Sustituir  0.00   \n",
       "42706  31433/2020  M332767  guardabarro trasero soldado izq    Reparar  2.50   \n",
       "42707  31433/2020  M332767                           fletes  Sustituir  0.00   \n",
       "\n",
       "                   pieza_normalizada  \n",
       "0                       Tapa de Baul  \n",
       "1                               Otro  \n",
       "2                               Otro  \n",
       "3                  Paragolpe Trasero  \n",
       "4            Farol Trasero Izquierdo  \n",
       "...                              ...  \n",
       "42703                   Tapa de Baul  \n",
       "42704                           Otro  \n",
       "42705                           Otro  \n",
       "42706  Guardabarro Trasero Izquierdo  \n",
       "42707                           Otro  \n",
       "\n",
       "[42708 rows x 6 columns]"
      ]
     },
     "execution_count": 9,
     "metadata": {},
     "output_type": "execute_result"
    }
   ],
   "source": [
    "complaint_parts"
   ]
  },
  {
   "cell_type": "code",
   "execution_count": 12,
   "id": "3877dae9-2c01-4bbc-a617-8b51c0c21a04",
   "metadata": {},
   "outputs": [],
   "source": []
  },
  {
   "cell_type": "code",
   "execution_count": 13,
   "id": "c9fb122e-be8b-478d-ab77-c14184174a20",
   "metadata": {
    "collapsed": true,
    "jupyter": {
     "outputs_hidden": true
    },
    "tags": []
   },
   "outputs": [
    {
     "data": {
      "text/plain": [
       "{'Guardabarro Delantero Derecho': {'not_in_image': 0, 'ok': 0, 'broken': 0},\n",
       " 'Guardabarro Delantero Izquierdo': {'not_in_image': 0, 'ok': 0, 'broken': 0},\n",
       " 'Guardabarro Trasero Derecho': {'not_in_image': 0, 'ok': 0, 'broken': 0},\n",
       " 'Guardabarro Trasero Izquierdo': {'not_in_image': 0, 'ok': 0, 'broken': 0},\n",
       " 'Puerta Delantera Derecha': {'not_in_image': 0, 'ok': 0, 'broken': 0},\n",
       " 'Puerta Delantera Izquierda': {'not_in_image': 0, 'ok': 0, 'broken': 0},\n",
       " 'Puerta Trasera Derecha': {'not_in_image': 0, 'ok': 0, 'broken': 0},\n",
       " 'Puerta Trasera Izquierda': {'not_in_image': 0, 'ok': 0, 'broken': 0},\n",
       " 'Panel Trasero': {'not_in_image': 0, 'ok': 0, 'broken': 0},\n",
       " 'Capot': {'not_in_image': 0, 'ok': 0, 'broken': 0},\n",
       " 'Tapa de Baul': {'not_in_image': 0, 'ok': 0, 'broken': 0},\n",
       " 'Zocalo Derecho': {'not_in_image': 0, 'ok': 0, 'broken': 0},\n",
       " 'Zocalo Izquierdo': {'not_in_image': 0, 'ok': 0, 'broken': 0},\n",
       " 'Farol Delantero Derecho': {'not_in_image': 0, 'ok': 0, 'broken': 0},\n",
       " 'Farol Delantero Izquierdo': {'not_in_image': 0, 'ok': 0, 'broken': 0},\n",
       " 'Farol Trasero Derecho': {'not_in_image': 0, 'ok': 0, 'broken': 0},\n",
       " 'Farol Trasero Izquierdo': {'not_in_image': 0, 'ok': 0, 'broken': 0},\n",
       " 'Techo': {'not_in_image': 0, 'ok': 0, 'broken': 0},\n",
       " 'Lateral de Caja Derecho': {'not_in_image': 0, 'ok': 0, 'broken': 0},\n",
       " 'Lateral de Caja Izquierdo': {'not_in_image': 0, 'ok': 0, 'broken': 0},\n",
       " 'Paragolpe Delantero': {'not_in_image': 0, 'ok': 0, 'broken': 0},\n",
       " 'Paragolpe Trasero': {'not_in_image': 0, 'ok': 0, 'broken': 0}}"
      ]
     },
     "execution_count": 13,
     "metadata": {},
     "output_type": "execute_result"
    }
   ],
   "source": [
    "counters"
   ]
  },
  {
   "cell_type": "code",
   "execution_count": 25,
   "id": "7b033884-b8a1-4715-8ae7-fd6c35f98cfc",
   "metadata": {},
   "outputs": [
    {
     "data": {
      "text/plain": [
       "0       None\n",
       "1       None\n",
       "2       None\n",
       "3       None\n",
       "4       None\n",
       "        ... \n",
       "3550    None\n",
       "3551    None\n",
       "3559    None\n",
       "3565    None\n",
       "3568    None\n",
       "Length: 1665, dtype: object"
      ]
     },
     "execution_count": 25,
     "metadata": {},
     "output_type": "execute_result"
    }
   ],
   "source": [
    "counters = {}\n",
    "for pieza in common.piezas:\n",
    "    counters[pieza] = {\"not_in_image\": 0, \"ok\": 0, \"broken\": 0}\n",
    "\n",
    "def parts_from_complaint(complaint):\n",
    "        df_complaint = complaint_parts[complaint_parts[\"DENUNCIA\"] == complaint]\n",
    "        return df_complaint[\"pieza_normalizada\"].tolist()\n",
    "\n",
    "def set_counters(row):\n",
    "    for pieza in common.piezas:\n",
    "        if pieza in common.angulo_pieza[row[\"angle\"]]:\n",
    "            is_broken = pieza in parts_from_complaint(row[\"image\"].split(\"/\")[0])\n",
    "            if is_broken:\n",
    "                counters[pieza][\"broken\"] += 1\n",
    "            else:\n",
    "                counters[pieza][\"ok\"] += 1\n",
    "        else:\n",
    "            counters[pieza][\"not_in_image\"] += 1\n",
    "\n",
    "metadata.apply(set_counters, axis=1)"
   ]
  },
  {
   "cell_type": "code",
   "execution_count": 26,
   "id": "65c5b24f-38ba-475b-8d36-a66d81e5111e",
   "metadata": {},
   "outputs": [
    {
     "name": "stdout",
     "output_type": "stream",
     "text": [
      "Guardabarro Delantero Derecho,1014,454,197\n",
      "Guardabarro Delantero Izquierdo,978,409,278\n",
      "Guardabarro Trasero Derecho,1014,534,117\n",
      "Guardabarro Trasero Izquierdo,978,549,138\n",
      "Puerta Delantera Derecha,1014,528,123\n",
      "Puerta Delantera Izquierda,978,490,197\n",
      "Puerta Trasera Derecha,1014,574,77\n",
      "Puerta Trasera Izquierda,978,604,83\n",
      "Panel Trasero,906,586,173\n",
      "Capot,916,470,279\n",
      "Tapa de Baul,906,607,152\n",
      "Zocalo Derecho,1014,588,63\n",
      "Zocalo Izquierdo,978,618,69\n",
      "Farol Delantero Derecho,1159,301,205\n",
      "Farol Delantero Izquierdo,1115,286,264\n",
      "Farol Trasero Derecho,1124,353,188\n",
      "Farol Trasero Izquierdo,1113,377,175\n",
      "Techo,1665,0,0\n",
      "Lateral de Caja Derecho,1014,623,28\n",
      "Lateral de Caja Izquierdo,978,676,11\n",
      "Paragolpe Delantero,916,325,424\n",
      "Paragolpe Trasero,906,417,342\n"
     ]
    }
   ],
   "source": [
    "for key in counters:\n",
    "    print(\"{},{},{},{}\".format(key, counters[key][\"not_in_image\"], counters[key][\"ok\"], counters[key][\"broken\"])) "
   ]
  },
  {
   "cell_type": "code",
   "execution_count": null,
   "id": "76c87d55-877d-436b-bfe9-cae89c205d6b",
   "metadata": {},
   "outputs": [],
   "source": []
  }
 ],
 "metadata": {
  "kernelspec": {
   "display_name": "Python 3",
   "language": "python",
   "name": "python3"
  },
  "language_info": {
   "codemirror_mode": {
    "name": "ipython",
    "version": 3
   },
   "file_extension": ".py",
   "mimetype": "text/x-python",
   "name": "python",
   "nbconvert_exporter": "python",
   "pygments_lexer": "ipython3",
   "version": "3.9.5"
  }
 },
 "nbformat": 4,
 "nbformat_minor": 5
}
