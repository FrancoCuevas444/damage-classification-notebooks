{
 "cells": [
  {
   "cell_type": "code",
   "execution_count": 1,
   "id": "b9db7d16-f970-40a9-ba17-0f979dad8592",
   "metadata": {},
   "outputs": [
    {
     "data": {
      "text/plain": [
       "<module 'common' from '/Users/fcuevas/Documents/fing/tesis/jupyters/dataset_modules/common.py'>"
      ]
     },
     "execution_count": 1,
     "metadata": {},
     "output_type": "execute_result"
    }
   ],
   "source": [
    "import common\n",
    "import importlib\n",
    "importlib.reload(common)"
   ]
  },
  {
   "cell_type": "code",
   "execution_count": 10,
   "id": "b0f0d325-dbe4-4938-8f0e-074fb2db07bf",
   "metadata": {},
   "outputs": [
    {
     "data": {
      "text/plain": [
       "['capot', 'farol_delantero_izquierdo', 'paragolpe_delantero']"
      ]
     },
     "execution_count": 10,
     "metadata": {},
     "output_type": "execute_result"
    }
   ],
   "source": [
    "common.load_metadata_dataframe(\"state.json\")[\"selected_parts\"]"
   ]
  },
  {
   "cell_type": "code",
   "execution_count": null,
   "id": "9012b553-7075-4d33-a063-e66da098e576",
   "metadata": {},
   "outputs": [],
   "source": []
  }
 ],
 "metadata": {
  "kernelspec": {
   "display_name": "Python 3 (ipykernel)",
   "language": "python",
   "name": "python3"
  },
  "language_info": {
   "codemirror_mode": {
    "name": "ipython",
    "version": 3
   },
   "file_extension": ".py",
   "mimetype": "text/x-python",
   "name": "python",
   "nbconvert_exporter": "python",
   "pygments_lexer": "ipython3",
   "version": "3.9.7"
  }
 },
 "nbformat": 4,
 "nbformat_minor": 5
}
