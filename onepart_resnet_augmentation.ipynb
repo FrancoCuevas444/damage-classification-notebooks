{
 "cells": [
  {
   "cell_type": "markdown",
   "id": "14008902-6e3e-4112-bafa-9b3a9d5f2529",
   "metadata": {
    "tags": []
   },
   "source": [
    "## Introducción\n",
    "\n",
    "Entrenamiento de modelo preentrenado para resolver el problema de predecir el ángulo del auto en base a la imagen.\n",
    "\n",
    "Fuertemente basado en:\n",
    "- https://towardsdatascience.com/a-practical-example-in-transfer-learning-with-pytorch-846bb835f2db\n",
    "- https://pytorch.org/tutorials/beginner/transfer_learning_tutorial.html "
   ]
  },
  {
   "cell_type": "markdown",
   "id": "86f16c12-cf8c-4db2-9d6d-c0b99b03efcd",
   "metadata": {},
   "source": [
    "## Imports"
   ]
  },
  {
   "cell_type": "code",
   "execution_count": 1,
   "id": "77316db9-9ea9-4fb0-9b5c-fbfff89a2e0d",
   "metadata": {
    "tags": []
   },
   "outputs": [],
   "source": [
    "import torch\n",
    "import dataset_modules.image_preloader as image_preloader\n",
    "import main\n",
    "import importlib\n",
    "import dataset_modules.preloaded_one_part_dataset as popd\n",
    "\n",
    "importlib.reload(main)\n",
    "importlib.reload(popd)\n",
    "\n",
    "import torchvision.transforms as transforms"
   ]
  },
  {
   "cell_type": "markdown",
   "id": "7689a1f9-cd38-4223-b0dd-84f6a81b2f16",
   "metadata": {},
   "source": [
    "## Variables"
   ]
  },
  {
   "cell_type": "code",
   "execution_count": 2,
   "id": "39af4ad1-f511-49a7-afff-d3cb96f91846",
   "metadata": {
    "tags": []
   },
   "outputs": [
    {
     "name": "stdout",
     "output_type": "stream",
     "text": [
      "Usando GPU!\n"
     ]
    }
   ],
   "source": [
    "FEATURE_EXTRACTION = False\n",
    "\n",
    "device_string = \"cuda\" if torch.cuda.is_available() else \"cpu\"\n",
    "device = torch.device(device_string)\n",
    "\n",
    "if device_string == \"cuda\":\n",
    "    print(\"Usando GPU!\")"
   ]
  },
  {
   "cell_type": "code",
   "execution_count": 3,
   "id": "57fca4bd-09c5-4a09-9f2f-c40bb5c4634c",
   "metadata": {},
   "outputs": [
    {
     "name": "stdout",
     "output_type": "stream",
     "text": [
      "Started to preload images...\n",
      "Image preloading complete in 1m 32s\n",
      "The preloaded images use 0.07039642333984375MB of memory\n"
     ]
    }
   ],
   "source": [
    "# preload images\n",
    "preloaded_images = image_preloader.preload_images(\n",
    "        images_folder='./dataset_modules/imgs/', \n",
    "        state_file='./dataset_modules/state.json', \n",
    "        resize_to=224\n",
    ")"
   ]
  },
  {
   "cell_type": "code",
   "execution_count": 53,
   "id": "8a4faa3b-e934-48ac-bf67-b38e76e78c96",
   "metadata": {},
   "outputs": [
    {
     "data": {
      "text/plain": [
       "'dataset = popd.PreloadedOnePartDataset(\\n    part,\\n    preloaded_images,\\n    data_augmentation=data_augmentation,\\n    class_to_augment=0,\\n    remove_not_visible=True,\\n    ignore_repair=True\\n)\\n\\nfor i in range(10):\\n    display(dataset[11][0])\\n'"
      ]
     },
     "execution_count": 53,
     "metadata": {},
     "output_type": "execute_result"
    }
   ],
   "source": [
    "import random\n",
    "import numpy as np\n",
    "\n",
    "random_state=42\n",
    "\n",
    "torch.manual_seed(random_state)\n",
    "random.seed(random_state)\n",
    "np.random.seed(random_state)\n",
    "\n",
    "data_augmentation=transforms.Compose([\n",
    "        transforms.ColorJitter(0.3, 0.3, 0.3, 0.3),\n",
    "        #transforms.RandomRotation((-45, 45))\n",
    "        #transforms.ColorJitter(0.5, 0.5, 0.5, 0.5),\n",
    "        #transforms.RandomApply([transforms.RandomRotation((-20, 20))], p=0.2),\n",
    "        #transforms.RandomEqualize(),\n",
    "        transforms.RandomHorizontalFlip(p=0.5),\n",
    "    ])\n",
    "\n",
    "\"\"\"dataset = popd.PreloadedOnePartDataset(\n",
    "    part,\n",
    "    preloaded_images,\n",
    "    data_augmentation=data_augmentation,\n",
    "    class_to_augment=0,\n",
    "    remove_not_visible=True,\n",
    "    ignore_repair=True\n",
    ")\n",
    "\n",
    "for i in range(10):\n",
    "    display(dataset[11][0])\n",
    "\"\"\""
   ]
  },
  {
   "cell_type": "code",
   "execution_count": 54,
   "id": "88920060-857e-409a-83ee-e2d0109b014e",
   "metadata": {},
   "outputs": [
    {
     "name": "stdout",
     "output_type": "stream",
     "text": [
      "LOAD TRAIN\n",
      "----- CLASS DISTRIBUTION -----\n",
      "Class: capot_sano, #490, 80.07%\n",
      "Class: capot_roto, #122, 19.93%\n",
      "LOAD TEST\n",
      "----- CLASS DISTRIBUTION -----\n",
      "Class: capot_sano, #111, 81.02%\n",
      "Class: capot_roto, #26, 18.98%\n",
      "#TRAIN 612 #TEST 137\n",
      "Epoch 0/39\n",
      "----------\n",
      "train Loss: 0.5142 Main metric (macro_f1): 0.4804 Time: 4.99s\n",
      "test Loss: 0.4859 Main metric (macro_f1): 0.4476 Time: 0.45s\n",
      "Epoch 1/39\n",
      "----------\n",
      "train Loss: 0.4865 Main metric (macro_f1): 0.4446 Time: 4.98s\n",
      "test Loss: 0.4784 Main metric (macro_f1): 0.4476 Time: 0.45s\n",
      "ES Module Best: 0.4784367713179902, BadEpochs: 0\n",
      "Epoch 2/39\n",
      "----------\n",
      "train Loss: 0.4773 Main metric (macro_f1): 0.4446 Time: 4.99s\n",
      "test Loss: 0.4705 Main metric (macro_f1): 0.4476 Time: 0.45s\n",
      "ES Module Best: 0.47053068832759437, BadEpochs: 0\n",
      "Epoch 3/39\n",
      "----------\n",
      "train Loss: 0.4605 Main metric (macro_f1): 0.4446 Time: 4.98s\n",
      "test Loss: 0.4645 Main metric (macro_f1): 0.4476 Time: 0.46s\n",
      "ES Module Best: 0.46451547785396996, BadEpochs: 0\n",
      "Epoch 4/39\n",
      "----------\n",
      "train Loss: 0.4480 Main metric (macro_f1): 0.4446 Time: 4.98s\n",
      "test Loss: 0.4599 Main metric (macro_f1): 0.4476 Time: 0.46s\n",
      "ES Module Best: 0.4599263363511023, BadEpochs: 0\n",
      "Epoch 5/39\n",
      "----------\n",
      "train Loss: 0.4367 Main metric (macro_f1): 0.4446 Time: 4.98s\n",
      "test Loss: 0.4509 Main metric (macro_f1): 0.4476 Time: 0.46s\n",
      "ES Module Best: 0.45089957835900524, BadEpochs: 0\n",
      "Epoch 6/39\n",
      "----------\n",
      "train Loss: 0.4202 Main metric (macro_f1): 0.4446 Time: 4.98s\n",
      "test Loss: 0.4434 Main metric (macro_f1): 0.4476 Time: 0.46s\n",
      "ES Module Best: 0.44342570344026944, BadEpochs: 0\n",
      "Epoch 7/39\n",
      "----------\n",
      "train Loss: 0.4104 Main metric (macro_f1): 0.4780 Time: 5.00s\n",
      "test Loss: 0.4389 Main metric (macro_f1): 0.5226 Time: 0.45s\n",
      "ES Module Best: 0.43894510145169974, BadEpochs: 0\n",
      "Epoch 8/39\n",
      "----------\n",
      "train Loss: 0.3859 Main metric (macro_f1): 0.5170 Time: 4.98s\n",
      "test Loss: 0.4299 Main metric (macro_f1): 0.5226 Time: 0.45s\n",
      "ES Module Best: 0.4298666574224068, BadEpochs: 0\n",
      "Epoch 9/39\n",
      "----------\n",
      "train Loss: 0.3722 Main metric (macro_f1): 0.5318 Time: 4.98s\n",
      "test Loss: 0.4264 Main metric (macro_f1): 0.5226 Time: 0.45s\n",
      "ES Module Best: 0.4264182591960378, BadEpochs: 0\n",
      "Epoch 10/39\n",
      "----------\n",
      "train Loss: 0.3552 Main metric (macro_f1): 0.5937 Time: 4.99s\n",
      "test Loss: 0.4198 Main metric (macro_f1): 0.5883 Time: 0.46s\n",
      "ES Module Best: 0.41984022403285454, BadEpochs: 0\n",
      "Epoch 11/39\n",
      "----------\n",
      "train Loss: 0.3336 Main metric (macro_f1): 0.6001 Time: 4.98s\n",
      "test Loss: 0.4152 Main metric (macro_f1): 0.6462 Time: 0.45s\n",
      "ES Module Best: 0.4151502134156053, BadEpochs: 0\n",
      "Epoch 12/39\n",
      "----------\n",
      "train Loss: 0.3196 Main metric (macro_f1): 0.6928 Time: 4.99s\n",
      "test Loss: 0.4135 Main metric (macro_f1): 0.7122 Time: 0.45s\n",
      "ES Module Best: 0.41347020494676856, BadEpochs: 0\n",
      "Epoch 13/39\n",
      "----------\n",
      "train Loss: 0.2949 Main metric (macro_f1): 0.7610 Time: 5.07s\n",
      "test Loss: 0.4028 Main metric (macro_f1): 0.6462 Time: 0.46s\n",
      "ES Module Best: 0.40280688374581997, BadEpochs: 0\n",
      "Epoch 14/39\n",
      "----------\n",
      "train Loss: 0.2768 Main metric (macro_f1): 0.7831 Time: 5.13s\n",
      "test Loss: 0.3953 Main metric (macro_f1): 0.6462 Time: 0.47s\n",
      "ES Module Best: 0.3953081961095768, BadEpochs: 0\n",
      "Epoch 15/39\n",
      "----------\n",
      "train Loss: 0.2546 Main metric (macro_f1): 0.7976 Time: 5.30s\n",
      "test Loss: 0.3904 Main metric (macro_f1): 0.7122 Time: 0.48s\n",
      "ES Module Best: 0.3903904892232296, BadEpochs: 0\n",
      "Epoch 16/39\n",
      "----------\n",
      "train Loss: 0.2309 Main metric (macro_f1): 0.8542 Time: 5.35s\n",
      "test Loss: 0.3841 Main metric (macro_f1): 0.7122 Time: 0.48s\n",
      "ES Module Best: 0.3841120957458106, BadEpochs: 0\n",
      "Epoch 17/39\n",
      "----------\n",
      "train Loss: 0.2047 Main metric (macro_f1): 0.8924 Time: 5.22s\n",
      "test Loss: 0.3784 Main metric (macro_f1): 0.7122 Time: 0.48s\n",
      "ES Module Best: 0.37835419221516076, BadEpochs: 0\n",
      "Epoch 18/39\n",
      "----------\n",
      "train Loss: 0.1943 Main metric (macro_f1): 0.8824 Time: 5.57s\n",
      "test Loss: 0.3767 Main metric (macro_f1): 0.7160 Time: 0.49s\n",
      "ES Module Best: 0.37674898964210146, BadEpochs: 0\n",
      "Epoch 19/39\n",
      "----------\n",
      "train Loss: 0.1687 Main metric (macro_f1): 0.9219 Time: 5.27s\n",
      "test Loss: 0.3697 Main metric (macro_f1): 0.7459 Time: 0.48s\n",
      "ES Module Best: 0.3697297815641348, BadEpochs: 0\n",
      "Epoch 20/39\n",
      "----------\n",
      "train Loss: 0.1667 Main metric (macro_f1): 0.9310 Time: 5.23s\n",
      "test Loss: 0.3705 Main metric (macro_f1): 0.7344 Time: 0.48s\n",
      "ES Module Best: 0.3697297815641348, BadEpochs: 1\n",
      "Epoch 21/39\n",
      "----------\n",
      "train Loss: 0.1440 Main metric (macro_f1): 0.9424 Time: 5.30s\n",
      "test Loss: 0.3670 Main metric (macro_f1): 0.7122 Time: 0.49s\n",
      "ES Module Best: 0.3669504894174799, BadEpochs: 0\n",
      "Epoch 22/39\n",
      "----------\n",
      "train Loss: 0.1259 Main metric (macro_f1): 0.9483 Time: 5.27s\n",
      "test Loss: 0.3652 Main metric (macro_f1): 0.7344 Time: 0.49s\n",
      "ES Module Best: 0.36521982298280203, BadEpochs: 0\n",
      "Epoch 23/39\n",
      "----------\n",
      "train Loss: 0.1167 Main metric (macro_f1): 0.9653 Time: 5.32s\n",
      "test Loss: 0.3674 Main metric (macro_f1): 0.7556 Time: 0.48s\n",
      "ES Module Best: 0.36521982298280203, BadEpochs: 1\n",
      "Epoch 24/39\n",
      "----------\n",
      "train Loss: 0.1058 Main metric (macro_f1): 0.9736 Time: 5.50s\n",
      "test Loss: 0.3671 Main metric (macro_f1): 0.7459 Time: 0.49s\n",
      "ES Module Best: 0.36521982298280203, BadEpochs: 2\n",
      "Epoch 25/39\n",
      "----------\n",
      "train Loss: 0.0866 Main metric (macro_f1): 0.9844 Time: 5.35s\n",
      "test Loss: 0.3670 Main metric (macro_f1): 0.7344 Time: 0.48s\n",
      "ES Module Best: 0.36521982298280203, BadEpochs: 3\n",
      "Epoch 26/39\n",
      "----------\n",
      "train Loss: 0.0877 Main metric (macro_f1): 0.9896 Time: 5.44s\n",
      "test Loss: 0.3723 Main metric (macro_f1): 0.7365 Time: 0.49s\n",
      "ES Module Best: 0.36521982298280203, BadEpochs: 4\n",
      "Epoch 27/39\n",
      "----------\n",
      "train Loss: 0.0737 Main metric (macro_f1): 0.9870 Time: 5.38s\n",
      "test Loss: 0.3710 Main metric (macro_f1): 0.7556 Time: 0.49s\n",
      "ES Module Best: 0.36521982298280203, BadEpochs: 5\n",
      "Early stopping... Best Epoch: 22\n",
      "Training complete in 2m 48s\n",
      "Best test epoch loss: 0.365220\n",
      "Best test main metric: 0.755575\n",
      "------------------------- GENERAL METRICS -------------------------\n",
      "\n",
      "Loss 0.36521982494061883\n",
      "Micro Accuracy 0.8759124279022217\n",
      "Macro Accuracy 0.6878032088279724\n",
      "Macro Precision 0.8910534381866455\n",
      "Macro Recall 0.6878032088279724\n",
      "Macro F1 0.7344052791595459\n",
      "\n",
      "------------------------- PER CLASS METRICS -------------------------\n"
     ]
    },
    {
     "data": {
      "text/html": [
       "<div>\n",
       "<style scoped>\n",
       "    .dataframe tbody tr th:only-of-type {\n",
       "        vertical-align: middle;\n",
       "    }\n",
       "\n",
       "    .dataframe tbody tr th {\n",
       "        vertical-align: top;\n",
       "    }\n",
       "\n",
       "    .dataframe thead th {\n",
       "        text-align: right;\n",
       "    }\n",
       "</style>\n",
       "<table border=\"1\" class=\"dataframe\">\n",
       "  <thead>\n",
       "    <tr style=\"text-align: right;\">\n",
       "      <th></th>\n",
       "      <th>class</th>\n",
       "      <th>precision</th>\n",
       "      <th>recall</th>\n",
       "      <th>f1</th>\n",
       "    </tr>\n",
       "  </thead>\n",
       "  <tbody>\n",
       "    <tr>\n",
       "      <th>0</th>\n",
       "      <td>capot_roto</td>\n",
       "      <td>0.909091</td>\n",
       "      <td>0.384615</td>\n",
       "      <td>0.540541</td>\n",
       "    </tr>\n",
       "    <tr>\n",
       "      <th>1</th>\n",
       "      <td>capot_sano</td>\n",
       "      <td>0.873016</td>\n",
       "      <td>0.990991</td>\n",
       "      <td>0.928270</td>\n",
       "    </tr>\n",
       "  </tbody>\n",
       "</table>\n",
       "</div>"
      ],
      "text/plain": [
       "        class  precision    recall        f1\n",
       "0  capot_roto   0.909091  0.384615  0.540541\n",
       "1  capot_sano   0.873016  0.990991  0.928270"
      ]
     },
     "metadata": {},
     "output_type": "display_data"
    },
    {
     "data": {
      "image/png": "[encoded data removed]",
      "text/plain": [
       "<Figure size 720x504 with 2 Axes>"
      ]
     },
     "metadata": {
      "needs_background": "light"
     },
     "output_type": "display_data"
    }
   ],
   "source": [
    "part = \"Capot\"\n",
    "MODEL_NAME = \"one_part_model-capot\"\n",
    "EXPERIMENT_NAME = \"resnet50_capot_augment\"\n",
    "\n",
    "main.train_one_part_model_dataugment(\n",
    "    part, \n",
    "    preloaded_images, \n",
    "    MODEL_NAME, \n",
    "    EXPERIMENT_NAME, \n",
    "    device, \n",
    "    feature_extraction=False,\n",
    "    train_ratio=0.8,\n",
    "    random_state=42,\n",
    "    num_epochs=40,\n",
    "    ignore_repair=True,\n",
    "    remove_not_visible=True,\n",
    "    data_augmentation=data_augmentation,\n",
    "    class_to_augment=0\n",
    ")"
   ]
  },
  {
   "cell_type": "code",
   "execution_count": null,
   "id": "261712db-2b05-46da-8667-ec2de145e13d",
   "metadata": {},
   "outputs": [],
   "source": []
  }
 ],
 "metadata": {
  "kernelspec": {
   "display_name": "Python 3 (ipykernel)",
   "language": "python",
   "name": "python3"
  },
  "language_info": {
   "codemirror_mode": {
    "name": "ipython",
    "version": 3
   },
   "file_extension": ".py",
   "mimetype": "text/x-python",
   "name": "python",
   "nbconvert_exporter": "python",
   "pygments_lexer": "ipython3",
   "version": "3.9.7"
  }
 },
 "nbformat": 4,
 "nbformat_minor": 5
}
