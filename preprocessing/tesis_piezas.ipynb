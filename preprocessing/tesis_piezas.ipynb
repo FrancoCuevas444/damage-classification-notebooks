{
 "cells": [
  {
   "cell_type": "markdown",
   "id": "850d05e1-a353-4488-9c79-5cf8a39736ef",
   "metadata": {
    "tags": []
   },
   "source": [
    "## Imports"
   ]
  },
  {
   "cell_type": "code",
   "execution_count": 1,
   "id": "029720fe-5b36-420d-a03a-48128f4bb405",
   "metadata": {},
   "outputs": [],
   "source": [
    "import pandas as pd\n",
    "import unidecode\n",
    "import re"
   ]
  },
  {
   "cell_type": "markdown",
   "id": "e0797912-9261-4c6b-a727-5bfc1d14ef0d",
   "metadata": {},
   "source": [
    "## Cargar dataset"
   ]
  },
  {
   "cell_type": "code",
   "execution_count": 9,
   "id": "e503a6ce-ab94-47ce-9f81-32941bd608e7",
   "metadata": {},
   "outputs": [],
   "source": [
    "piezas = pd.read_csv(\"./preprocessing/input_files/informe_de_tasacion.csv\")"
   ]
  },
  {
   "cell_type": "markdown",
   "id": "c7234f8c-c7e9-4e7c-81cf-1a4a5ce694c4",
   "metadata": {
    "tags": []
   },
   "source": [
    "## Normalizar piezas"
   ]
  },
  {
   "cell_type": "code",
   "execution_count": 10,
   "id": "0d1ed874-9819-4618-9112-3e736987d5a1",
   "metadata": {},
   "outputs": [],
   "source": [
    "def clean_string(input):\n",
    "    result = input.replace(\".\", \"\")\n",
    "    result = result.lower()\n",
    "    result = result.replace(\"/s\", \" \")\n",
    "    result = result.replace(\"/\", \"\")\n",
    "    result = result.replace(\"-\", \"\")\n",
    "    result = unidecode.unidecode(result)\n",
    "    result = re.sub(' +', ' ', result)\n",
    "    result = result.strip()\n",
    "    return result\n",
    "\n",
    "def matches(expr, val):\n",
    "    pattern = re.compile(expr)\n",
    "    return pattern.match(val)\n",
    "\n",
    "expr_reg = [\n",
    "    (r'guardabarro.*del.*der.*', 'Guardabarro Delantero Derecho'),\n",
    "    (r'guardabarro.*del.*izq.*', 'Guardabarro Delantero Izquierdo'),\n",
    "    (r'guardabarro.*tra.*der.*', 'Guardabarro Trasero Derecho'),\n",
    "    (r'guardabarro.*tra.*izq.*', 'Guardabarro Trasero Izquierdo'),\n",
    "    (r'puerta.*del.*der.*', 'Puerta Delantera Derecha'),\n",
    "    (r'puerta.*del.*izq.*', 'Puerta Delantera Izquierda'),\n",
    "    (r'puerta.*tra.*der.*', 'Puerta Trasera Derecha'),\n",
    "    (r'puerta.*tra.*izq.*', 'Puerta Trasera Izquierda'),\n",
    "    (r'(panel trasero.*)', 'Panel Trasero'),\n",
    "    (r'capo.*', 'Capot'),\n",
    "    (r'(tapa.*(baul|vali).*)|(porton.*)', 'Tapa de Baul'),\n",
    "    (r'.*zoc.*der.*', 'Zocalo Derecho'),\n",
    "    (r'.*zoc.*izq.*', 'Zocalo Izquierdo'),\n",
    "    (r'farol.*del.*der.*', 'Farol Delantero Derecho'),\n",
    "    (r'farol.*del.*izq.*', 'Farol Delantero Izquierdo'),\n",
    "    (r'farol.*tra.*der.*', 'Farol Trasero Derecho'),\n",
    "    (r'farol.*tra.*izq', 'Farol Trasero Izquierdo'),\n",
    "    (r'techo', 'Techo'),\n",
    "    (r'lateral caja.*der.*', 'Lateral de Caja Derecho'),\n",
    "    (r'lateral caja.*izq.*', 'Lateral de Caja Izquierdo'),\n",
    "    (r'parag.*del.*', 'Paragolpe Delantero'),\n",
    "    (r'parag.*tra.*', 'Paragolpe Trasero'),\n",
    "]\n",
    "\n",
    "def normalizar_pieza(pieza):\n",
    "    for (expr, name) in expr_reg:\n",
    "        if matches(expr, pieza):\n",
    "            return name\n",
    "\n",
    "    return 'Otro'"
   ]
  },
  {
   "cell_type": "code",
   "execution_count": 11,
   "id": "764e31cb-c3fc-4d28-80e4-50516be06a46",
   "metadata": {},
   "outputs": [],
   "source": [
    "piezas[\"Pieza\"] = piezas[\"Pieza\"].apply(clean_string)"
   ]
  },
  {
   "cell_type": "code",
   "execution_count": 12,
   "id": "05db3cf6-32e2-4fc6-a4ac-b8f854c2356c",
   "metadata": {},
   "outputs": [
    {
     "data": {
      "text/plain": [
       "7965"
      ]
     },
     "execution_count": 12,
     "metadata": {},
     "output_type": "execute_result"
    }
   ],
   "source": [
    "len(piezas[\"Pieza\"].unique())"
   ]
  },
  {
   "cell_type": "code",
   "execution_count": 13,
   "id": "ab8c8527-fd23-437c-81c4-5cff7c39d7a5",
   "metadata": {},
   "outputs": [],
   "source": [
    "piezas['pieza_normalizada'] = piezas[\"Pieza\"].apply(normalizar_pieza)"
   ]
  },
  {
   "cell_type": "code",
   "execution_count": 14,
   "id": "208918a4-a601-4c08-beb9-3a8f768dc0fc",
   "metadata": {},
   "outputs": [],
   "source": [
    "piezas.to_csv('./preprocessing/piezas_normalizadas.csv', index=False)"
   ]
  },
  {
   "cell_type": "code",
   "execution_count": 19,
   "id": "b52f12f3-9b20-46c3-aa8d-0ef7032c44c4",
   "metadata": {},
   "outputs": [],
   "source": [
    "# count de piezas\n",
    "piezas.groupby(['Pieza', 'pieza_normalizada']).size().reset_index(name='counts').sort_values(by='counts', ascending=False).to_csv('piezas_count.csv', index = False)"
   ]
  },
  {
   "cell_type": "markdown",
   "id": "772dd19c-9341-47db-8668-2a5287929133",
   "metadata": {
    "jp-MarkdownHeadingCollapsed": true,
    "tags": []
   },
   "source": [
    "## Prueba"
   ]
  },
  {
   "cell_type": "code",
   "execution_count": 9,
   "id": "32c1c720-a069-4eb4-9c10-f082c16c22c6",
   "metadata": {
    "tags": []
   },
   "outputs": [],
   "source": [
    "guardabarro_del = piezas[piezas[\"Pieza\"].str.match(r'guardabarro.*del.*')] # front_fender"
   ]
  },
  {
   "cell_type": "code",
   "execution_count": 10,
   "id": "a944b215-bd33-434d-9580-eae8c034fcc0",
   "metadata": {},
   "outputs": [
    {
     "data": {
      "text/html": [
       "<div>\n",
       "<style scoped>\n",
       "    .dataframe tbody tr th:only-of-type {\n",
       "        vertical-align: middle;\n",
       "    }\n",
       "\n",
       "    .dataframe tbody tr th {\n",
       "        vertical-align: top;\n",
       "    }\n",
       "\n",
       "    .dataframe thead th {\n",
       "        text-align: right;\n",
       "    }\n",
       "</style>\n",
       "<table border=\"1\" class=\"dataframe\">\n",
       "  <thead>\n",
       "    <tr style=\"text-align: right;\">\n",
       "      <th></th>\n",
       "      <th>Siniestro</th>\n",
       "      <th>DENUNCIA</th>\n",
       "      <th>Pieza</th>\n",
       "      <th>Tarea</th>\n",
       "      <th>Horas</th>\n",
       "      <th>pieza_normalizada</th>\n",
       "    </tr>\n",
       "  </thead>\n",
       "  <tbody>\n",
       "    <tr>\n",
       "      <th>16</th>\n",
       "      <td>661/2020</td>\n",
       "      <td>M305946</td>\n",
       "      <td>guardabarro delantero der</td>\n",
       "      <td>Reparar</td>\n",
       "      <td>0.00</td>\n",
       "      <td>Guardabarro Delantero</td>\n",
       "    </tr>\n",
       "    <tr>\n",
       "      <th>27</th>\n",
       "      <td>821/2020</td>\n",
       "      <td>M304093</td>\n",
       "      <td>guardabarro delantero izq</td>\n",
       "      <td>Sustituir</td>\n",
       "      <td>1.50</td>\n",
       "      <td>Guardabarro Delantero</td>\n",
       "    </tr>\n",
       "    <tr>\n",
       "      <th>48</th>\n",
       "      <td>844/2020</td>\n",
       "      <td>M304973</td>\n",
       "      <td>guardabarro delantero ajustar izq</td>\n",
       "      <td>Reparar</td>\n",
       "      <td>1.50</td>\n",
       "      <td>Guardabarro Delantero</td>\n",
       "    </tr>\n",
       "    <tr>\n",
       "      <th>62</th>\n",
       "      <td>903/2020</td>\n",
       "      <td>M304977</td>\n",
       "      <td>guardabarro delantero der</td>\n",
       "      <td>Reparar</td>\n",
       "      <td>2.00</td>\n",
       "      <td>Guardabarro Delantero</td>\n",
       "    </tr>\n",
       "    <tr>\n",
       "      <th>68</th>\n",
       "      <td>925/2020</td>\n",
       "      <td>M305984</td>\n",
       "      <td>guardabarro delantero cagujero der</td>\n",
       "      <td>Sustituir</td>\n",
       "      <td>1.50</td>\n",
       "      <td>Guardabarro Delantero</td>\n",
       "    </tr>\n",
       "  </tbody>\n",
       "</table>\n",
       "</div>"
      ],
      "text/plain": [
       "   Siniestro DENUNCIA                               Pieza      Tarea Horas  \\\n",
       "16  661/2020  M305946           guardabarro delantero der    Reparar  0.00   \n",
       "27  821/2020  M304093           guardabarro delantero izq  Sustituir  1.50   \n",
       "48  844/2020  M304973   guardabarro delantero ajustar izq    Reparar  1.50   \n",
       "62  903/2020  M304977           guardabarro delantero der    Reparar  2.00   \n",
       "68  925/2020  M305984  guardabarro delantero cagujero der  Sustituir  1.50   \n",
       "\n",
       "        pieza_normalizada  \n",
       "16  Guardabarro Delantero  \n",
       "27  Guardabarro Delantero  \n",
       "48  Guardabarro Delantero  \n",
       "62  Guardabarro Delantero  \n",
       "68  Guardabarro Delantero  "
      ]
     },
     "execution_count": 10,
     "metadata": {},
     "output_type": "execute_result"
    }
   ],
   "source": [
    "guardabarro_del.head()"
   ]
  },
  {
   "cell_type": "code",
   "execution_count": 11,
   "id": "85bccc1d-edb0-4f99-9ec1-90f5e323782a",
   "metadata": {},
   "outputs": [],
   "source": []
  },
  {
   "cell_type": "code",
   "execution_count": null,
   "id": "5efac5ca-a14d-4832-8466-db3903079127",
   "metadata": {},
   "outputs": [],
   "source": []
  }
 ],
 "metadata": {
  "kernelspec": {
   "display_name": "Python 3 (ipykernel)",
   "language": "python",
   "name": "python3"
  },
  "language_info": {
   "codemirror_mode": {
    "name": "ipython",
    "version": 3
   },
   "file_extension": ".py",
   "mimetype": "text/x-python",
   "name": "python",
   "nbconvert_exporter": "python",
   "pygments_lexer": "ipython3",
   "version": "3.9.7"
  }
 },
 "nbformat": 4,
 "nbformat_minor": 5
}
