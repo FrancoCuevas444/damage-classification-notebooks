{
 "cells": [
  {
   "cell_type": "markdown",
   "id": "14008902-6e3e-4112-bafa-9b3a9d5f2529",
   "metadata": {
    "tags": []
   },
   "source": [
    "## Introducción\n",
    "\n",
    "Entrenamiento de modelo preentrenado para resolver el problema de predecir el ángulo del auto en base a la imagen.\n",
    "\n",
    "Fuertemente basado en:\n",
    "- https://towardsdatascience.com/a-practical-example-in-transfer-learning-with-pytorch-846bb835f2db\n",
    "- https://pytorch.org/tutorials/beginner/transfer_learning_tutorial.html "
   ]
  },
  {
   "cell_type": "markdown",
   "id": "86f16c12-cf8c-4db2-9d6d-c0b99b03efcd",
   "metadata": {},
   "source": [
    "## Imports"
   ]
  },
  {
   "cell_type": "code",
   "execution_count": 21,
   "id": "77316db9-9ea9-4fb0-9b5c-fbfff89a2e0d",
   "metadata": {
    "tags": []
   },
   "outputs": [
    {
     "data": {
      "text/plain": [
       "<module 'metrics_helper' from '/Users/fcuevas/Documents/fing/tesis/jupyters/metrics_helper.py'>"
      ]
     },
     "execution_count": 21,
     "metadata": {},
     "output_type": "execute_result"
    }
   ],
   "source": [
    "import torch\n",
    "import torch.optim as optim\n",
    "import torch.nn.functional as F\n",
    "import torchvision\n",
    "import torchvision.datasets as datasets\n",
    "import torchvision.models as models\n",
    "import torchvision.transforms as transforms\n",
    "from torchmetrics import MetricCollection, Accuracy, Precision, Recall, F1, ConfusionMatrix\n",
    "import pandas as pd\n",
    "import sklearn\n",
    "from torch.utils.tensorboard import SummaryWriter\n",
    "\n",
    "from datetime import datetime\n",
    "import os\n",
    "\n",
    "import importlib\n",
    "import training_helper\n",
    "from dataset_modules.one_part_dataset import OnePartDataset\n",
    "import metrics_helper\n",
    "\n",
    "importlib.reload(training_helper)\n",
    "importlib.reload(metrics_helper)"
   ]
  },
  {
   "cell_type": "markdown",
   "id": "7689a1f9-cd38-4223-b0dd-84f6a81b2f16",
   "metadata": {},
   "source": [
    "## Variables"
   ]
  },
  {
   "cell_type": "code",
   "execution_count": 22,
   "id": "39af4ad1-f511-49a7-afff-d3cb96f91846",
   "metadata": {},
   "outputs": [],
   "source": [
    "MODEL_NAME = \"one_part_model\"\n",
    "EXPERIMENT_NAME = \"alexnet_guardabarro_del_der_fine_tuning_newdata\"\n",
    "FEATURE_EXTRACTION = False\n",
    "\n",
    "device_string = \"cuda\" if torch.cuda.is_available() else \"cpu\"\n",
    "device = torch.device(device_string)\n",
    "\n",
    "if device_string == \"cuda\":\n",
    "    print(\"Usando GPU!\")"
   ]
  },
  {
   "cell_type": "code",
   "execution_count": 23,
   "id": "f74e279b-ef85-4996-a468-3d9d88a94eef",
   "metadata": {},
   "outputs": [],
   "source": [
    "os.makedirs(os.path.dirname(\"./trained_models/{}/{}/asd.txt\".format(MODEL_NAME, EXPERIMENT_NAME)), exist_ok=True)"
   ]
  },
  {
   "cell_type": "markdown",
   "id": "4bda96ff-2ee1-4333-9185-929c4ac7aaa5",
   "metadata": {
    "tags": []
   },
   "source": [
    "## Dataset\n",
    "\n",
    "Se crea un dataset de tipo `ImageFolder` que se toma de la carpeta `dataset`, donde cada subcarpeta es una de las categorías a entrenar. \n",
    "\n",
    "Automáticamente mapea categorías a números `dataset.class_to_idx`.\n",
    "\n",
    "Finalmente se hace el split en train y test en 80/20."
   ]
  },
  {
   "cell_type": "code",
   "execution_count": 24,
   "id": "5b1ed65c-a40d-4333-b362-55095ac2704d",
   "metadata": {},
   "outputs": [
    {
     "name": "stdout",
     "output_type": "stream",
     "text": [
      "----- CLASS DISTRIBUTION -----\n",
      "Class: no_paragolpe_delantero, #916, 55.02%\n",
      "Class: paragolpe_delantero_roto, #424, 25.47%\n",
      "Class: paragolpe_delantero_sano, #325, 19.52%\n"
     ]
    }
   ],
   "source": [
    "dataset = OnePartDataset(\n",
    "    \"Guardabarro Delantero Derecho\",\n",
    "    transform=transforms.Compose([\n",
    "        transforms.ColorJitter(0.1, 0.1, 0.1, 0.1),\n",
    "        transforms.Resize((224, 224)),\n",
    "        transforms.ToTensor(),\n",
    "        transforms.Normalize([0.485, 0.456, 0.406], [0.229, 0.224, 0.225])\n",
    "    ])\n",
    ")\n",
    "\n",
    "train_size = int(0.8 * len(dataset))\n",
    "test_size = len(dataset) - train_size\n",
    "train_dataset, test_dataset = torch.utils.data.random_split(dataset, [train_size, test_size], generator=torch.Generator().manual_seed(42))\n",
    "\n",
    "classes = dataset.classes\n",
    "\n",
    "dataset_sizes = {\n",
    "    'train': len(train_dataset),\n",
    "    'test': len(test_dataset)\n",
    "}"
   ]
  },
  {
   "cell_type": "code",
   "execution_count": 25,
   "id": "60f7eb48-1bb5-49e3-82da-3ffd9c9a57ef",
   "metadata": {},
   "outputs": [
    {
     "data": {
      "text/plain": [
       "(tensor([[[-1.7240, -1.6213, -1.7583,  ..., -1.3302, -1.2617, -1.3302],\n",
       "          [-1.7069, -1.6213, -1.7583,  ..., -1.3644, -1.2788, -1.3302],\n",
       "          [-1.6898, -1.5699, -1.7240,  ..., -1.3815, -1.2788, -1.2788],\n",
       "          ...,\n",
       "          [-1.7925, -1.8097, -1.7069,  ...,  0.5707,  0.5536,  0.4679],\n",
       "          [-1.7925, -1.7240, -1.8097,  ...,  0.4679,  0.5193,  0.5193],\n",
       "          [-1.7240, -1.7583, -1.7583,  ...,  0.4337,  0.3994,  0.3994]],\n",
       " \n",
       "         [[-1.5630, -1.4405, -1.6331,  ..., -1.1604, -1.1253, -1.2129],\n",
       "          [-1.5455, -1.4405, -1.6331,  ..., -1.1954, -1.1429, -1.2129],\n",
       "          [-1.5105, -1.3880, -1.5980,  ..., -1.1954, -1.1604, -1.1604],\n",
       "          ...,\n",
       "          [-1.1954, -1.2654, -1.1604,  ...,  0.7479,  0.7304,  0.6429],\n",
       "          [-1.2479, -1.1954, -1.3179,  ...,  0.6254,  0.6954,  0.7129],\n",
       "          [-1.1779, -1.2304, -1.3704,  ...,  0.5728,  0.5378,  0.5553]],\n",
       " \n",
       "         [[-1.6824, -1.5604, -1.6476,  ..., -1.2990, -1.3164, -1.4036],\n",
       "          [-1.6650, -1.5604, -1.6302,  ..., -1.3339, -1.3339, -1.4036],\n",
       "          [-1.6476, -1.5081, -1.5953,  ..., -1.3513, -1.3339, -1.3513],\n",
       "          ...,\n",
       "          [-1.6302, -1.6302, -1.5779,  ...,  0.4788,  0.4614,  0.3568],\n",
       "          [-1.5953, -1.5256, -1.6650,  ...,  0.3568,  0.4439,  0.4614],\n",
       "          [-1.4907, -1.5779, -1.6302,  ...,  0.3568,  0.3219,  0.3219]]]),\n",
       " 1,\n",
       " 'M204933/M204933001.jpg')"
      ]
     },
     "execution_count": 25,
     "metadata": {},
     "output_type": "execute_result"
    }
   ],
   "source": [
    "dataset[0]"
   ]
  },
  {
   "cell_type": "markdown",
   "id": "1cf99192-6af0-42d5-8bfe-21eded216cad",
   "metadata": {
    "tags": []
   },
   "source": [
    "## Loaders\n",
    "Luego, se crean loaders para cada uno de los conjuntos. Los loaders permiten procesar los datos de a batches."
   ]
  },
  {
   "cell_type": "code",
   "execution_count": 26,
   "id": "d53518f5-cf88-4d5b-865b-4a173e0b7d96",
   "metadata": {},
   "outputs": [],
   "source": [
    "train_loader = torch.utils.data.DataLoader(\n",
    "    train_dataset,\n",
    "    batch_size=16,\n",
    "    shuffle=True,\n",
    "    num_workers=4\n",
    ")\n",
    "\n",
    "test_loader = torch.utils.data.DataLoader(\n",
    "    test_dataset,\n",
    "    batch_size=16,\n",
    "    shuffle=True,\n",
    "    num_workers=4\n",
    ")\n",
    "\n",
    "dataloaders = {\n",
    "    'train': train_loader,\n",
    "    'test': test_loader\n",
    "}"
   ]
  },
  {
   "cell_type": "markdown",
   "id": "eb7bcfec-2b9a-4b27-97d1-991c2eaab42e",
   "metadata": {
    "tags": []
   },
   "source": [
    "## Entrenamiento\n",
    "\n",
    "En este step se carga el modelo pre-entrenado. Para este ejemplo se utiliza el modelo alexnet por su simplicidad."
   ]
  },
  {
   "cell_type": "markdown",
   "id": "3be52f59-d26d-46ee-81c0-2a5c037de937",
   "metadata": {
    "tags": []
   },
   "source": [
    "#### ¿Finetuning o Feature extraction?\n",
    "\n",
    "- **Finetuning:** Consiste en incializar la red con los pesos pre-entrenados, y re-entrenar toda la red (ajustar los parámetros de todas las capas) con el dataset custom.\n",
    "- **Feature extraction:** La diferencia con lo anterior es que se congelan las capas convolucionales, de modo que el entrenamiento no las cambie con nuestros datos.\n",
    "\n",
    "En ambos casos pisamos la capa de **clasificador** por una capa nueva con 8 categorías, porque el modelo pre-entrenado tiene 1000 labels."
   ]
  },
  {
   "cell_type": "code",
   "execution_count": 27,
   "id": "f979bc03-3c5e-4c3b-939e-662d6309283d",
   "metadata": {},
   "outputs": [
    {
     "name": "stdout",
     "output_type": "stream",
     "text": [
      "AlexNet(\n",
      "  (features): Sequential(\n",
      "    (0): Conv2d(3, 64, kernel_size=(11, 11), stride=(4, 4), padding=(2, 2))\n",
      "    (1): ReLU(inplace=True)\n",
      "    (2): MaxPool2d(kernel_size=3, stride=2, padding=0, dilation=1, ceil_mode=False)\n",
      "    (3): Conv2d(64, 192, kernel_size=(5, 5), stride=(1, 1), padding=(2, 2))\n",
      "    (4): ReLU(inplace=True)\n",
      "    (5): MaxPool2d(kernel_size=3, stride=2, padding=0, dilation=1, ceil_mode=False)\n",
      "    (6): Conv2d(192, 384, kernel_size=(3, 3), stride=(1, 1), padding=(1, 1))\n",
      "    (7): ReLU(inplace=True)\n",
      "    (8): Conv2d(384, 256, kernel_size=(3, 3), stride=(1, 1), padding=(1, 1))\n",
      "    (9): ReLU(inplace=True)\n",
      "    (10): Conv2d(256, 256, kernel_size=(3, 3), stride=(1, 1), padding=(1, 1))\n",
      "    (11): ReLU(inplace=True)\n",
      "    (12): MaxPool2d(kernel_size=3, stride=2, padding=0, dilation=1, ceil_mode=False)\n",
      "  )\n",
      "  (avgpool): AdaptiveAvgPool2d(output_size=(6, 6))\n",
      "  (classifier): Sequential(\n",
      "    (0): Dropout(p=0.5, inplace=False)\n",
      "    (1): Linear(in_features=9216, out_features=4096, bias=True)\n",
      "    (2): ReLU(inplace=True)\n",
      "    (3): Dropout(p=0.5, inplace=False)\n",
      "    (4): Linear(in_features=4096, out_features=4096, bias=True)\n",
      "    (5): ReLU(inplace=True)\n",
      "    (6): Linear(in_features=4096, out_features=3, bias=True)\n",
      "  )\n",
      ")\n"
     ]
    }
   ],
   "source": [
    "model = models.alexnet(pretrained=True)\n",
    "\n",
    "NUM_CLASSES = len(classes)\n",
    "\n",
    "if FEATURE_EXTRACTION:\n",
    "    for param in model.parameters():\n",
    "        param.requires_grad = False\n",
    "\n",
    "model.classifier[6] = torch.nn.Linear(model.classifier[6].in_features, NUM_CLASSES)\n",
    "model = model.to(device)\n",
    "\n",
    "# Tensorboard metrics writer\n",
    "writer = SummaryWriter(log_dir='./trained_models/{}/tensorboard/{}'.format(MODEL_NAME, EXPERIMENT_NAME + '-' + datetime.now().strftime(\"%Y%m%d-%H%M%S\")))\n",
    "\n",
    "# Función de error\n",
    "criterion = F.cross_entropy\n",
    "\n",
    "# Optimizador\n",
    "parameters_to_update = model.parameters()\n",
    "\n",
    "if FEATURE_EXTRACTION:\n",
    "    parameters_to_update = model.classifier[6].parameters()\n",
    "\n",
    "optimizer = optim.SGD(parameters_to_update, lr=0.001, momentum=0.9)\n",
    "print(model)"
   ]
  },
  {
   "cell_type": "code",
   "execution_count": 16,
   "id": "29bad071-f55b-4dd0-a0ac-23419dbd48d6",
   "metadata": {
    "tags": []
   },
   "outputs": [
    {
     "name": "stdout",
     "output_type": "stream",
     "text": [
      "Epoch 0/6\n",
      "----------\n",
      "train Loss: 0.0936 Main metric (macro_f1): 0.9517 Time: 100.04s\n",
      "------------------------- GENERAL METRICS -------------------------\n",
      "\n",
      "Loss 0.0936187085890248\n",
      "Micro Accuracy 0.965160071849823\n",
      "Macro Accuracy 0.9516791105270386\n",
      "Macro Precision 0.950549304485321\n",
      "Macro Recall 0.9516791105270386\n",
      "Macro F1 0.9516791105270386\n",
      "\n",
      "test Loss: 0.5697 Main metric (macro_f1): 0.7310 Time: 43.76s\n",
      "------------------------- GENERAL METRICS -------------------------\n",
      "\n",
      "Loss 0.5696879735118464\n",
      "Micro Accuracy 0.8308270573616028\n",
      "Macro Accuracy 0.7310004234313965\n",
      "Macro Precision 0.7420108318328857\n",
      "Macro Recall 0.7310004234313965\n",
      "Macro F1 0.7310004234313965\n",
      "\n",
      "\n",
      "Epoch 1/6\n",
      "----------\n",
      "train Loss: 0.0731 Main metric (macro_f1): 0.9611 Time: 93.61s\n",
      "------------------------- GENERAL METRICS -------------------------\n",
      "\n",
      "Loss 0.07310346122164622\n",
      "Micro Accuracy 0.9726930260658264\n",
      "Macro Accuracy 0.9610975384712219\n",
      "Macro Precision 0.9618406891822815\n",
      "Macro Recall 0.9610975384712219\n",
      "Macro F1 0.9610975384712219\n",
      "\n",
      "test Loss: 0.5792 Main metric (macro_f1): 0.7121 Time: 42.62s\n",
      "------------------------- GENERAL METRICS -------------------------\n",
      "\n",
      "Loss 0.5792307760706521\n",
      "Micro Accuracy 0.8270676732063293\n",
      "Macro Accuracy 0.7120701670646667\n",
      "Macro Precision 0.7277365326881409\n",
      "Macro Recall 0.7120701670646667\n",
      "Macro F1 0.7120701670646667\n",
      "\n",
      "\n",
      "Epoch 2/6\n",
      "----------\n",
      "train Loss: 0.0774 Main metric (macro_f1): 0.9590 Time: 92.20s\n",
      "------------------------- GENERAL METRICS -------------------------\n",
      "\n",
      "Loss 0.07737470428518979\n",
      "Micro Accuracy 0.9717513918876648\n",
      "Macro Accuracy 0.9589754343032837\n",
      "Macro Precision 0.9592907428741455\n",
      "Macro Recall 0.9589754343032837\n",
      "Macro F1 0.9589754343032837\n",
      "\n",
      "test Loss: 0.6199 Main metric (macro_f1): 0.6622 Time: 42.53s\n",
      "------------------------- GENERAL METRICS -------------------------\n",
      "\n",
      "Loss 0.6198855761746714\n",
      "Micro Accuracy 0.7857142686843872\n",
      "Macro Accuracy 0.6622354984283447\n",
      "Macro Precision 0.6746187210083008\n",
      "Macro Recall 0.6622354984283447\n",
      "Macro F1 0.6622354984283447\n",
      "\n",
      "\n",
      "Epoch 3/6\n",
      "----------\n",
      "train Loss: 0.0872 Main metric (macro_f1): 0.9581 Time: 95.18s\n",
      "------------------------- GENERAL METRICS -------------------------\n",
      "\n",
      "Loss 0.08722422479102897\n",
      "Micro Accuracy 0.970809817314148\n",
      "Macro Accuracy 0.9581160545349121\n",
      "Macro Precision 0.9572533369064331\n",
      "Macro Recall 0.9581160545349121\n",
      "Macro F1 0.9581160545349121\n",
      "\n",
      "test Loss: 0.5626 Main metric (macro_f1): 0.7279 Time: 42.94s\n",
      "------------------------- GENERAL METRICS -------------------------\n",
      "\n",
      "Loss 0.5626119797895277\n",
      "Micro Accuracy 0.8345864415168762\n",
      "Macro Accuracy 0.7279326915740967\n",
      "Macro Precision 0.7405734062194824\n",
      "Macro Recall 0.7279326915740967\n",
      "Macro F1 0.7279326915740967\n",
      "\n",
      "\n",
      "Epoch 4/6\n",
      "----------\n",
      "train Loss: 0.0523 Main metric (macro_f1): 0.9707 Time: 101.32s\n",
      "------------------------- GENERAL METRICS -------------------------\n",
      "\n",
      "Loss 0.0523341160439474\n",
      "Micro Accuracy 0.9802259802818298\n",
      "Macro Accuracy 0.970664381980896\n",
      "Macro Precision 0.9727756381034851\n",
      "Macro Recall 0.970664381980896\n",
      "Macro F1 0.970664381980896\n",
      "\n",
      "test Loss: 0.6575 Main metric (macro_f1): 0.7002 Time: 42.62s\n",
      "------------------------- GENERAL METRICS -------------------------\n",
      "\n",
      "Loss 0.657513439655304\n",
      "Micro Accuracy 0.8195488452911377\n",
      "Macro Accuracy 0.7002411484718323\n",
      "Macro Precision 0.7146796584129333\n",
      "Macro Recall 0.7002411484718323\n",
      "Macro F1 0.7002411484718323\n",
      "\n",
      "\n",
      "Epoch 5/6\n",
      "----------\n",
      "train Loss: 0.0375 Main metric (macro_f1): 0.9836 Time: 97.55s\n",
      "------------------------- GENERAL METRICS -------------------------\n",
      "\n",
      "Loss 0.037502745443537634\n",
      "Micro Accuracy 0.9887005686759949\n",
      "Macro Accuracy 0.9836162328720093\n",
      "Macro Precision 0.9856626987457275\n",
      "Macro Recall 0.9836162328720093\n",
      "Macro F1 0.9836162328720093\n",
      "\n",
      "test Loss: 0.7627 Main metric (macro_f1): 0.7129 Time: 41.85s\n",
      "------------------------- GENERAL METRICS -------------------------\n",
      "\n",
      "Loss 0.7626978416640059\n",
      "Micro Accuracy 0.8045112490653992\n",
      "Macro Accuracy 0.7129285931587219\n",
      "Macro Precision 0.7026076912879944\n",
      "Macro Recall 0.7129285931587219\n",
      "Macro F1 0.7129285931587219\n",
      "\n",
      "\n",
      "Epoch 6/6\n",
      "----------\n",
      "train Loss: 0.0334 Main metric (macro_f1): 0.9852 Time: 93.61s\n",
      "------------------------- GENERAL METRICS -------------------------\n",
      "\n",
      "Loss 0.03338638695198937\n",
      "Micro Accuracy 0.9896422028541565\n",
      "Macro Accuracy 0.9851810932159424\n",
      "Macro Precision 0.9855190515518188\n",
      "Macro Recall 0.9851810932159424\n",
      "Macro F1 0.9851810932159424\n",
      "\n",
      "test Loss: 0.6549 Main metric (macro_f1): 0.7371 Time: 43.46s\n",
      "------------------------- GENERAL METRICS -------------------------\n",
      "\n",
      "Loss 0.6548879666435987\n",
      "Micro Accuracy 0.8421052694320679\n",
      "Macro Accuracy 0.7371358275413513\n",
      "Macro Precision 0.7541708946228027\n",
      "Macro Recall 0.7371358275413513\n",
      "Macro F1 0.7371358275413513\n",
      "\n",
      "\n",
      "Training complete in 16m 15s\n",
      "Best test main metric: 0.737136\n"
     ]
    }
   ],
   "source": [
    "model = training_helper.train_model(\n",
    "    model, \n",
    "    criterion, \n",
    "    optimizer, \n",
    "    dataloaders, \n",
    "    dataset_sizes, \n",
    "    device, \n",
    "    writer, \n",
    "    NUM_CLASSES,\n",
    "    'trained_models/{}/{}'.format(MODEL_NAME, EXPERIMENT_NAME),\n",
    "    main_metric='macro_f1', \n",
    "    num_epochs=7\n",
    ")"
   ]
  },
  {
   "cell_type": "code",
   "execution_count": 17,
   "id": "1ed16a25-64c7-4c77-bc4c-f7d720b10ed0",
   "metadata": {
    "tags": []
   },
   "outputs": [],
   "source": [
    "BEST_MODEL_PATH = './trained_models/{}/{}/best_model.pth'.format(MODEL_NAME, EXPERIMENT_NAME)\n",
    "os.makedirs(os.path.dirname(BEST_MODEL_PATH), exist_ok=True)\n",
    "torch.save(model.state_dict(), BEST_MODEL_PATH)"
   ]
  },
  {
   "cell_type": "markdown",
   "id": "50e0cc79-c8f8-45ee-9c14-5c5596ac46f5",
   "metadata": {},
   "source": [
    "## Evaluación final"
   ]
  },
  {
   "cell_type": "code",
   "execution_count": 18,
   "id": "e1a74753-1983-4a76-bb21-edcaee378a32",
   "metadata": {},
   "outputs": [],
   "source": [
    "from dataset_modules.common import pil_loader\n",
    "model.load_state_dict(torch.load(BEST_MODEL_PATH))\n",
    "model.eval()\n",
    "\n",
    "metrics = metrics_helper.init_metrics(device, NUM_CLASSES)\n",
    "tensorboard_transforms = transforms.Compose([\n",
    "    transforms.ToTensor()\n",
    "])\n",
    "\n",
    "total_loss = 0.0\n",
    "\n",
    "for i, (images, labels, imgs_path) in enumerate(test_loader):\n",
    "    images = images.to(device)\n",
    "    labels = labels.to(device)\n",
    "    \n",
    "    with torch.no_grad():\n",
    "        outputs = model(images)\n",
    "        metrics(outputs, labels)\n",
    "        \n",
    "        predictions = torch.argmax(outputs, dim=1)\n",
    "        loss = criterion(outputs, labels)\n",
    "        \n",
    "        total_loss += loss.item() * images.size(0)\n",
    "        \n",
    "        for sampleno in range(images.shape[0]):\n",
    "            if(labels[sampleno] != predictions[sampleno]):\n",
    "                name = 'Misclasified_Predicted-{}_Classified-{}/{}'.format(classes[predictions[sampleno]], classes[labels[sampleno]], imgs_path[sampleno])\n",
    "                \n",
    "                writer.add_image(name, tensorboard_transforms(pil_loader('./dataset_modules/imgs/' + imgs_path[sampleno])))\n",
    "                writer.flush()\n",
    "        \n",
    "total_loss /= dataset_sizes[\"test\"]\n",
    "\n",
    "metrics_result = metrics.compute()"
   ]
  },
  {
   "cell_type": "code",
   "execution_count": 19,
   "id": "7639ae59-d411-40e9-8c71-09e332db6ee4",
   "metadata": {},
   "outputs": [
    {
     "name": "stdout",
     "output_type": "stream",
     "text": [
      "------------------------- GENERAL METRICS -------------------------\n",
      "\n",
      "Loss 0.6641095347870561\n",
      "Micro Accuracy 0.8458646535873413\n",
      "Macro Accuracy 0.741794228553772\n",
      "Macro Precision 0.7630646824836731\n",
      "Macro Recall 0.741794228553772\n",
      "Macro F1 0.741794228553772\n",
      "\n",
      "------------------------- PER CLASS METRICS -------------------------\n"
     ]
    },
    {
     "data": {
      "text/html": [
       "<div>\n",
       "<style scoped>\n",
       "    .dataframe tbody tr th:only-of-type {\n",
       "        vertical-align: middle;\n",
       "    }\n",
       "\n",
       "    .dataframe tbody tr th {\n",
       "        vertical-align: top;\n",
       "    }\n",
       "\n",
       "    .dataframe thead th {\n",
       "        text-align: right;\n",
       "    }\n",
       "</style>\n",
       "<table border=\"1\" class=\"dataframe\">\n",
       "  <thead>\n",
       "    <tr style=\"text-align: right;\">\n",
       "      <th></th>\n",
       "      <th>class</th>\n",
       "      <th>accuracy</th>\n",
       "      <th>precision</th>\n",
       "      <th>recall</th>\n",
       "      <th>f1</th>\n",
       "    </tr>\n",
       "  </thead>\n",
       "  <tbody>\n",
       "    <tr>\n",
       "      <th>0</th>\n",
       "      <td>paragolpe_delantero_roto</td>\n",
       "      <td>0.607143</td>\n",
       "      <td>0.708333</td>\n",
       "      <td>0.607143</td>\n",
       "      <td>0.607143</td>\n",
       "    </tr>\n",
       "    <tr>\n",
       "      <th>1</th>\n",
       "      <td>paragolpe_delantero_sano</td>\n",
       "      <td>0.630435</td>\n",
       "      <td>0.644444</td>\n",
       "      <td>0.630435</td>\n",
       "      <td>0.630435</td>\n",
       "    </tr>\n",
       "    <tr>\n",
       "      <th>2</th>\n",
       "      <td>no_paragolpe_delantero</td>\n",
       "      <td>0.987805</td>\n",
       "      <td>0.936416</td>\n",
       "      <td>0.987805</td>\n",
       "      <td>0.987805</td>\n",
       "    </tr>\n",
       "  </tbody>\n",
       "</table>\n",
       "</div>"
      ],
      "text/plain": [
       "                      class  accuracy  precision    recall        f1\n",
       "0  paragolpe_delantero_roto  0.607143   0.708333  0.607143  0.607143\n",
       "1  paragolpe_delantero_sano  0.630435   0.644444  0.630435  0.630435\n",
       "2    no_paragolpe_delantero  0.987805   0.936416  0.987805  0.987805"
      ]
     },
     "metadata": {},
     "output_type": "display_data"
    }
   ],
   "source": [
    "macro_metrics = metrics_helper.generate_macro_metrics(metrics_result, total_loss)\n",
    "per_class_metrics = metrics_helper.generate_per_class_metrics(metrics_result, classes)\n",
    "\n",
    "macro_metrics.to_csv('./trained_models/{}/{}/best_model_macro_metrics.csv'.format(MODEL_NAME, EXPERIMENT_NAME), index=False)\n",
    "per_class_metrics.to_csv('./trained_models/{}/{}/best_model_per_class_metrics.csv'.format(MODEL_NAME, EXPERIMENT_NAME), index=False)"
   ]
  },
  {
   "cell_type": "code",
   "execution_count": 20,
   "id": "40cf4817-9bc4-4660-bfbf-8ccd9dd63c74",
   "metadata": {},
   "outputs": [
    {
     "data": {
      "image/png": "[encoded data removed]",
      "text/plain": [
       "<Figure size 720x504 with 2 Axes>"
      ]
     },
     "metadata": {
      "needs_background": "light"
     },
     "output_type": "display_data"
    }
   ],
   "source": [
    "import seaborn as sn\n",
    "import pandas as pd\n",
    "import matplotlib.pyplot as plt\n",
    "\n",
    "df_cm = pd.DataFrame(metrics_result['confusion_matrix'], index = classes,\n",
    "                  columns = classes)\n",
    "\n",
    "df_cm = df_cm.applymap(lambda x: x.item())\n",
    "\n",
    "plt.figure(figsize = (10,7))\n",
    "sn.heatmap(df_cm, annot=True, cmap=\"Blues\")\n",
    "df_cm.to_csv('./trained_models/{}/{}/confusion_matrix.csv'.format(MODEL_NAME, EXPERIMENT_NAME))"
   ]
  },
  {
   "cell_type": "code",
   "execution_count": null,
   "id": "0ad851bc-0634-4a73-a56b-38a4b6e8fe33",
   "metadata": {},
   "outputs": [],
   "source": []
  }
 ],
 "metadata": {
  "kernelspec": {
   "display_name": "Python 3",
   "language": "python",
   "name": "python3"
  },
  "language_info": {
   "codemirror_mode": {
    "name": "ipython",
    "version": 3
   },
   "file_extension": ".py",
   "mimetype": "text/x-python",
   "name": "python",
   "nbconvert_exporter": "python",
   "pygments_lexer": "ipython3",
   "version": "3.9.5"
  }
 },
 "nbformat": 4,
 "nbformat_minor": 5
}
