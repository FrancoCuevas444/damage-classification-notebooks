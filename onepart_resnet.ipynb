{
 "cells": [
  {
   "cell_type": "markdown",
   "id": "14008902-6e3e-4112-bafa-9b3a9d5f2529",
   "metadata": {
    "tags": []
   },
   "source": [
    "## Introducción\n",
    "\n",
    "Entrenamiento de modelo preentrenado para resolver el problema de predecir el ángulo del auto en base a la imagen.\n",
    "\n",
    "Fuertemente basado en:\n",
    "- https://towardsdatascience.com/a-practical-example-in-transfer-learning-with-pytorch-846bb835f2db\n",
    "- https://pytorch.org/tutorials/beginner/transfer_learning_tutorial.html "
   ]
  },
  {
   "cell_type": "markdown",
   "id": "86f16c12-cf8c-4db2-9d6d-c0b99b03efcd",
   "metadata": {},
   "source": [
    "## Imports"
   ]
  },
  {
   "cell_type": "code",
   "execution_count": 5,
   "id": "77316db9-9ea9-4fb0-9b5c-fbfff89a2e0d",
   "metadata": {
    "tags": []
   },
   "outputs": [],
   "source": [
    "import torch\n",
    "import dataset_modules.image_preloader as image_preloader\n",
    "import main\n",
    "import importlib\n",
    "import dataset_modules.preloaded_one_part_dataset as popd\n",
    "\n",
    "importlib.reload(main)\n",
    "importlib.reload(popd)\n",
    "\n",
    "import torchvision.transforms as transforms"
   ]
  },
  {
   "cell_type": "markdown",
   "id": "7689a1f9-cd38-4223-b0dd-84f6a81b2f16",
   "metadata": {},
   "source": [
    "## Variables"
   ]
  },
  {
   "cell_type": "code",
   "execution_count": 2,
   "id": "39af4ad1-f511-49a7-afff-d3cb96f91846",
   "metadata": {
    "tags": []
   },
   "outputs": [
    {
     "name": "stdout",
     "output_type": "stream",
     "text": [
      "Usando GPU!\n"
     ]
    }
   ],
   "source": [
    "FEATURE_EXTRACTION = False\n",
    "\n",
    "device_string = \"cuda\" if torch.cuda.is_available() else \"cpu\"\n",
    "device = torch.device(device_string)\n",
    "\n",
    "if device_string == \"cuda\":\n",
    "    print(\"Usando GPU!\")"
   ]
  },
  {
   "cell_type": "code",
   "execution_count": 3,
   "id": "57fca4bd-09c5-4a09-9f2f-c40bb5c4634c",
   "metadata": {},
   "outputs": [
    {
     "name": "stdout",
     "output_type": "stream",
     "text": [
      "Started to preload images...\n",
      "Image preloading complete in 2m 1s\n",
      "The preloaded images use 0.07039642333984375MB of memory\n"
     ]
    }
   ],
   "source": [
    "# preload images\n",
    "preloaded_images = image_preloader.preload_images(\n",
    "        images_folder='./dataset_modules/imgs/', \n",
    "        state_file='./dataset_modules/state.json', \n",
    "        resize_to=224\n",
    ")"
   ]
  },
  {
   "cell_type": "code",
   "execution_count": 7,
   "id": "24cdce21-0802-453d-b8ac-aa7be8291c75",
   "metadata": {
    "tags": []
   },
   "outputs": [
    {
     "name": "stdout",
     "output_type": "stream",
     "text": [
      "----- CLASS DISTRIBUTION -----\n",
      "Class: guardabarro_delantero_izquierdo_sano, #233, 58.25%\n",
      "Class: guardabarro_delantero_izquierdo_roto, #167, 41.75%\n",
      "#TRAIN 320 #TEST 80\n",
      "Epoch 0/39\n",
      "----------\n",
      "train Loss: 0.6849 Main metric (macro_f1): 0.4492 Time: 2.34s\n",
      "test Loss: 0.7081 Main metric (macro_f1): 0.3667 Time: 0.27s\n",
      "Epoch 1/39\n",
      "----------\n",
      "train Loss: 0.6592 Main metric (macro_f1): 0.4057 Time: 2.33s\n",
      "test Loss: 0.6928 Main metric (macro_f1): 0.3969 Time: 0.27s\n",
      "ES Module Best: 0.6927923560142517, BadEpochs: 0\n",
      "Epoch 2/39\n",
      "----------\n",
      "train Loss: 0.6475 Main metric (macro_f1): 0.4876 Time: 2.34s\n",
      "test Loss: 0.7118 Main metric (macro_f1): 0.3667 Time: 0.27s\n",
      "ES Module Best: 0.6927923560142517, BadEpochs: 1\n",
      "Epoch 3/39\n",
      "----------\n",
      "train Loss: 0.6377 Main metric (macro_f1): 0.5063 Time: 2.35s\n",
      "test Loss: 0.6935 Main metric (macro_f1): 0.4589 Time: 0.27s\n",
      "ES Module Best: 0.6927923560142517, BadEpochs: 2\n",
      "Epoch 4/39\n",
      "----------\n",
      "train Loss: 0.6175 Main metric (macro_f1): 0.5896 Time: 2.34s\n",
      "test Loss: 0.7277 Main metric (macro_f1): 0.3388 Time: 0.27s\n",
      "ES Module Best: 0.6927923560142517, BadEpochs: 3\n",
      "Epoch 5/39\n",
      "----------\n",
      "train Loss: 0.6060 Main metric (macro_f1): 0.5933 Time: 2.34s\n",
      "test Loss: 0.7028 Main metric (macro_f1): 0.4671 Time: 0.27s\n",
      "ES Module Best: 0.6927923560142517, BadEpochs: 4\n",
      "Epoch 6/39\n",
      "----------\n",
      "train Loss: 0.5897 Main metric (macro_f1): 0.5485 Time: 2.34s\n",
      "test Loss: 0.6754 Main metric (macro_f1): 0.5787 Time: 0.27s\n",
      "ES Module Best: 0.6754411220550537, BadEpochs: 0\n",
      "Epoch 7/39\n",
      "----------\n",
      "train Loss: 0.5618 Main metric (macro_f1): 0.7135 Time: 2.35s\n",
      "test Loss: 0.7088 Main metric (macro_f1): 0.4899 Time: 0.27s\n",
      "ES Module Best: 0.6754411220550537, BadEpochs: 1\n",
      "Epoch 8/39\n",
      "----------\n",
      "train Loss: 0.5502 Main metric (macro_f1): 0.7127 Time: 2.34s\n",
      "test Loss: 0.6989 Main metric (macro_f1): 0.5238 Time: 0.27s\n",
      "ES Module Best: 0.6754411220550537, BadEpochs: 2\n",
      "Epoch 9/39\n",
      "----------\n",
      "train Loss: 0.5422 Main metric (macro_f1): 0.6940 Time: 2.34s\n",
      "test Loss: 0.6810 Main metric (macro_f1): 0.5943 Time: 0.27s\n",
      "ES Module Best: 0.6754411220550537, BadEpochs: 3\n",
      "Epoch 10/39\n",
      "----------\n",
      "train Loss: 0.5207 Main metric (macro_f1): 0.7382 Time: 2.35s\n",
      "test Loss: 0.6799 Main metric (macro_f1): 0.5943 Time: 0.27s\n",
      "ES Module Best: 0.6754411220550537, BadEpochs: 4\n",
      "Epoch 11/39\n",
      "----------\n",
      "train Loss: 0.4961 Main metric (macro_f1): 0.7985 Time: 2.33s\n",
      "test Loss: 0.6892 Main metric (macro_f1): 0.5706 Time: 0.27s\n",
      "ES Module Best: 0.6754411220550537, BadEpochs: 5\n",
      "Epoch 12/39\n",
      "----------\n",
      "train Loss: 0.4697 Main metric (macro_f1): 0.8445 Time: 2.34s\n",
      "test Loss: 0.7012 Main metric (macro_f1): 0.5909 Time: 0.27s\n",
      "ES Module Best: 0.6754411220550537, BadEpochs: 6\n",
      "Epoch 13/39\n",
      "----------\n",
      "train Loss: 0.4551 Main metric (macro_f1): 0.8161 Time: 2.34s\n",
      "test Loss: 0.6860 Main metric (macro_f1): 0.6375 Time: 0.27s\n",
      "ES Module Best: 0.6754411220550537, BadEpochs: 7\n",
      "Epoch 14/39\n",
      "----------\n",
      "train Loss: 0.4290 Main metric (macro_f1): 0.8520 Time: 2.34s\n",
      "test Loss: 0.6798 Main metric (macro_f1): 0.6158 Time: 0.27s\n",
      "ES Module Best: 0.6754411220550537, BadEpochs: 8\n",
      "Epoch 15/39\n",
      "----------\n",
      "train Loss: 0.4115 Main metric (macro_f1): 0.8742 Time: 2.34s\n",
      "test Loss: 0.6931 Main metric (macro_f1): 0.6375 Time: 0.27s\n",
      "ES Module Best: 0.6754411220550537, BadEpochs: 9\n",
      "Epoch 16/39\n",
      "----------\n",
      "train Loss: 0.3979 Main metric (macro_f1): 0.8626 Time: 2.34s\n",
      "test Loss: 0.6889 Main metric (macro_f1): 0.6423 Time: 0.27s\n",
      "ES Module Best: 0.6754411220550537, BadEpochs: 10\n",
      "Early stopping... Best Epoch: 6\n",
      "Training complete in 0m 48s\n",
      "Best test epoch loss: 0.675441\n",
      "Best test main metric: 0.642325\n",
      "------------------------- GENERAL METRICS -------------------------\n",
      "\n",
      "Loss 0.6754410982131958\n",
      "Micro Accuracy 0.6000000238418579\n",
      "Macro Accuracy 0.5947467088699341\n",
      "Macro Precision 0.6155606508255005\n",
      "Macro Recall 0.5947467088699341\n",
      "Macro F1 0.5786701440811157\n",
      "\n",
      "------------------------- PER CLASS METRICS -------------------------\n"
     ]
    },
    {
     "data": {
      "text/html": [
       "<div>\n",
       "<style scoped>\n",
       "    .dataframe tbody tr th:only-of-type {\n",
       "        vertical-align: middle;\n",
       "    }\n",
       "\n",
       "    .dataframe tbody tr th {\n",
       "        vertical-align: top;\n",
       "    }\n",
       "\n",
       "    .dataframe thead th {\n",
       "        text-align: right;\n",
       "    }\n",
       "</style>\n",
       "<table border=\"1\" class=\"dataframe\">\n",
       "  <thead>\n",
       "    <tr style=\"text-align: right;\">\n",
       "      <th></th>\n",
       "      <th>class</th>\n",
       "      <th>precision</th>\n",
       "      <th>recall</th>\n",
       "      <th>f1</th>\n",
       "    </tr>\n",
       "  </thead>\n",
       "  <tbody>\n",
       "    <tr>\n",
       "      <th>0</th>\n",
       "      <td>guardabarro_delantero_izquierdo_roto</td>\n",
       "      <td>0.652174</td>\n",
       "      <td>0.384615</td>\n",
       "      <td>0.483871</td>\n",
       "    </tr>\n",
       "    <tr>\n",
       "      <th>1</th>\n",
       "      <td>guardabarro_delantero_izquierdo_sano</td>\n",
       "      <td>0.578947</td>\n",
       "      <td>0.804878</td>\n",
       "      <td>0.673469</td>\n",
       "    </tr>\n",
       "  </tbody>\n",
       "</table>\n",
       "</div>"
      ],
      "text/plain": [
       "                                  class  precision    recall        f1\n",
       "0  guardabarro_delantero_izquierdo_roto   0.652174  0.384615  0.483871\n",
       "1  guardabarro_delantero_izquierdo_sano   0.578947  0.804878  0.673469"
      ]
     },
     "metadata": {},
     "output_type": "display_data"
    },
    {
     "data": {
      "image/png": "[encoded data removed]",
      "text/plain": [
       "<Figure size 720x504 with 2 Axes>"
      ]
     },
     "metadata": {
      "needs_background": "light"
     },
     "output_type": "display_data"
    }
   ],
   "source": [
    "part = \"Guardabarro Delantero Izquierdo\"\n",
    "MODEL_NAME = \"one_part_model\"\n",
    "EXPERIMENT_NAME = \"resnet50_finetuning-Guardabarro-Delantero-Izquierdo\"\n",
    "\n",
    "main.train_one_part_model(\n",
    "    part, \n",
    "    preloaded_images, \n",
    "    MODEL_NAME, \n",
    "    EXPERIMENT_NAME, \n",
    "    device, \n",
    "    feature_extraction=False,\n",
    "    train_ratio=0.8,\n",
    "    random_state=42,\n",
    "    num_epochs=40,\n",
    "    remove_not_visible=True,\n",
    "    ignore_repair=False,\n",
    "    i_patience=10\n",
    ")"
   ]
  },
  {
   "cell_type": "code",
   "execution_count": null,
   "id": "8a4faa3b-e934-48ac-bf67-b38e76e78c96",
   "metadata": {},
   "outputs": [],
   "source": [
    "import random\n",
    "import numpy as np\n",
    "\n",
    "random_state=42\n",
    "\n",
    "torch.manual_seed(random_state)\n",
    "random.seed(random_state)\n",
    "np.random.seed(random_state)\n",
    "\n",
    "data_augmentation=transforms.Compose([\n",
    "        transforms.ColorJitter(0.3, 0.3, 0.3, 0.3),\n",
    "        #transforms.RandomRotation((-45, 45))\n",
    "        #transforms.ColorJitter(0.5, 0.5, 0.5, 0.5),\n",
    "        #transforms.RandomApply([transforms.RandomRotation((-20, 20))], p=0.2),\n",
    "        #transforms.RandomEqualize(),\n",
    "        transforms.RandomHorizontalFlip(p=0.5),\n",
    "    ])\n",
    "\n",
    "\"\"\"dataset = popd.PreloadedOnePartDataset(\n",
    "    part,\n",
    "    preloaded_images,\n",
    "    data_augmentation=data_augmentation,\n",
    "    class_to_augment=0,\n",
    "    remove_not_visible=True,\n",
    "    ignore_repair=True\n",
    ")\n",
    "\n",
    "for i in range(10):\n",
    "    display(dataset[11][0])\n",
    "\"\"\""
   ]
  },
  {
   "cell_type": "code",
   "execution_count": null,
   "id": "88920060-857e-409a-83ee-e2d0109b014e",
   "metadata": {},
   "outputs": [],
   "source": [
    "part = \"Capot\"\n",
    "MODEL_NAME = \"one_part_model-capot\"\n",
    "EXPERIMENT_NAME = \"resnet50_capot_augment\"\n",
    "\n",
    "main.train_one_part_model_dataugment(\n",
    "    part, \n",
    "    preloaded_images, \n",
    "    MODEL_NAME, \n",
    "    EXPERIMENT_NAME, \n",
    "    device, \n",
    "    feature_extraction=False,\n",
    "    train_ratio=0.8,\n",
    "    random_state=42,\n",
    "    num_epochs=40,\n",
    "    ignore_repair=True,\n",
    "    remove_not_visible=True,\n",
    "    data_augmentation=data_augmentation,\n",
    "    class_to_augment=0\n",
    ")"
   ]
  },
  {
   "cell_type": "code",
   "execution_count": null,
   "id": "261712db-2b05-46da-8667-ec2de145e13d",
   "metadata": {},
   "outputs": [],
   "source": []
  }
 ],
 "metadata": {
  "kernelspec": {
   "display_name": "Python 3 (ipykernel)",
   "language": "python",
   "name": "python3"
  },
  "language_info": {
   "codemirror_mode": {
    "name": "ipython",
    "version": 3
   },
   "file_extension": ".py",
   "mimetype": "text/x-python",
   "name": "python",
   "nbconvert_exporter": "python",
   "pygments_lexer": "ipython3",
   "version": "3.9.7"
  }
 },
 "nbformat": 4,
 "nbformat_minor": 5
}
