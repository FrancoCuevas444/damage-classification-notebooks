{
 "cells": [
  {
   "cell_type": "markdown",
   "id": "14008902-6e3e-4112-bafa-9b3a9d5f2529",
   "metadata": {
    "tags": []
   },
   "source": [
    "## Introducción\n",
    "\n",
    "Entrenamiento de modelo preentrenado para resolver el problema de predecir el ángulo del auto en base a la imagen.\n",
    "\n",
    "Fuertemente basado en:\n",
    "- https://towardsdatascience.com/a-practical-example-in-transfer-learning-with-pytorch-846bb835f2db\n",
    "- https://pytorch.org/tutorials/beginner/transfer_learning_tutorial.html "
   ]
  },
  {
   "cell_type": "markdown",
   "id": "86f16c12-cf8c-4db2-9d6d-c0b99b03efcd",
   "metadata": {},
   "source": [
    "## Imports"
   ]
  },
  {
   "cell_type": "code",
   "execution_count": 16,
   "id": "77316db9-9ea9-4fb0-9b5c-fbfff89a2e0d",
   "metadata": {
    "tags": []
   },
   "outputs": [
    {
     "data": {
      "text/plain": "<module 'dataset_modules.preloaded_one_part_dataset' from '/Users/fcuevas/Documents/fing/tesis/jupyters/dataset_modules/preloaded_one_part_dataset.py'>"
     },
     "execution_count": 16,
     "metadata": {},
     "output_type": "execute_result"
    }
   ],
   "source": [
    "import torch\n",
    "import dataset_modules.image_preloader as image_preloader\n",
    "import main\n",
    "import importlib\n",
    "import dataset_modules.preloaded_one_part_dataset as popd\n",
    "\n",
    "importlib.reload(main)\n",
    "importlib.reload(popd)"
   ]
  },
  {
   "cell_type": "markdown",
   "id": "7689a1f9-cd38-4223-b0dd-84f6a81b2f16",
   "metadata": {},
   "source": [
    "## Variables"
   ]
  },
  {
   "cell_type": "code",
   "execution_count": 2,
   "id": "39af4ad1-f511-49a7-afff-d3cb96f91846",
   "metadata": {
    "tags": []
   },
   "outputs": [],
   "source": [
    "FEATURE_EXTRACTION = False\n",
    "\n",
    "device_string = \"cuda\" if torch.cuda.is_available() else \"cpu\"\n",
    "device = torch.device(device_string)\n",
    "\n",
    "if device_string == \"cuda\":\n",
    "    print(\"Usando GPU!\")"
   ]
  },
  {
   "cell_type": "code",
   "execution_count": 3,
   "id": "57fca4bd-09c5-4a09-9f2f-c40bb5c4634c",
   "metadata": {},
   "outputs": [
    {
     "name": "stdout",
     "output_type": "stream",
     "text": [
      "Started to preload images...\n",
      "Image preloading complete in 4m 58s\n",
      "The preloaded images use 0.140716552734375MB of memory\n"
     ]
    }
   ],
   "source": [
    "# preload images\n",
    "preloaded_images = image_preloader.preload_images(\n",
    "        images_folder='./dataset_modules/imgs_final/', \n",
    "        state_file='./dataset_modules/state.json', \n",
    "        resize_to=224\n",
    ")"
   ]
  },
  {
   "cell_type": "code",
   "execution_count": 30,
   "id": "24cdce21-0802-453d-b8ac-aa7be8291c75",
   "metadata": {
    "tags": []
   },
   "outputs": [
    {
     "name": "stdout",
     "output_type": "stream",
     "text": [
      "LOAD TRAIN\n",
      "----- CLASS DISTRIBUTION -----\n",
      "Class: paragolpe_roto, #1690, 51.46%\n",
      "Class: paragolpe_sano, #1594, 48.54%\n",
      "LOAD TEST\n",
      "----- CLASS DISTRIBUTION -----\n",
      "Class: paragolpe_sano, #411, 50.24%\n",
      "Class: paragolpe_roto, #407, 49.76%\n",
      "#TRAIN 3284 #TEST 818\n",
      "Epoch 0/39\n",
      "----------\n"
     ]
    },
    {
     "ename": "KeyboardInterrupt",
     "evalue": "",
     "output_type": "error",
     "traceback": [
      "\u001B[0;31m---------------------------------------------------------------------------\u001B[0m",
      "\u001B[0;31mKeyboardInterrupt\u001B[0m                         Traceback (most recent call last)",
      "\u001B[0;32m/var/folders/5z/f899gz4j2lb9wdtgkkvvr1t8qxs155/T/ipykernel_84361/1280356216.py\u001B[0m in \u001B[0;36m<module>\u001B[0;34m\u001B[0m\n\u001B[1;32m      3\u001B[0m \u001B[0mEXPERIMENT_NAME\u001B[0m \u001B[0;34m=\u001B[0m \u001B[0;34m\"resnet50_finetuning-paragolpedel-new-final-visibility\"\u001B[0m\u001B[0;34m\u001B[0m\u001B[0;34m\u001B[0m\u001B[0m\n\u001B[1;32m      4\u001B[0m \u001B[0;34m\u001B[0m\u001B[0m\n\u001B[0;32m----> 5\u001B[0;31m main.train_one_part_model(\n\u001B[0m\u001B[1;32m      6\u001B[0m     \u001B[0mpart\u001B[0m\u001B[0;34m,\u001B[0m\u001B[0;34m\u001B[0m\u001B[0;34m\u001B[0m\u001B[0m\n\u001B[1;32m      7\u001B[0m     \u001B[0mpreloaded_images\u001B[0m\u001B[0;34m,\u001B[0m\u001B[0;34m\u001B[0m\u001B[0;34m\u001B[0m\u001B[0m\n",
      "\u001B[0;32m~/Documents/fing/tesis/jupyters/main.py\u001B[0m in \u001B[0;36mtrain_one_part_model\u001B[0;34m(part, preloaded_images, model_name, experiment_name, device, feature_extraction, train_ratio, random_state, num_epochs, ignore_repair, remove_repair, remove_not_visible, class_weights, visibility_file, data_augmentation, class_to_augment, offline_augmentation, use_selected_parts)\u001B[0m\n\u001B[1;32m    106\u001B[0m     \u001B[0moptimizer\u001B[0m \u001B[0;34m=\u001B[0m \u001B[0moptim\u001B[0m\u001B[0;34m.\u001B[0m\u001B[0mSGD\u001B[0m\u001B[0;34m(\u001B[0m\u001B[0mparameters_to_update\u001B[0m\u001B[0;34m,\u001B[0m \u001B[0mlr\u001B[0m\u001B[0;34m=\u001B[0m\u001B[0;36m0.001\u001B[0m\u001B[0;34m)\u001B[0m\u001B[0;34m\u001B[0m\u001B[0;34m\u001B[0m\u001B[0m\n\u001B[1;32m    107\u001B[0m \u001B[0;34m\u001B[0m\u001B[0m\n\u001B[0;32m--> 108\u001B[0;31m     model = training_helper.train_model(\n\u001B[0m\u001B[1;32m    109\u001B[0m         \u001B[0mmodel\u001B[0m\u001B[0;34m,\u001B[0m\u001B[0;34m\u001B[0m\u001B[0;34m\u001B[0m\u001B[0m\n\u001B[1;32m    110\u001B[0m         \u001B[0mcriterion\u001B[0m\u001B[0;34m,\u001B[0m\u001B[0;34m\u001B[0m\u001B[0;34m\u001B[0m\u001B[0m\n",
      "\u001B[0;32m~/Documents/fing/tesis/jupyters/training_helper.py\u001B[0m in \u001B[0;36mtrain_model\u001B[0;34m(model, criterion, optimizer, dataloaders, dataset_sizes, device, writer, num_classes, csv_folder, class_weights, main_metric, num_epochs, patience)\u001B[0m\n\u001B[1;32m    122\u001B[0m                     \u001B[0;31m# backward + optimize only if in training phase\u001B[0m\u001B[0;34m\u001B[0m\u001B[0;34m\u001B[0m\u001B[0m\n\u001B[1;32m    123\u001B[0m                     \u001B[0;32mif\u001B[0m \u001B[0mphase\u001B[0m \u001B[0;34m==\u001B[0m \u001B[0;34m'train'\u001B[0m\u001B[0;34m:\u001B[0m\u001B[0;34m\u001B[0m\u001B[0;34m\u001B[0m\u001B[0m\n\u001B[0;32m--> 124\u001B[0;31m                         \u001B[0mloss\u001B[0m\u001B[0;34m.\u001B[0m\u001B[0mbackward\u001B[0m\u001B[0;34m(\u001B[0m\u001B[0;34m)\u001B[0m\u001B[0;34m\u001B[0m\u001B[0;34m\u001B[0m\u001B[0m\n\u001B[0m\u001B[1;32m    125\u001B[0m                         \u001B[0moptimizer\u001B[0m\u001B[0;34m.\u001B[0m\u001B[0mstep\u001B[0m\u001B[0;34m(\u001B[0m\u001B[0;34m)\u001B[0m\u001B[0;34m\u001B[0m\u001B[0;34m\u001B[0m\u001B[0m\n\u001B[1;32m    126\u001B[0m \u001B[0;34m\u001B[0m\u001B[0m\n",
      "\u001B[0;32m~/miniconda3/envs/tesis/lib/python3.9/site-packages/torch/_tensor.py\u001B[0m in \u001B[0;36mbackward\u001B[0;34m(self, gradient, retain_graph, create_graph, inputs)\u001B[0m\n\u001B[1;32m    305\u001B[0m                 \u001B[0mcreate_graph\u001B[0m\u001B[0;34m=\u001B[0m\u001B[0mcreate_graph\u001B[0m\u001B[0;34m,\u001B[0m\u001B[0;34m\u001B[0m\u001B[0;34m\u001B[0m\u001B[0m\n\u001B[1;32m    306\u001B[0m                 inputs=inputs)\n\u001B[0;32m--> 307\u001B[0;31m         \u001B[0mtorch\u001B[0m\u001B[0;34m.\u001B[0m\u001B[0mautograd\u001B[0m\u001B[0;34m.\u001B[0m\u001B[0mbackward\u001B[0m\u001B[0;34m(\u001B[0m\u001B[0mself\u001B[0m\u001B[0;34m,\u001B[0m \u001B[0mgradient\u001B[0m\u001B[0;34m,\u001B[0m \u001B[0mretain_graph\u001B[0m\u001B[0;34m,\u001B[0m \u001B[0mcreate_graph\u001B[0m\u001B[0;34m,\u001B[0m \u001B[0minputs\u001B[0m\u001B[0;34m=\u001B[0m\u001B[0minputs\u001B[0m\u001B[0;34m)\u001B[0m\u001B[0;34m\u001B[0m\u001B[0;34m\u001B[0m\u001B[0m\n\u001B[0m\u001B[1;32m    308\u001B[0m \u001B[0;34m\u001B[0m\u001B[0m\n\u001B[1;32m    309\u001B[0m     \u001B[0;32mdef\u001B[0m \u001B[0mregister_hook\u001B[0m\u001B[0;34m(\u001B[0m\u001B[0mself\u001B[0m\u001B[0;34m,\u001B[0m \u001B[0mhook\u001B[0m\u001B[0;34m)\u001B[0m\u001B[0;34m:\u001B[0m\u001B[0;34m\u001B[0m\u001B[0;34m\u001B[0m\u001B[0m\n",
      "\u001B[0;32m~/miniconda3/envs/tesis/lib/python3.9/site-packages/torch/autograd/__init__.py\u001B[0m in \u001B[0;36mbackward\u001B[0;34m(tensors, grad_tensors, retain_graph, create_graph, grad_variables, inputs)\u001B[0m\n\u001B[1;32m    152\u001B[0m         \u001B[0mretain_graph\u001B[0m \u001B[0;34m=\u001B[0m \u001B[0mcreate_graph\u001B[0m\u001B[0;34m\u001B[0m\u001B[0;34m\u001B[0m\u001B[0m\n\u001B[1;32m    153\u001B[0m \u001B[0;34m\u001B[0m\u001B[0m\n\u001B[0;32m--> 154\u001B[0;31m     Variable._execution_engine.run_backward(\n\u001B[0m\u001B[1;32m    155\u001B[0m         \u001B[0mtensors\u001B[0m\u001B[0;34m,\u001B[0m \u001B[0mgrad_tensors_\u001B[0m\u001B[0;34m,\u001B[0m \u001B[0mretain_graph\u001B[0m\u001B[0;34m,\u001B[0m \u001B[0mcreate_graph\u001B[0m\u001B[0;34m,\u001B[0m \u001B[0minputs\u001B[0m\u001B[0;34m,\u001B[0m\u001B[0;34m\u001B[0m\u001B[0;34m\u001B[0m\u001B[0m\n\u001B[1;32m    156\u001B[0m         allow_unreachable=True, accumulate_grad=True)  # allow_unreachable flag\n",
      "\u001B[0;31mKeyboardInterrupt\u001B[0m: "
     ]
    }
   ],
   "source": [
    "part = \"Paragolpe\"\n",
    "MODEL_NAME = \"one_part_model\"\n",
    "EXPERIMENT_NAME = \"resnet50_finetuning-paragolpedel-new-final-visibility\"\n",
    "\n",
    "main.train_one_part_model(\n",
    "    part, \n",
    "    preloaded_images, \n",
    "    MODEL_NAME, \n",
    "    EXPERIMENT_NAME, \n",
    "    device, \n",
    "    feature_extraction=False,\n",
    "    random_state=42,\n",
    "    num_epochs=40,\n",
    "    remove_not_visible=True,\n",
    "    use_selected_parts=False\n",
    ")"
   ]
  },
  {
   "cell_type": "code",
   "execution_count": 7,
   "id": "36052d4b-0467-43a5-a04f-0d68e8de8190",
   "metadata": {},
   "outputs": [
    {
     "name": "stdout",
     "output_type": "stream",
     "text": [
      "LOAD TRAIN\n",
      "----- CLASS DISTRIBUTION -----\n",
      "Class: paragolpe_delantero_sano, #924, 56.27%\n",
      "Class: paragolpe_delantero_roto, #718, 43.73%\n",
      "LOAD TEST\n",
      "----- CLASS DISTRIBUTION -----\n",
      "Class: paragolpe_delantero_sano, #233, 56.55%\n",
      "Class: paragolpe_delantero_roto, #179, 43.45%\n",
      "#TRAIN 1642 #TEST 412\n",
      "Epoch 0/39\n",
      "----------\n"
     ]
    },
    {
     "ename": "KeyboardInterrupt",
     "evalue": "",
     "output_type": "error",
     "traceback": [
      "\u001B[0;31m---------------------------------------------------------------------------\u001B[0m",
      "\u001B[0;31mKeyboardInterrupt\u001B[0m                         Traceback (most recent call last)",
      "\u001B[0;32m/var/folders/5z/f899gz4j2lb9wdtgkkvvr1t8qxs155/T/ipykernel_59958/3734268668.py\u001B[0m in \u001B[0;36m<module>\u001B[0;34m\u001B[0m\n\u001B[1;32m      3\u001B[0m \u001B[0mEXPERIMENT_NAME\u001B[0m \u001B[0;34m=\u001B[0m \u001B[0;34m\"resnet50_finetuning-paragolpedel-new-final-visibility\"\u001B[0m\u001B[0;34m\u001B[0m\u001B[0;34m\u001B[0m\u001B[0m\n\u001B[1;32m      4\u001B[0m \u001B[0;34m\u001B[0m\u001B[0m\n\u001B[0;32m----> 5\u001B[0;31m main.train_one_part_model(\n\u001B[0m\u001B[1;32m      6\u001B[0m     \u001B[0mpart\u001B[0m\u001B[0;34m,\u001B[0m\u001B[0;34m\u001B[0m\u001B[0;34m\u001B[0m\u001B[0m\n\u001B[1;32m      7\u001B[0m     \u001B[0mpreloaded_images\u001B[0m\u001B[0;34m,\u001B[0m\u001B[0;34m\u001B[0m\u001B[0;34m\u001B[0m\u001B[0m\n",
      "\u001B[0;32m~/Documents/fing/tesis/jupyters/main.py\u001B[0m in \u001B[0;36mtrain_one_part_model\u001B[0;34m(part, preloaded_images, model_name, experiment_name, device, feature_extraction, train_ratio, random_state, num_epochs, ignore_repair, remove_repair, remove_not_visible, class_weights, visibility_file, data_augmentation, class_to_augment, offline_augmentation, use_selected_parts)\u001B[0m\n\u001B[1;32m    106\u001B[0m     \u001B[0moptimizer\u001B[0m \u001B[0;34m=\u001B[0m \u001B[0moptim\u001B[0m\u001B[0;34m.\u001B[0m\u001B[0mSGD\u001B[0m\u001B[0;34m(\u001B[0m\u001B[0mparameters_to_update\u001B[0m\u001B[0;34m,\u001B[0m \u001B[0mlr\u001B[0m\u001B[0;34m=\u001B[0m\u001B[0;36m0.001\u001B[0m\u001B[0;34m)\u001B[0m\u001B[0;34m\u001B[0m\u001B[0;34m\u001B[0m\u001B[0m\n\u001B[1;32m    107\u001B[0m \u001B[0;34m\u001B[0m\u001B[0m\n\u001B[0;32m--> 108\u001B[0;31m     model = training_helper.train_model(\n\u001B[0m\u001B[1;32m    109\u001B[0m         \u001B[0mmodel\u001B[0m\u001B[0;34m,\u001B[0m\u001B[0;34m\u001B[0m\u001B[0;34m\u001B[0m\u001B[0m\n\u001B[1;32m    110\u001B[0m         \u001B[0mcriterion\u001B[0m\u001B[0;34m,\u001B[0m\u001B[0;34m\u001B[0m\u001B[0;34m\u001B[0m\u001B[0m\n",
      "\u001B[0;32m~/Documents/fing/tesis/jupyters/training_helper.py\u001B[0m in \u001B[0;36mtrain_model\u001B[0;34m(model, criterion, optimizer, dataloaders, dataset_sizes, device, writer, num_classes, csv_folder, class_weights, main_metric, num_epochs, patience)\u001B[0m\n\u001B[1;32m    122\u001B[0m                     \u001B[0;31m# backward + optimize only if in training phase\u001B[0m\u001B[0;34m\u001B[0m\u001B[0;34m\u001B[0m\u001B[0m\n\u001B[1;32m    123\u001B[0m                     \u001B[0;32mif\u001B[0m \u001B[0mphase\u001B[0m \u001B[0;34m==\u001B[0m \u001B[0;34m'train'\u001B[0m\u001B[0;34m:\u001B[0m\u001B[0;34m\u001B[0m\u001B[0;34m\u001B[0m\u001B[0m\n\u001B[0;32m--> 124\u001B[0;31m                         \u001B[0mloss\u001B[0m\u001B[0;34m.\u001B[0m\u001B[0mbackward\u001B[0m\u001B[0;34m(\u001B[0m\u001B[0;34m)\u001B[0m\u001B[0;34m\u001B[0m\u001B[0;34m\u001B[0m\u001B[0m\n\u001B[0m\u001B[1;32m    125\u001B[0m                         \u001B[0moptimizer\u001B[0m\u001B[0;34m.\u001B[0m\u001B[0mstep\u001B[0m\u001B[0;34m(\u001B[0m\u001B[0;34m)\u001B[0m\u001B[0;34m\u001B[0m\u001B[0;34m\u001B[0m\u001B[0m\n\u001B[1;32m    126\u001B[0m \u001B[0;34m\u001B[0m\u001B[0m\n",
      "\u001B[0;32m~/miniconda3/envs/tesis/lib/python3.9/site-packages/torch/_tensor.py\u001B[0m in \u001B[0;36mbackward\u001B[0;34m(self, gradient, retain_graph, create_graph, inputs)\u001B[0m\n\u001B[1;32m    305\u001B[0m                 \u001B[0mcreate_graph\u001B[0m\u001B[0;34m=\u001B[0m\u001B[0mcreate_graph\u001B[0m\u001B[0;34m,\u001B[0m\u001B[0;34m\u001B[0m\u001B[0;34m\u001B[0m\u001B[0m\n\u001B[1;32m    306\u001B[0m                 inputs=inputs)\n\u001B[0;32m--> 307\u001B[0;31m         \u001B[0mtorch\u001B[0m\u001B[0;34m.\u001B[0m\u001B[0mautograd\u001B[0m\u001B[0;34m.\u001B[0m\u001B[0mbackward\u001B[0m\u001B[0;34m(\u001B[0m\u001B[0mself\u001B[0m\u001B[0;34m,\u001B[0m \u001B[0mgradient\u001B[0m\u001B[0;34m,\u001B[0m \u001B[0mretain_graph\u001B[0m\u001B[0;34m,\u001B[0m \u001B[0mcreate_graph\u001B[0m\u001B[0;34m,\u001B[0m \u001B[0minputs\u001B[0m\u001B[0;34m=\u001B[0m\u001B[0minputs\u001B[0m\u001B[0;34m)\u001B[0m\u001B[0;34m\u001B[0m\u001B[0;34m\u001B[0m\u001B[0m\n\u001B[0m\u001B[1;32m    308\u001B[0m \u001B[0;34m\u001B[0m\u001B[0m\n\u001B[1;32m    309\u001B[0m     \u001B[0;32mdef\u001B[0m \u001B[0mregister_hook\u001B[0m\u001B[0;34m(\u001B[0m\u001B[0mself\u001B[0m\u001B[0;34m,\u001B[0m \u001B[0mhook\u001B[0m\u001B[0;34m)\u001B[0m\u001B[0;34m:\u001B[0m\u001B[0;34m\u001B[0m\u001B[0;34m\u001B[0m\u001B[0m\n",
      "\u001B[0;32m~/miniconda3/envs/tesis/lib/python3.9/site-packages/torch/autograd/__init__.py\u001B[0m in \u001B[0;36mbackward\u001B[0;34m(tensors, grad_tensors, retain_graph, create_graph, grad_variables, inputs)\u001B[0m\n\u001B[1;32m    152\u001B[0m         \u001B[0mretain_graph\u001B[0m \u001B[0;34m=\u001B[0m \u001B[0mcreate_graph\u001B[0m\u001B[0;34m\u001B[0m\u001B[0;34m\u001B[0m\u001B[0m\n\u001B[1;32m    153\u001B[0m \u001B[0;34m\u001B[0m\u001B[0m\n\u001B[0;32m--> 154\u001B[0;31m     Variable._execution_engine.run_backward(\n\u001B[0m\u001B[1;32m    155\u001B[0m         \u001B[0mtensors\u001B[0m\u001B[0;34m,\u001B[0m \u001B[0mgrad_tensors_\u001B[0m\u001B[0;34m,\u001B[0m \u001B[0mretain_graph\u001B[0m\u001B[0;34m,\u001B[0m \u001B[0mcreate_graph\u001B[0m\u001B[0;34m,\u001B[0m \u001B[0minputs\u001B[0m\u001B[0;34m,\u001B[0m\u001B[0;34m\u001B[0m\u001B[0;34m\u001B[0m\u001B[0m\n\u001B[1;32m    156\u001B[0m         allow_unreachable=True, accumulate_grad=True)  # allow_unreachable flag\n",
      "\u001B[0;31mKeyboardInterrupt\u001B[0m: "
     ]
    }
   ],
   "source": [
    "part = \"Paragolpe Delantero\"\n",
    "MODEL_NAME = \"one_part_model\"\n",
    "EXPERIMENT_NAME = \"resnet50_finetuning-paragolpedel-new-final-visibility\"\n",
    "\n",
    "main.train_one_part_model(\n",
    "    part, \n",
    "    preloaded_images, \n",
    "    MODEL_NAME, \n",
    "    EXPERIMENT_NAME, \n",
    "    device, \n",
    "    feature_extraction=False,\n",
    "    random_state=42,\n",
    "    num_epochs=40,\n",
    "    remove_not_visible=True,\n",
    "    use_selected_parts=True\n",
    ")"
   ]
  },
  {
   "cell_type": "code",
   "execution_count": null,
   "id": "8adb2b9a-28e5-4a9a-a3cf-e0e6a0c2244a",
   "metadata": {},
   "outputs": [],
   "source": []
  }
 ],
 "metadata": {
  "kernelspec": {
   "display_name": "Python 3 (ipykernel)",
   "language": "python",
   "name": "python3"
  },
  "language_info": {
   "codemirror_mode": {
    "name": "ipython",
    "version": 3
   },
   "file_extension": ".py",
   "mimetype": "text/x-python",
   "name": "python",
   "nbconvert_exporter": "python",
   "pygments_lexer": "ipython3",
   "version": "3.9.7"
  }
 },
 "nbformat": 4,
 "nbformat_minor": 5
}