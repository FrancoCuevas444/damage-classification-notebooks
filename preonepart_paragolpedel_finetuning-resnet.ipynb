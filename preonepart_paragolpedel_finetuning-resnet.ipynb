{
 "cells": [
  {
   "cell_type": "markdown",
   "id": "14008902-6e3e-4112-bafa-9b3a9d5f2529",
   "metadata": {
    "tags": []
   },
   "source": [
    "## Introducción\n",
    "\n",
    "Entrenamiento de modelo preentrenado para resolver el problema de predecir el ángulo del auto en base a la imagen.\n",
    "\n",
    "Fuertemente basado en:\n",
    "- https://towardsdatascience.com/a-practical-example-in-transfer-learning-with-pytorch-846bb835f2db\n",
    "- https://pytorch.org/tutorials/beginner/transfer_learning_tutorial.html "
   ]
  },
  {
   "cell_type": "markdown",
   "id": "86f16c12-cf8c-4db2-9d6d-c0b99b03efcd",
   "metadata": {},
   "source": [
    "## Imports"
   ]
  },
  {
   "cell_type": "code",
   "execution_count": 1,
   "id": "77316db9-9ea9-4fb0-9b5c-fbfff89a2e0d",
   "metadata": {
    "tags": []
   },
   "outputs": [
    {
     "data": {
      "text/plain": [
       "<module 'dataset_modules.preloaded_one_part_dataset' from '/clusteruy/home/franco.cuevas/tesis-jupyters-2/dataset_modules/preloaded_one_part_dataset.py'>"
      ]
     },
     "execution_count": 1,
     "metadata": {},
     "output_type": "execute_result"
    }
   ],
   "source": [
    "import torch\n",
    "import dataset_modules.image_preloader as image_preloader\n",
    "import main\n",
    "import importlib\n",
    "import dataset_modules.preloaded_one_part_dataset as popd\n",
    "\n",
    "importlib.reload(main)\n",
    "importlib.reload(popd)"
   ]
  },
  {
   "cell_type": "markdown",
   "id": "7689a1f9-cd38-4223-b0dd-84f6a81b2f16",
   "metadata": {},
   "source": [
    "## Variables"
   ]
  },
  {
   "cell_type": "code",
   "execution_count": 2,
   "id": "39af4ad1-f511-49a7-afff-d3cb96f91846",
   "metadata": {
    "tags": []
   },
   "outputs": [
    {
     "name": "stdout",
     "output_type": "stream",
     "text": [
      "Usando GPU!\n"
     ]
    }
   ],
   "source": [
    "FEATURE_EXTRACTION = False\n",
    "\n",
    "device_string = \"cuda\" if torch.cuda.is_available() else \"cpu\"\n",
    "device = torch.device(device_string)\n",
    "\n",
    "if device_string == \"cuda\":\n",
    "    print(\"Usando GPU!\")"
   ]
  },
  {
   "cell_type": "code",
   "execution_count": 3,
   "id": "57fca4bd-09c5-4a09-9f2f-c40bb5c4634c",
   "metadata": {},
   "outputs": [
    {
     "name": "stdout",
     "output_type": "stream",
     "text": [
      "Started to preload images...\n",
      "Image preloading complete in 1m 20s\n",
      "The preloaded images use 0.07039642333984375MB of memory\n"
     ]
    }
   ],
   "source": [
    "# preload images\n",
    "preloaded_images = image_preloader.preload_images(\n",
    "        images_folder='./dataset_modules/imgs/', \n",
    "        state_file='./dataset_modules/state.json', \n",
    "        resize_to=224\n",
    ")"
   ]
  },
  {
   "cell_type": "code",
   "execution_count": 8,
   "id": "24cdce21-0802-453d-b8ac-aa7be8291c75",
   "metadata": {
    "tags": []
   },
   "outputs": [
    {
     "name": "stdout",
     "output_type": "stream",
     "text": [
      "----- CLASS DISTRIBUTION -----\n",
      "Class: no_paragolpe_delantero, #916, 55.02%\n",
      "Class: paragolpe_delantero_sano, #475, 28.53%\n",
      "Class: paragolpe_delantero_roto, #274, 16.46%\n",
      "#TRAIN 1332 #TEST 333\n",
      "Epoch 0/39\n",
      "----------\n",
      "train Loss: 0.9473 Main metric (macro_f1): 0.2930 Time: 10.20s\n",
      "test Loss: 0.8058 Main metric (macro_f1): 0.4364 Time: 1.05s\n",
      "Epoch 1/39\n",
      "----------\n",
      "train Loss: 0.8015 Main metric (macro_f1): 0.4331 Time: 9.22s\n",
      "test Loss: 0.6650 Main metric (macro_f1): 0.5127 Time: 1.04s\n",
      "ES Module Best: 0.6649516101356026, BadEpochs: 0\n",
      "Epoch 2/39\n",
      "----------\n",
      "train Loss: 0.6795 Main metric (macro_f1): 0.5076 Time: 9.22s\n",
      "test Loss: 0.5636 Main metric (macro_f1): 0.6200 Time: 0.95s\n",
      "ES Module Best: 0.5635540157825023, BadEpochs: 0\n",
      "Epoch 3/39\n",
      "----------\n",
      "train Loss: 0.5777 Main metric (macro_f1): 0.5606 Time: 9.26s\n",
      "test Loss: 0.4831 Main metric (macro_f1): 0.6676 Time: 0.95s\n",
      "ES Module Best: 0.4831289925553777, BadEpochs: 0\n",
      "Epoch 4/39\n",
      "----------\n",
      "train Loss: 0.4944 Main metric (macro_f1): 0.6270 Time: 9.25s\n",
      "test Loss: 0.4176 Main metric (macro_f1): 0.6846 Time: 0.95s\n",
      "ES Module Best: 0.417591897395996, BadEpochs: 0\n",
      "Epoch 5/39\n",
      "----------\n",
      "train Loss: 0.4621 Main metric (macro_f1): 0.6518 Time: 9.24s\n",
      "test Loss: 0.3901 Main metric (macro_f1): 0.6901 Time: 0.96s\n",
      "ES Module Best: 0.39006025485090307, BadEpochs: 0\n",
      "Epoch 6/39\n",
      "----------\n",
      "train Loss: 0.4183 Main metric (macro_f1): 0.6957 Time: 9.27s\n",
      "test Loss: 0.3611 Main metric (macro_f1): 0.6846 Time: 0.95s\n",
      "ES Module Best: 0.36113852499662574, BadEpochs: 0\n",
      "Epoch 7/39\n",
      "----------\n",
      "train Loss: 0.3805 Main metric (macro_f1): 0.7555 Time: 9.25s\n",
      "test Loss: 0.3439 Main metric (macro_f1): 0.6873 Time: 0.95s\n",
      "ES Module Best: 0.34387269562429135, BadEpochs: 0\n",
      "Epoch 8/39\n",
      "----------\n",
      "train Loss: 0.3502 Main metric (macro_f1): 0.7966 Time: 9.23s\n",
      "test Loss: 0.3340 Main metric (macro_f1): 0.7304 Time: 1.04s\n",
      "ES Module Best: 0.33396175915414505, BadEpochs: 0\n",
      "Epoch 9/39\n",
      "----------\n",
      "train Loss: 0.3229 Main metric (macro_f1): 0.8152 Time: 9.21s\n",
      "test Loss: 0.3198 Main metric (macro_f1): 0.7625 Time: 1.04s\n",
      "ES Module Best: 0.3197822634790753, BadEpochs: 0\n",
      "Epoch 10/39\n",
      "----------\n",
      "train Loss: 0.2973 Main metric (macro_f1): 0.8428 Time: 9.23s\n",
      "test Loss: 0.3067 Main metric (macro_f1): 0.7749 Time: 0.95s\n",
      "ES Module Best: 0.30671349396039777, BadEpochs: 0\n",
      "Epoch 11/39\n",
      "----------\n",
      "train Loss: 0.2757 Main metric (macro_f1): 0.8617 Time: 9.27s\n",
      "test Loss: 0.3076 Main metric (macro_f1): 0.7942 Time: 0.96s\n",
      "ES Module Best: 0.30671349396039777, BadEpochs: 1\n",
      "Epoch 12/39\n",
      "----------\n",
      "train Loss: 0.2478 Main metric (macro_f1): 0.8862 Time: 9.22s\n",
      "test Loss: 0.3020 Main metric (macro_f1): 0.8209 Time: 0.94s\n",
      "ES Module Best: 0.3019931578600371, BadEpochs: 0\n",
      "Epoch 13/39\n",
      "----------\n",
      "train Loss: 0.2426 Main metric (macro_f1): 0.8968 Time: 9.22s\n",
      "test Loss: 0.2868 Main metric (macro_f1): 0.8160 Time: 0.95s\n",
      "ES Module Best: 0.28675657184095354, BadEpochs: 0\n",
      "Epoch 14/39\n",
      "----------\n",
      "train Loss: 0.2054 Main metric (macro_f1): 0.9234 Time: 9.25s\n",
      "test Loss: 0.2841 Main metric (macro_f1): 0.8056 Time: 1.05s\n",
      "ES Module Best: 0.28409650286396704, BadEpochs: 0\n",
      "Epoch 15/39\n",
      "----------\n",
      "train Loss: 0.1928 Main metric (macro_f1): 0.9256 Time: 9.21s\n",
      "test Loss: 0.2780 Main metric (macro_f1): 0.8226 Time: 1.04s\n",
      "ES Module Best: 0.2779837644493974, BadEpochs: 0\n",
      "Epoch 16/39\n",
      "----------\n",
      "train Loss: 0.1642 Main metric (macro_f1): 0.9473 Time: 9.57s\n",
      "test Loss: 0.2793 Main metric (macro_f1): 0.8093 Time: 0.98s\n",
      "ES Module Best: 0.2779837644493974, BadEpochs: 1\n",
      "Epoch 17/39\n",
      "----------\n",
      "train Loss: 0.1408 Main metric (macro_f1): 0.9523 Time: 9.73s\n",
      "test Loss: 0.2752 Main metric (macro_f1): 0.8360 Time: 1.06s\n",
      "ES Module Best: 0.2752332967501861, BadEpochs: 0\n",
      "Epoch 18/39\n",
      "----------\n",
      "train Loss: 0.1283 Main metric (macro_f1): 0.9578 Time: 10.05s\n",
      "test Loss: 0.2836 Main metric (macro_f1): 0.8245 Time: 1.02s\n",
      "ES Module Best: 0.2752332967501861, BadEpochs: 1\n",
      "Epoch 19/39\n",
      "----------\n",
      "train Loss: 0.1126 Main metric (macro_f1): 0.9785 Time: 10.01s\n",
      "test Loss: 0.2737 Main metric (macro_f1): 0.8351 Time: 1.13s\n",
      "ES Module Best: 0.27370408199749907, BadEpochs: 0\n",
      "Epoch 20/39\n",
      "----------\n",
      "train Loss: 0.1028 Main metric (macro_f1): 0.9758 Time: 10.21s\n",
      "test Loss: 0.2760 Main metric (macro_f1): 0.8248 Time: 1.15s\n",
      "ES Module Best: 0.27370408199749907, BadEpochs: 1\n",
      "Epoch 21/39\n",
      "----------\n",
      "train Loss: 0.0922 Main metric (macro_f1): 0.9829 Time: 10.32s\n",
      "test Loss: 0.2781 Main metric (macro_f1): 0.8282 Time: 1.13s\n",
      "ES Module Best: 0.27370408199749907, BadEpochs: 2\n",
      "Epoch 22/39\n",
      "----------\n",
      "train Loss: 0.0879 Main metric (macro_f1): 0.9795 Time: 10.00s\n",
      "test Loss: 0.2783 Main metric (macro_f1): 0.8225 Time: 1.06s\n",
      "ES Module Best: 0.27370408199749907, BadEpochs: 3\n",
      "Epoch 23/39\n",
      "----------\n",
      "train Loss: 0.0718 Main metric (macro_f1): 0.9857 Time: 10.17s\n",
      "test Loss: 0.2790 Main metric (macro_f1): 0.8404 Time: 1.06s\n",
      "ES Module Best: 0.27370408199749907, BadEpochs: 4\n",
      "Epoch 24/39\n",
      "----------\n",
      "train Loss: 0.0675 Main metric (macro_f1): 0.9860 Time: 10.17s\n",
      "test Loss: 0.2830 Main metric (macro_f1): 0.8343 Time: 1.05s\n",
      "ES Module Best: 0.27370408199749907, BadEpochs: 5\n",
      "Early stopping... Best Epoch: 19\n",
      "Training complete in 4m 32s\n",
      "Best test epoch loss: 0.273704\n",
      "Best test main metric: 0.840397\n",
      "------------------------- GENERAL METRICS -------------------------\n",
      "\n",
      "Loss 0.2737040882175033\n",
      "Micro Accuracy 0.9039039015769958\n",
      "Macro Accuracy 0.8350977301597595\n",
      "Macro Precision 0.835253119468689\n",
      "Macro Recall 0.8350977301597595\n",
      "Macro F1 0.8351136445999146\n",
      "\n",
      "------------------------- PER CLASS METRICS -------------------------\n"
     ]
    },
    {
     "data": {
      "text/html": [
       "<div>\n",
       "<style scoped>\n",
       "    .dataframe tbody tr th:only-of-type {\n",
       "        vertical-align: middle;\n",
       "    }\n",
       "\n",
       "    .dataframe tbody tr th {\n",
       "        vertical-align: top;\n",
       "    }\n",
       "\n",
       "    .dataframe thead th {\n",
       "        text-align: right;\n",
       "    }\n",
       "</style>\n",
       "<table border=\"1\" class=\"dataframe\">\n",
       "  <thead>\n",
       "    <tr style=\"text-align: right;\">\n",
       "      <th></th>\n",
       "      <th>class</th>\n",
       "      <th>precision</th>\n",
       "      <th>recall</th>\n",
       "      <th>f1</th>\n",
       "    </tr>\n",
       "  </thead>\n",
       "  <tbody>\n",
       "    <tr>\n",
       "      <th>0</th>\n",
       "      <td>paragolpe_delantero_roto</td>\n",
       "      <td>0.680851</td>\n",
       "      <td>0.666667</td>\n",
       "      <td>0.673684</td>\n",
       "    </tr>\n",
       "    <tr>\n",
       "      <th>1</th>\n",
       "      <td>paragolpe_delantero_sano</td>\n",
       "      <td>0.835165</td>\n",
       "      <td>0.853933</td>\n",
       "      <td>0.844444</td>\n",
       "    </tr>\n",
       "    <tr>\n",
       "      <th>2</th>\n",
       "      <td>no_paragolpe_delantero</td>\n",
       "      <td>0.989744</td>\n",
       "      <td>0.984694</td>\n",
       "      <td>0.987212</td>\n",
       "    </tr>\n",
       "  </tbody>\n",
       "</table>\n",
       "</div>"
      ],
      "text/plain": [
       "                      class  precision    recall        f1\n",
       "0  paragolpe_delantero_roto   0.680851  0.666667  0.673684\n",
       "1  paragolpe_delantero_sano   0.835165  0.853933  0.844444\n",
       "2    no_paragolpe_delantero   0.989744  0.984694  0.987212"
      ]
     },
     "metadata": {},
     "output_type": "display_data"
    },
    {
     "data": {
      "image/png": "[encoded data removed]",
      "text/plain": [
       "<Figure size 720x504 with 2 Axes>"
      ]
     },
     "metadata": {
      "needs_background": "light"
     },
     "output_type": "display_data"
    }
   ],
   "source": [
    "part = \"Paragolpe Delantero\"\n",
    "MODEL_NAME = \"one_part_model\"\n",
    "EXPERIMENT_NAME = \"resnet50_finetuning-paragolpedel-new-final-visibility\"\n",
    "\n",
    "main.train_one_part_model(\n",
    "    part, \n",
    "    preloaded_images, \n",
    "    MODEL_NAME, \n",
    "    EXPERIMENT_NAME, \n",
    "    device, \n",
    "    feature_extraction=False,\n",
    "    train_ratio=0.8,\n",
    "    random_state=42,\n",
    "    num_epochs=40,\n",
    "    visibility_file=\"./dataset_modules/analisis_manual_paragolpe.csv\"\n",
    ")"
   ]
  },
  {
   "cell_type": "code",
   "execution_count": null,
   "id": "36052d4b-0467-43a5-a04f-0d68e8de8190",
   "metadata": {},
   "outputs": [],
   "source": []
  }
 ],
 "metadata": {
  "kernelspec": {
   "display_name": "Python 3 (ipykernel)",
   "language": "python",
   "name": "python3"
  },
  "language_info": {
   "codemirror_mode": {
    "name": "ipython",
    "version": 3
   },
   "file_extension": ".py",
   "mimetype": "text/x-python",
   "name": "python",
   "nbconvert_exporter": "python",
   "pygments_lexer": "ipython3",
   "version": "3.9.7"
  }
 },
 "nbformat": 4,
 "nbformat_minor": 5
}
