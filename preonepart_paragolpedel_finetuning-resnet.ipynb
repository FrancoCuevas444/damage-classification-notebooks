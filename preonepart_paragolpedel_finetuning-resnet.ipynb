{
 "cells": [
  {
   "cell_type": "markdown",
   "id": "14008902-6e3e-4112-bafa-9b3a9d5f2529",
   "metadata": {
    "jp-MarkdownHeadingCollapsed": true,
    "tags": []
   },
   "source": [
    "## Introducción\n",
    "\n",
    "Entrenamiento de modelo preentrenado para resolver el problema de predecir el ángulo del auto en base a la imagen.\n",
    "\n",
    "Fuertemente basado en:\n",
    "- https://towardsdatascience.com/a-practical-example-in-transfer-learning-with-pytorch-846bb835f2db\n",
    "- https://pytorch.org/tutorials/beginner/transfer_learning_tutorial.html "
   ]
  },
  {
   "cell_type": "markdown",
   "id": "86f16c12-cf8c-4db2-9d6d-c0b99b03efcd",
   "metadata": {},
   "source": [
    "## Imports"
   ]
  },
  {
   "cell_type": "code",
   "execution_count": 10,
   "id": "77316db9-9ea9-4fb0-9b5c-fbfff89a2e0d",
   "metadata": {
    "tags": []
   },
   "outputs": [
    {
     "data": {
      "text/plain": [
       "<module 'main' from '/clusteruy/home/franco.cuevas/tesis-jupyters-2/main.py'>"
      ]
     },
     "execution_count": 10,
     "metadata": {},
     "output_type": "execute_result"
    }
   ],
   "source": [
    "import torch\n",
    "import dataset_modules.image_preloader as image_preloader\n",
    "import main\n",
    "import importlib\n",
    "\n",
    "importlib.reload(main)"
   ]
  },
  {
   "cell_type": "markdown",
   "id": "7689a1f9-cd38-4223-b0dd-84f6a81b2f16",
   "metadata": {},
   "source": [
    "## Variables"
   ]
  },
  {
   "cell_type": "code",
   "execution_count": 14,
   "id": "39af4ad1-f511-49a7-afff-d3cb96f91846",
   "metadata": {
    "tags": []
   },
   "outputs": [
    {
     "name": "stdout",
     "output_type": "stream",
     "text": [
      "Usando GPU!\n"
     ]
    }
   ],
   "source": [
    "part = \"Paragolpe Delantero\"\n",
    "FEATURE_EXTRACTION = False\n",
    "\n",
    "device_string = \"cuda\" if torch.cuda.is_available() else \"cpu\"\n",
    "device = torch.device(device_string)\n",
    "\n",
    "if device_string == \"cuda\":\n",
    "    print(\"Usando GPU!\")"
   ]
  },
  {
   "cell_type": "code",
   "execution_count": 12,
   "id": "57fca4bd-09c5-4a09-9f2f-c40bb5c4634c",
   "metadata": {},
   "outputs": [
    {
     "name": "stdout",
     "output_type": "stream",
     "text": [
      "Started to preload images...\n",
      "Image preloading complete in 1m 15s\n",
      "The preloaded images use 0.07039642333984375MB of memory\n"
     ]
    }
   ],
   "source": [
    "# preload images\n",
    "preloaded_images = image_preloader.preload_images(\n",
    "        images_folder='./dataset_modules/imgs/', \n",
    "        state_file='./dataset_modules/state.json', \n",
    "        resize_to=224\n",
    ")"
   ]
  },
  {
   "cell_type": "code",
   "execution_count": 15,
   "id": "24cdce21-0802-453d-b8ac-aa7be8291c75",
   "metadata": {
    "collapsed": true,
    "jupyter": {
     "outputs_hidden": true
    },
    "tags": []
   },
   "outputs": [
    {
     "name": "stdout",
     "output_type": "stream",
     "text": [
      "----- CLASS DISTRIBUTION -----\n",
      "Class: no_paragolpe_delantero, #916, 55.02%\n",
      "Class: paragolpe_delantero_roto, #407, 24.44%\n",
      "Class: paragolpe_delantero_sano, #342, 20.54%\n",
      "#TRAIN 1332 #TEST 333\n",
      "Epoch 0/39\n",
      "----------\n",
      "train Loss: 0.9803 Main metric (macro_f1): 0.2652 Time: 9.20s\n",
      "test Loss: 0.8544 Main metric (macro_f1): 0.2998 Time: 0.94s\n",
      "Epoch 1/39\n",
      "----------\n",
      "train Loss: 0.8298 Main metric (macro_f1): 0.3773 Time: 9.18s\n",
      "test Loss: 0.7182 Main metric (macro_f1): 0.4936 Time: 0.94s\n",
      "ES Module Best: 0.7182032093629465, BadEpochs: 0\n",
      "Epoch 2/39\n",
      "----------\n",
      "train Loss: 0.6946 Main metric (macro_f1): 0.5675 Time: 9.23s\n",
      "test Loss: 0.6018 Main metric (macro_f1): 0.6842 Time: 0.96s\n",
      "ES Module Best: 0.6018093980110444, BadEpochs: 0\n",
      "Epoch 3/39\n",
      "----------\n",
      "train Loss: 0.5930 Main metric (macro_f1): 0.6456 Time: 9.27s\n",
      "test Loss: 0.5230 Main metric (macro_f1): 0.5490 Time: 0.96s\n",
      "ES Module Best: 0.5230107554444322, BadEpochs: 0\n",
      "Epoch 4/39\n",
      "----------\n",
      "train Loss: 0.5153 Main metric (macro_f1): 0.6945 Time: 9.25s\n",
      "test Loss: 0.4579 Main metric (macro_f1): 0.6325 Time: 0.94s\n",
      "ES Module Best: 0.45786114372648634, BadEpochs: 0\n",
      "Epoch 5/39\n",
      "----------\n",
      "train Loss: 0.4615 Main metric (macro_f1): 0.7414 Time: 9.20s\n",
      "test Loss: 0.4253 Main metric (macro_f1): 0.7355 Time: 0.94s\n",
      "ES Module Best: 0.42526126552272486, BadEpochs: 0\n",
      "Epoch 6/39\n",
      "----------\n",
      "train Loss: 0.4302 Main metric (macro_f1): 0.7527 Time: 9.20s\n",
      "test Loss: 0.4082 Main metric (macro_f1): 0.7309 Time: 0.95s\n",
      "ES Module Best: 0.40822564052031923, BadEpochs: 0\n",
      "Epoch 7/39\n",
      "----------\n",
      "train Loss: 0.3946 Main metric (macro_f1): 0.7985 Time: 9.54s\n",
      "test Loss: 0.3892 Main metric (macro_f1): 0.6992 Time: 0.97s\n",
      "ES Module Best: 0.3891776996152895, BadEpochs: 0\n",
      "Epoch 8/39\n",
      "----------\n",
      "train Loss: 0.3690 Main metric (macro_f1): 0.8067 Time: 9.87s\n",
      "test Loss: 0.3741 Main metric (macro_f1): 0.6959 Time: 1.00s\n",
      "ES Module Best: 0.3740983157007544, BadEpochs: 0\n",
      "Epoch 9/39\n",
      "----------\n",
      "train Loss: 0.3459 Main metric (macro_f1): 0.8311 Time: 10.52s\n",
      "test Loss: 0.3580 Main metric (macro_f1): 0.7716 Time: 1.07s\n",
      "ES Module Best: 0.3580372629759906, BadEpochs: 0\n",
      "Epoch 10/39\n",
      "----------\n",
      "train Loss: 0.3049 Main metric (macro_f1): 0.8719 Time: 10.75s\n",
      "test Loss: 0.3504 Main metric (macro_f1): 0.7107 Time: 1.05s\n",
      "ES Module Best: 0.3503784497489442, BadEpochs: 0\n",
      "Epoch 11/39\n",
      "----------\n",
      "train Loss: 0.2934 Main metric (macro_f1): 0.8689 Time: 10.33s\n",
      "test Loss: 0.3471 Main metric (macro_f1): 0.7474 Time: 1.05s\n",
      "ES Module Best: 0.34711961703257516, BadEpochs: 0\n",
      "Epoch 12/39\n",
      "----------\n",
      "train Loss: 0.2684 Main metric (macro_f1): 0.8971 Time: 10.39s\n",
      "test Loss: 0.3398 Main metric (macro_f1): 0.7322 Time: 1.06s\n",
      "ES Module Best: 0.3398305130255473, BadEpochs: 0\n",
      "Epoch 13/39\n",
      "----------\n",
      "train Loss: 0.2524 Main metric (macro_f1): 0.9064 Time: 10.96s\n",
      "test Loss: 0.3344 Main metric (macro_f1): 0.7450 Time: 1.07s\n",
      "ES Module Best: 0.33443318956249113, BadEpochs: 0\n",
      "Epoch 14/39\n",
      "----------\n",
      "train Loss: 0.2191 Main metric (macro_f1): 0.9260 Time: 10.88s\n",
      "test Loss: 0.3360 Main metric (macro_f1): 0.7368 Time: 1.02s\n",
      "ES Module Best: 0.33443318956249113, BadEpochs: 1\n",
      "Epoch 15/39\n",
      "----------\n",
      "train Loss: 0.2050 Main metric (macro_f1): 0.9294 Time: 10.31s\n",
      "test Loss: 0.3357 Main metric (macro_f1): 0.7432 Time: 1.04s\n",
      "ES Module Best: 0.33443318956249113, BadEpochs: 2\n",
      "Epoch 16/39\n",
      "----------\n",
      "train Loss: 0.1784 Main metric (macro_f1): 0.9530 Time: 10.51s\n",
      "test Loss: 0.3337 Main metric (macro_f1): 0.7402 Time: 1.06s\n",
      "ES Module Best: 0.3336568976844753, BadEpochs: 0\n",
      "Epoch 17/39\n",
      "----------\n",
      "train Loss: 0.1567 Main metric (macro_f1): 0.9648 Time: 11.38s\n",
      "test Loss: 0.3297 Main metric (macro_f1): 0.7570 Time: 1.02s\n",
      "ES Module Best: 0.32965439558029175, BadEpochs: 0\n",
      "Epoch 18/39\n",
      "----------\n",
      "train Loss: 0.1433 Main metric (macro_f1): 0.9793 Time: 10.73s\n",
      "test Loss: 0.3354 Main metric (macro_f1): 0.7402 Time: 1.01s\n",
      "ES Module Best: 0.32965439558029175, BadEpochs: 1\n",
      "Epoch 19/39\n",
      "----------\n",
      "train Loss: 0.1353 Main metric (macro_f1): 0.9714 Time: 10.51s\n",
      "test Loss: 0.3346 Main metric (macro_f1): 0.7610 Time: 1.04s\n",
      "ES Module Best: 0.32965439558029175, BadEpochs: 2\n",
      "Epoch 20/39\n",
      "----------\n",
      "train Loss: 0.1198 Main metric (macro_f1): 0.9805 Time: 11.83s\n",
      "test Loss: 0.3383 Main metric (macro_f1): 0.7287 Time: 1.04s\n",
      "ES Module Best: 0.32965439558029175, BadEpochs: 3\n",
      "Epoch 21/39\n",
      "----------\n",
      "train Loss: 0.1032 Main metric (macro_f1): 0.9823 Time: 10.40s\n",
      "test Loss: 0.3481 Main metric (macro_f1): 0.7381 Time: 1.05s\n",
      "ES Module Best: 0.32965439558029175, BadEpochs: 4\n",
      "Epoch 22/39\n",
      "----------\n",
      "train Loss: 0.0942 Main metric (macro_f1): 0.9877 Time: 11.23s\n",
      "test Loss: 0.3404 Main metric (macro_f1): 0.7455 Time: 1.06s\n",
      "ES Module Best: 0.32965439558029175, BadEpochs: 5\n",
      "Early stopping... Best Epoch: 17\n",
      "Training complete in 4m 25s\n",
      "Best test epoch loss: 0.329654\n",
      "Best test main metric: 0.771564\n",
      "------------------------- GENERAL METRICS -------------------------\n",
      "\n",
      "Loss 0.3296544136585774\n",
      "Micro Accuracy 0.8408408164978027\n",
      "Macro Accuracy 0.7581918239593506\n",
      "Macro Precision 0.7561082243919373\n",
      "Macro Recall 0.7581918239593506\n",
      "Macro F1 0.7569937705993652\n",
      "\n",
      "------------------------- PER CLASS METRICS -------------------------\n"
     ]
    },
    {
     "data": {
      "text/html": [
       "<div>\n",
       "<style scoped>\n",
       "    .dataframe tbody tr th:only-of-type {\n",
       "        vertical-align: middle;\n",
       "    }\n",
       "\n",
       "    .dataframe tbody tr th {\n",
       "        vertical-align: top;\n",
       "    }\n",
       "\n",
       "    .dataframe thead th {\n",
       "        text-align: right;\n",
       "    }\n",
       "</style>\n",
       "<table border=\"1\" class=\"dataframe\">\n",
       "  <thead>\n",
       "    <tr style=\"text-align: right;\">\n",
       "      <th></th>\n",
       "      <th>class</th>\n",
       "      <th>precision</th>\n",
       "      <th>recall</th>\n",
       "      <th>f1</th>\n",
       "    </tr>\n",
       "  </thead>\n",
       "  <tbody>\n",
       "    <tr>\n",
       "      <th>0</th>\n",
       "      <td>paragolpe_delantero_roto</td>\n",
       "      <td>0.661972</td>\n",
       "      <td>0.643836</td>\n",
       "      <td>0.652778</td>\n",
       "    </tr>\n",
       "    <tr>\n",
       "      <th>1</th>\n",
       "      <td>paragolpe_delantero_sano</td>\n",
       "      <td>0.626866</td>\n",
       "      <td>0.656250</td>\n",
       "      <td>0.641221</td>\n",
       "    </tr>\n",
       "    <tr>\n",
       "      <th>2</th>\n",
       "      <td>no_paragolpe_delantero</td>\n",
       "      <td>0.979487</td>\n",
       "      <td>0.974490</td>\n",
       "      <td>0.976982</td>\n",
       "    </tr>\n",
       "  </tbody>\n",
       "</table>\n",
       "</div>"
      ],
      "text/plain": [
       "                      class  precision    recall        f1\n",
       "0  paragolpe_delantero_roto   0.661972  0.643836  0.652778\n",
       "1  paragolpe_delantero_sano   0.626866  0.656250  0.641221\n",
       "2    no_paragolpe_delantero   0.979487  0.974490  0.976982"
      ]
     },
     "metadata": {},
     "output_type": "display_data"
    },
    {
     "data": {
      "image/png": "[encoded data removed]",
      "text/plain": [
       "<Figure size 720x504 with 2 Axes>"
      ]
     },
     "metadata": {
      "needs_background": "light"
     },
     "output_type": "display_data"
    }
   ],
   "source": [
    "MODEL_NAME = \"one_part_model\"\n",
    "EXPERIMENT_NAME = \"resnet50_paragolpe_fine_tuning-new-final\"\n",
    "\n",
    "main.train_one_part_model(\n",
    "    part, \n",
    "    preloaded_images, \n",
    "    MODEL_NAME, \n",
    "    EXPERIMENT_NAME, \n",
    "    device, \n",
    "    feature_extraction=False,\n",
    "    train_ratio=0.8,\n",
    "    random_state=42,\n",
    "    num_epochs=40,\n",
    "    ignore_repair=True\n",
    ")"
   ]
  },
  {
   "cell_type": "code",
   "execution_count": null,
   "id": "630da6f3-f547-4154-89af-b5e63b4e0b4b",
   "metadata": {},
   "outputs": [],
   "source": [
    "MODEL_NAME = \"one_part_model\"\n",
    "EXPERIMENT_NAME = \"resnet50_paragolpe_fine_tuning-new-final\"\n",
    "\n",
    "main.train_one_part_model(\n",
    "    part, \n",
    "    preloaded_images, \n",
    "    MODEL_NAME, \n",
    "    EXPERIMENT_NAME, \n",
    "    device, \n",
    "    feature_extraction=False,\n",
    "    train_ratio=0.8,\n",
    "    random_state=42,\n",
    "    num_epochs=40,\n",
    "    ignore_repair=True\n",
    ")"
   ]
  }
 ],
 "metadata": {
  "kernelspec": {
   "display_name": "Python 3 (ipykernel)",
   "language": "python",
   "name": "python3"
  },
  "language_info": {
   "codemirror_mode": {
    "name": "ipython",
    "version": 3
   },
   "file_extension": ".py",
   "mimetype": "text/x-python",
   "name": "python",
   "nbconvert_exporter": "python",
   "pygments_lexer": "ipython3",
   "version": "3.9.7"
  }
 },
 "nbformat": 4,
 "nbformat_minor": 5
}
