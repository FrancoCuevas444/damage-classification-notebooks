{
 "cells": [
  {
   "cell_type": "markdown",
   "id": "14008902-6e3e-4112-bafa-9b3a9d5f2529",
   "metadata": {
    "tags": []
   },
   "source": [
    "## Introducción\n",
    "\n",
    "Entrenamiento de modelo preentrenado para resolver el problema de predecir el ángulo del auto en base a la imagen.\n",
    "\n",
    "Fuertemente basado en:\n",
    "- https://towardsdatascience.com/a-practical-example-in-transfer-learning-with-pytorch-846bb835f2db\n",
    "- https://pytorch.org/tutorials/beginner/transfer_learning_tutorial.html "
   ]
  },
  {
   "cell_type": "markdown",
   "id": "86f16c12-cf8c-4db2-9d6d-c0b99b03efcd",
   "metadata": {},
   "source": [
    "## Imports"
   ]
  },
  {
   "cell_type": "code",
   "execution_count": 6,
   "id": "77316db9-9ea9-4fb0-9b5c-fbfff89a2e0d",
   "metadata": {
    "tags": []
   },
   "outputs": [],
   "source": [
    "import torch\n",
    "import dataset_modules.image_preloader as image_preloader\n",
    "import main\n",
    "import importlib\n",
    "import dataset_modules.preloaded_one_part_dataset as popd\n",
    "\n",
    "importlib.reload(main)\n",
    "importlib.reload(popd)\n",
    "\n",
    "import sklearn\n",
    "import dataset_modules.common as common\n",
    "import dataset_modules.preloaded_one_part_dataset as popd\n",
    "importlib.reload(popd)\n",
    "importlib.reload(common)\n",
    "\n",
    "import torchvision.transforms as transforms"
   ]
  },
  {
   "cell_type": "markdown",
   "id": "7689a1f9-cd38-4223-b0dd-84f6a81b2f16",
   "metadata": {},
   "source": [
    "## Variables"
   ]
  },
  {
   "cell_type": "code",
   "execution_count": 2,
   "id": "39af4ad1-f511-49a7-afff-d3cb96f91846",
   "metadata": {
    "tags": []
   },
   "outputs": [
    {
     "name": "stdout",
     "output_type": "stream",
     "text": [
      "Usando GPU!\n"
     ]
    }
   ],
   "source": [
    "FEATURE_EXTRACTION = False\n",
    "\n",
    "device_string = \"cuda\" if torch.cuda.is_available() else \"cpu\"\n",
    "device = torch.device(device_string)\n",
    "\n",
    "if device_string == \"cuda\":\n",
    "    print(\"Usando GPU!\")"
   ]
  },
  {
   "cell_type": "code",
   "execution_count": 3,
   "id": "57fca4bd-09c5-4a09-9f2f-c40bb5c4634c",
   "metadata": {},
   "outputs": [
    {
     "name": "stdout",
     "output_type": "stream",
     "text": [
      "Started to preload images...\n",
      "Image preloading complete in 1m 30s\n",
      "The preloaded images use 0.07039642333984375MB of memory\n"
     ]
    }
   ],
   "source": [
    "# preload images\n",
    "preloaded_images = image_preloader.preload_images(\n",
    "        images_folder='./dataset_modules/imgs/', \n",
    "        state_file='./dataset_modules/state.json', \n",
    "        resize_to=224\n",
    ")"
   ]
  },
  {
   "cell_type": "code",
   "execution_count": 7,
   "id": "8a4faa3b-e934-48ac-bf67-b38e76e78c96",
   "metadata": {},
   "outputs": [
    {
     "name": "stdout",
     "output_type": "stream",
     "text": [
      "----- CLASS DISTRIBUTION -----\n",
      "Class: capot_sano, #601, 80.24%\n",
      "Class: capot_roto, #148, 19.76%\n"
     ]
    },
    {
     "data": {
      "text/plain": [
       "'dataset = popd.PreloadedOnePartDataset(\\n    part,\\n    preloaded_images,\\n    data_augmentation=data_augmentation,\\n    class_to_augment=0,\\n    remove_not_visible=True,\\n    ignore_repair=True\\n)\\n\\n'"
      ]
     },
     "execution_count": 7,
     "metadata": {},
     "output_type": "execute_result"
    }
   ],
   "source": [
    "import random\n",
    "import numpy as np\n",
    "\n",
    "random_state=42\n",
    "\n",
    "torch.manual_seed(random_state)\n",
    "random.seed(random_state)\n",
    "np.random.seed(random_state)\n",
    "\n",
    "part = \"Capot\"\n",
    "MODEL_NAME = \"one_part_model-capot\"\n",
    "EXPERIMENT_NAME = \"resnet50_capot_augment\"\n",
    "\n",
    "data_augmentation=transforms.Compose([\n",
    "        #transforms.ColorJitter(0.3, 0.3, 0.3, 0.3),\n",
    "        #transforms.RandomRotation((-45, 45))\n",
    "        #transforms.ColorJitter(0.5, 0.5, 0.5, 0.5),\n",
    "        #transforms.RandomApply([transforms.RandomRotation((-20, 20))], p=0.2),\n",
    "        #transforms.RandomEqualize(),\n",
    "        transforms.RandomHorizontalFlip(p=0.5),\n",
    "    ])\n",
    "\n",
    "dataset = popd.PreloadedOnePartDataset(\n",
    "    part,\n",
    "    preloaded_images,\n",
    "    remove_not_visible=True,\n",
    "    ignore_repair=True,\n",
    ")\n",
    "\n",
    "y = [y_s for (_,y_s,_) in dataset.samples]\n",
    "balanced_weights = sklearn.utils.class_weight.compute_class_weight('balanced', classes=[0,1], y=y)\n",
    "balanced_weights = torch.tensor(balanced_weights,dtype=torch.float)\n",
    "\n",
    "\"\"\"dataset = popd.PreloadedOnePartDataset(\n",
    "    part,\n",
    "    preloaded_images,\n",
    "    data_augmentation=data_augmentation,\n",
    "    class_to_augment=0,\n",
    "    remove_not_visible=True,\n",
    "    ignore_repair=True\n",
    ")\n",
    "\n",
    "\"\"\""
   ]
  },
  {
   "cell_type": "code",
   "execution_count": 8,
   "id": "88920060-857e-409a-83ee-e2d0109b014e",
   "metadata": {},
   "outputs": [
    {
     "name": "stdout",
     "output_type": "stream",
     "text": [
      "LOAD TRAIN\n",
      "----- CLASS DISTRIBUTION -----\n",
      "Class: capot_sano, #490, 80.07%\n",
      "Class: capot_roto, #122, 19.93%\n",
      "LOAD TEST\n",
      "----- CLASS DISTRIBUTION -----\n",
      "Class: capot_sano, #111, 81.02%\n",
      "Class: capot_roto, #26, 18.98%\n",
      "#TRAIN 612 #TEST 137\n",
      "Epoch 0/39\n",
      "----------\n",
      "train Loss: 0.6948 Main metric (macro_f1): 0.4917 Time: 4.97s\n",
      "test Loss: 0.6926 Main metric (macro_f1): 0.4794 Time: 0.46s\n",
      "Epoch 1/39\n",
      "----------\n",
      "train Loss: 0.6644 Main metric (macro_f1): 0.5611 Time: 4.51s\n",
      "test Loss: 0.7042 Main metric (macro_f1): 0.4476 Time: 0.47s\n",
      "ES Module Best: 0.6926496050653667, BadEpochs: 1\n",
      "Epoch 2/39\n",
      "----------\n",
      "train Loss: 0.6333 Main metric (macro_f1): 0.6342 Time: 4.51s\n",
      "test Loss: 0.6616 Main metric (macro_f1): 0.5565 Time: 0.47s\n",
      "ES Module Best: 0.6615803837776184, BadEpochs: 0\n",
      "Epoch 3/39\n",
      "----------\n",
      "train Loss: 0.6008 Main metric (macro_f1): 0.7295 Time: 4.51s\n",
      "test Loss: 0.6307 Main metric (macro_f1): 0.5933 Time: 0.46s\n",
      "ES Module Best: 0.6307234720592081, BadEpochs: 0\n",
      "Epoch 4/39\n",
      "----------\n",
      "train Loss: 0.5734 Main metric (macro_f1): 0.7291 Time: 4.49s\n",
      "test Loss: 0.6554 Main metric (macro_f1): 0.6462 Time: 0.47s\n",
      "ES Module Best: 0.6307234720592081, BadEpochs: 1\n",
      "Epoch 5/39\n",
      "----------\n",
      "train Loss: 0.5426 Main metric (macro_f1): 0.7785 Time: 4.48s\n",
      "test Loss: 0.6051 Main metric (macro_f1): 0.6421 Time: 0.45s\n",
      "ES Module Best: 0.6050556898117065, BadEpochs: 0\n",
      "Epoch 6/39\n",
      "----------\n",
      "train Loss: 0.4933 Main metric (macro_f1): 0.8203 Time: 4.49s\n",
      "test Loss: 0.5952 Main metric (macro_f1): 0.6507 Time: 0.46s\n",
      "ES Module Best: 0.5951566208888145, BadEpochs: 0\n",
      "Epoch 7/39\n",
      "----------\n",
      "train Loss: 0.4573 Main metric (macro_f1): 0.8204 Time: 4.52s\n",
      "test Loss: 0.6086 Main metric (macro_f1): 0.6907 Time: 0.46s\n",
      "ES Module Best: 0.5951566208888145, BadEpochs: 1\n",
      "Epoch 8/39\n",
      "----------\n",
      "train Loss: 0.4223 Main metric (macro_f1): 0.8701 Time: 4.48s\n",
      "test Loss: 0.5693 Main metric (macro_f1): 0.6748 Time: 0.46s\n",
      "ES Module Best: 0.5693452306037402, BadEpochs: 0\n",
      "Epoch 9/39\n",
      "----------\n",
      "train Loss: 0.3678 Main metric (macro_f1): 0.8909 Time: 4.49s\n",
      "test Loss: 0.5642 Main metric (macro_f1): 0.6805 Time: 0.45s\n",
      "ES Module Best: 0.5642138954496732, BadEpochs: 0\n",
      "Epoch 10/39\n",
      "----------\n",
      "train Loss: 0.3142 Main metric (macro_f1): 0.9316 Time: 4.49s\n",
      "test Loss: 0.5300 Main metric (macro_f1): 0.6938 Time: 0.46s\n",
      "ES Module Best: 0.530026869182169, BadEpochs: 0\n",
      "Epoch 11/39\n",
      "----------\n",
      "train Loss: 0.2828 Main metric (macro_f1): 0.9393 Time: 4.49s\n",
      "test Loss: 0.5664 Main metric (macro_f1): 0.6988 Time: 0.46s\n",
      "ES Module Best: 0.530026869182169, BadEpochs: 1\n",
      "Epoch 12/39\n",
      "----------\n",
      "train Loss: 0.2497 Main metric (macro_f1): 0.9467 Time: 4.51s\n",
      "test Loss: 0.5505 Main metric (macro_f1): 0.7156 Time: 0.46s\n",
      "ES Module Best: 0.530026869182169, BadEpochs: 2\n",
      "Epoch 13/39\n",
      "----------\n",
      "train Loss: 0.2101 Main metric (macro_f1): 0.9747 Time: 4.49s\n",
      "test Loss: 0.5827 Main metric (macro_f1): 0.7188 Time: 0.45s\n",
      "ES Module Best: 0.530026869182169, BadEpochs: 3\n",
      "Epoch 14/39\n",
      "----------\n",
      "train Loss: 0.1701 Main metric (macro_f1): 0.9820 Time: 4.48s\n",
      "test Loss: 0.5571 Main metric (macro_f1): 0.7208 Time: 0.45s\n",
      "ES Module Best: 0.530026869182169, BadEpochs: 4\n",
      "Epoch 15/39\n",
      "----------\n",
      "train Loss: 0.1530 Main metric (macro_f1): 0.9670 Time: 4.48s\n",
      "test Loss: 0.5645 Main metric (macro_f1): 0.7387 Time: 0.45s\n",
      "ES Module Best: 0.530026869182169, BadEpochs: 5\n",
      "Early stopping... Best Epoch: 10\n",
      "Training complete in 1m 25s\n",
      "Best test epoch loss: 0.530027\n",
      "Best test main metric: 0.738749\n",
      "------------------------- GENERAL METRICS -------------------------\n",
      "\n",
      "Loss 0.46946120740723435\n",
      "Micro Accuracy 0.7956204414367676\n",
      "Macro Accuracy 0.7118849754333496\n",
      "Macro Precision 0.6819940805435181\n",
      "Macro Recall 0.7118849754333496\n",
      "Macro F1 0.6938058137893677\n",
      "\n",
      "------------------------- PER CLASS METRICS -------------------------\n"
     ]
    },
    {
     "data": {
      "text/html": [
       "<div>\n",
       "<style scoped>\n",
       "    .dataframe tbody tr th:only-of-type {\n",
       "        vertical-align: middle;\n",
       "    }\n",
       "\n",
       "    .dataframe tbody tr th {\n",
       "        vertical-align: top;\n",
       "    }\n",
       "\n",
       "    .dataframe thead th {\n",
       "        text-align: right;\n",
       "    }\n",
       "</style>\n",
       "<table border=\"1\" class=\"dataframe\">\n",
       "  <thead>\n",
       "    <tr style=\"text-align: right;\">\n",
       "      <th></th>\n",
       "      <th>class</th>\n",
       "      <th>precision</th>\n",
       "      <th>recall</th>\n",
       "      <th>f1</th>\n",
       "    </tr>\n",
       "  </thead>\n",
       "  <tbody>\n",
       "    <tr>\n",
       "      <th>0</th>\n",
       "      <td>capot_roto</td>\n",
       "      <td>0.468750</td>\n",
       "      <td>0.576923</td>\n",
       "      <td>0.517241</td>\n",
       "    </tr>\n",
       "    <tr>\n",
       "      <th>1</th>\n",
       "      <td>capot_sano</td>\n",
       "      <td>0.895238</td>\n",
       "      <td>0.846847</td>\n",
       "      <td>0.870370</td>\n",
       "    </tr>\n",
       "  </tbody>\n",
       "</table>\n",
       "</div>"
      ],
      "text/plain": [
       "        class  precision    recall        f1\n",
       "0  capot_roto   0.468750  0.576923  0.517241\n",
       "1  capot_sano   0.895238  0.846847  0.870370"
      ]
     },
     "metadata": {},
     "output_type": "display_data"
    },
    {
     "data": {
      "image/png": "[encoded data removed]",
      "text/plain": [
       "<Figure size 720x504 with 2 Axes>"
      ]
     },
     "metadata": {
      "needs_background": "light"
     },
     "output_type": "display_data"
    }
   ],
   "source": [
    "main.train_one_part_model_dataugment(\n",
    "    part, \n",
    "    preloaded_images, \n",
    "    MODEL_NAME, \n",
    "    EXPERIMENT_NAME, \n",
    "    device, \n",
    "    feature_extraction=False,\n",
    "    train_ratio=0.8,\n",
    "    random_state=42,\n",
    "    num_epochs=40,\n",
    "    ignore_repair=True,\n",
    "    remove_not_visible=True,\n",
    "    data_augmentation=data_augmentation,\n",
    "    class_to_augment=0,\n",
    "    class_weights=balanced_weights,\n",
    ")"
   ]
  },
  {
   "cell_type": "code",
   "execution_count": null,
   "id": "261712db-2b05-46da-8667-ec2de145e13d",
   "metadata": {},
   "outputs": [],
   "source": []
  }
 ],
 "metadata": {
  "kernelspec": {
   "display_name": "Python 3 (ipykernel)",
   "language": "python",
   "name": "python3"
  },
  "language_info": {
   "codemirror_mode": {
    "name": "ipython",
    "version": 3
   },
   "file_extension": ".py",
   "mimetype": "text/x-python",
   "name": "python",
   "nbconvert_exporter": "python",
   "pygments_lexer": "ipython3",
   "version": "3.9.7"
  }
 },
 "nbformat": 4,
 "nbformat_minor": 5
}
